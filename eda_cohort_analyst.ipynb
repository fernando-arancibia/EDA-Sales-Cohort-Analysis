{
 "cells": [
  {
   "cell_type": "markdown",
   "metadata": {},
   "source": [
    "# **EDA and Cohort analysis**"
   ]
  },
  {
   "cell_type": "markdown",
   "metadata": {},
   "source": [
    "### In the following notebook, the analysis of a set of data related to sales in a year is carried out with python libraries for data analysis such as pandas and plotly for data visualization. \n",
    "### The tasks are concentrated in two stages:\n",
    "* ### The first where exploratory data analysis and data cleaning is performed, and relevant information is generated for data analysis. \n",
    "* ### The second contemplates a cohort analysis where customer retention is analyzed in a certain period, which is very important for companies and their marketing strategies."
   ]
  },
  {
   "cell_type": "markdown",
   "metadata": {},
   "source": [
    "## 1. Exploratory data analyst (EDA)"
   ]
  },
  {
   "cell_type": "markdown",
   "metadata": {},
   "source": [
    "### 1.1 Import libraries"
   ]
  },
  {
   "cell_type": "code",
   "execution_count": 1,
   "metadata": {},
   "outputs": [],
   "source": [
    "import pandas as pd\n",
    "import numpy as np\n",
    "import plotly.express as px\n",
    "import seaborn as sns\n",
    "import matplotlib.pyplot as plt\n",
    "import matplotlib.colors as mcolors\n",
    "from operator import attrgetter"
   ]
  },
  {
   "cell_type": "markdown",
   "metadata": {},
   "source": [
    "### 1.2 Exploring and wrangling data"
   ]
  },
  {
   "cell_type": "code",
   "execution_count": 2,
   "metadata": {},
   "outputs": [
    {
     "data": {
      "text/html": [
       "<div>\n",
       "<style scoped>\n",
       "    .dataframe tbody tr th:only-of-type {\n",
       "        vertical-align: middle;\n",
       "    }\n",
       "\n",
       "    .dataframe tbody tr th {\n",
       "        vertical-align: top;\n",
       "    }\n",
       "\n",
       "    .dataframe thead th {\n",
       "        text-align: right;\n",
       "    }\n",
       "</style>\n",
       "<table border=\"1\" class=\"dataframe\">\n",
       "  <thead>\n",
       "    <tr style=\"text-align: right;\">\n",
       "      <th></th>\n",
       "      <th>invoice</th>\n",
       "      <th>date</th>\n",
       "      <th>id_Client</th>\n",
       "      <th>country</th>\n",
       "      <th>units</th>\n",
       "      <th>amount</th>\n",
       "    </tr>\n",
       "  </thead>\n",
       "  <tbody>\n",
       "    <tr>\n",
       "      <th>0</th>\n",
       "      <td>548370</td>\n",
       "      <td>3/30/2021 16:14:00</td>\n",
       "      <td>15528.0</td>\n",
       "      <td>United Kingdom</td>\n",
       "      <td>123</td>\n",
       "      <td>229,33</td>\n",
       "    </tr>\n",
       "    <tr>\n",
       "      <th>1</th>\n",
       "      <td>575767</td>\n",
       "      <td>11/11/2021 11:11:00</td>\n",
       "      <td>17348.0</td>\n",
       "      <td>United Kingdom</td>\n",
       "      <td>163</td>\n",
       "      <td>209,73</td>\n",
       "    </tr>\n",
       "    <tr>\n",
       "      <th>2</th>\n",
       "      <td>C570727</td>\n",
       "      <td>10/12/2021 11:32:00</td>\n",
       "      <td>12471.0</td>\n",
       "      <td>Germany</td>\n",
       "      <td>-1</td>\n",
       "      <td>-1,45</td>\n",
       "    </tr>\n",
       "    <tr>\n",
       "      <th>3</th>\n",
       "      <td>549106</td>\n",
       "      <td>4/6/2021 12:08:00</td>\n",
       "      <td>17045.0</td>\n",
       "      <td>United Kingdom</td>\n",
       "      <td>1</td>\n",
       "      <td>39,95</td>\n",
       "    </tr>\n",
       "    <tr>\n",
       "      <th>4</th>\n",
       "      <td>573112</td>\n",
       "      <td>10/27/2021 15:33:00</td>\n",
       "      <td>16416.0</td>\n",
       "      <td>United Kingdom</td>\n",
       "      <td>357</td>\n",
       "      <td>344,83</td>\n",
       "    </tr>\n",
       "    <tr>\n",
       "      <th>...</th>\n",
       "      <td>...</td>\n",
       "      <td>...</td>\n",
       "      <td>...</td>\n",
       "      <td>...</td>\n",
       "      <td>...</td>\n",
       "      <td>...</td>\n",
       "    </tr>\n",
       "    <tr>\n",
       "      <th>25948</th>\n",
       "      <td>C556518</td>\n",
       "      <td>6/13/2021 10:53:00</td>\n",
       "      <td>16794.0</td>\n",
       "      <td>United Kingdom</td>\n",
       "      <td>-2</td>\n",
       "      <td>-12,7</td>\n",
       "    </tr>\n",
       "    <tr>\n",
       "      <th>25949</th>\n",
       "      <td>553060</td>\n",
       "      <td>5/13/2021 10:44:00</td>\n",
       "      <td>15826.0</td>\n",
       "      <td>United Kingdom</td>\n",
       "      <td>488</td>\n",
       "      <td>720</td>\n",
       "    </tr>\n",
       "    <tr>\n",
       "      <th>25950</th>\n",
       "      <td>577049</td>\n",
       "      <td>11/17/2021 13:58:00</td>\n",
       "      <td>17397.0</td>\n",
       "      <td>United Kingdom</td>\n",
       "      <td>104</td>\n",
       "      <td>298,78</td>\n",
       "    </tr>\n",
       "    <tr>\n",
       "      <th>25951</th>\n",
       "      <td>550122</td>\n",
       "      <td>4/14/2021 12:39:00</td>\n",
       "      <td>12931.0</td>\n",
       "      <td>United Kingdom</td>\n",
       "      <td>1176</td>\n",
       "      <td>1488</td>\n",
       "    </tr>\n",
       "    <tr>\n",
       "      <th>25952</th>\n",
       "      <td>537999</td>\n",
       "      <td>12/9/2020 11:44:00</td>\n",
       "      <td>NaN</td>\n",
       "      <td>United Kingdom</td>\n",
       "      <td>-223</td>\n",
       "      <td>0</td>\n",
       "    </tr>\n",
       "  </tbody>\n",
       "</table>\n",
       "<p>25953 rows × 6 columns</p>\n",
       "</div>"
      ],
      "text/plain": [
       "       invoice                 date  id_Client         country  units  amount\n",
       "0       548370   3/30/2021 16:14:00    15528.0  United Kingdom    123  229,33\n",
       "1       575767  11/11/2021 11:11:00    17348.0  United Kingdom    163  209,73\n",
       "2      C570727  10/12/2021 11:32:00    12471.0         Germany     -1   -1,45\n",
       "3       549106    4/6/2021 12:08:00    17045.0  United Kingdom      1   39,95\n",
       "4       573112  10/27/2021 15:33:00    16416.0  United Kingdom    357  344,83\n",
       "...        ...                  ...        ...             ...    ...     ...\n",
       "25948  C556518   6/13/2021 10:53:00    16794.0  United Kingdom     -2   -12,7\n",
       "25949   553060   5/13/2021 10:44:00    15826.0  United Kingdom    488     720\n",
       "25950   577049  11/17/2021 13:58:00    17397.0  United Kingdom    104  298,78\n",
       "25951   550122   4/14/2021 12:39:00    12931.0  United Kingdom   1176    1488\n",
       "25952   537999   12/9/2020 11:44:00        NaN  United Kingdom   -223       0\n",
       "\n",
       "[25953 rows x 6 columns]"
      ]
     },
     "execution_count": 2,
     "metadata": {},
     "output_type": "execute_result"
    }
   ],
   "source": [
    "#read csv file\n",
    "df = pd.read_csv('C:/Users/Fernando/Documents/Repositories/cohort_analyst/invoice_sales.csv', sep=',')\n",
    "df"
   ]
  },
  {
   "cell_type": "code",
   "execution_count": 3,
   "metadata": {},
   "outputs": [
    {
     "data": {
      "text/plain": [
       "(25953, 6)"
      ]
     },
     "execution_count": 3,
     "metadata": {},
     "output_type": "execute_result"
    }
   ],
   "source": [
    "# Dimension of dataframe\n",
    "df.shape"
   ]
  },
  {
   "cell_type": "code",
   "execution_count": 4,
   "metadata": {},
   "outputs": [
    {
     "data": {
      "text/plain": [
       "invoice      25953\n",
       "date         25953\n",
       "id_Client    22229\n",
       "country      25953\n",
       "units        25953\n",
       "amount       25953\n",
       "dtype: int64"
      ]
     },
     "execution_count": 4,
     "metadata": {},
     "output_type": "execute_result"
    }
   ],
   "source": [
    "# Data count for each columns\n",
    "df.count()"
   ]
  },
  {
   "cell_type": "markdown",
   "metadata": {},
   "source": [
    "#### Exploring the data types we find that most of the data is of type object.This will make it difficult for us to group data analysis, so the data type must be changed in the following stages."
   ]
  },
  {
   "cell_type": "code",
   "execution_count": 5,
   "metadata": {},
   "outputs": [
    {
     "data": {
      "text/plain": [
       "invoice       object\n",
       "date          object\n",
       "id_Client    float64\n",
       "country       object\n",
       "units          int64\n",
       "amount        object\n",
       "dtype: object"
      ]
     },
     "execution_count": 5,
     "metadata": {},
     "output_type": "execute_result"
    }
   ],
   "source": [
    "# Data types\n",
    "df.dtypes"
   ]
  },
  {
   "cell_type": "code",
   "execution_count": 6,
   "metadata": {},
   "outputs": [
    {
     "data": {
      "text/plain": [
       "invoice         0\n",
       "date            0\n",
       "id_Client    3724\n",
       "country         0\n",
       "units           0\n",
       "amount          0\n",
       "dtype: int64"
      ]
     },
     "execution_count": 6,
     "metadata": {},
     "output_type": "execute_result"
    }
   ],
   "source": [
    "#Null values\n",
    "df.isnull().sum()"
   ]
  },
  {
   "cell_type": "code",
   "execution_count": 7,
   "metadata": {},
   "outputs": [],
   "source": [
    "#Drop null values from the dataframe\n",
    "df.dropna(inplace=True)"
   ]
  },
  {
   "cell_type": "markdown",
   "metadata": {},
   "source": [
    "#### In the dataframe there are negative data associated with units and amounts. These negative data are also associated with alphanumeric invoices, so it can be understood that these data correspond to returns or rejected transactions. These data make analysis difficult, so they are removed from the current dataframe."
   ]
  },
  {
   "cell_type": "code",
   "execution_count": 8,
   "metadata": {},
   "outputs": [
    {
     "data": {
      "text/html": [
       "<div>\n",
       "<style scoped>\n",
       "    .dataframe tbody tr th:only-of-type {\n",
       "        vertical-align: middle;\n",
       "    }\n",
       "\n",
       "    .dataframe tbody tr th {\n",
       "        vertical-align: top;\n",
       "    }\n",
       "\n",
       "    .dataframe thead th {\n",
       "        text-align: right;\n",
       "    }\n",
       "</style>\n",
       "<table border=\"1\" class=\"dataframe\">\n",
       "  <thead>\n",
       "    <tr style=\"text-align: right;\">\n",
       "      <th></th>\n",
       "      <th>invoice</th>\n",
       "      <th>date</th>\n",
       "      <th>id_Client</th>\n",
       "      <th>country</th>\n",
       "      <th>units</th>\n",
       "      <th>amount</th>\n",
       "    </tr>\n",
       "  </thead>\n",
       "  <tbody>\n",
       "    <tr>\n",
       "      <th>0</th>\n",
       "      <td>548370</td>\n",
       "      <td>3/30/2021 16:14:00</td>\n",
       "      <td>15528.0</td>\n",
       "      <td>United Kingdom</td>\n",
       "      <td>123</td>\n",
       "      <td>229,33</td>\n",
       "    </tr>\n",
       "    <tr>\n",
       "      <th>1</th>\n",
       "      <td>575767</td>\n",
       "      <td>11/11/2021 11:11:00</td>\n",
       "      <td>17348.0</td>\n",
       "      <td>United Kingdom</td>\n",
       "      <td>163</td>\n",
       "      <td>209,73</td>\n",
       "    </tr>\n",
       "    <tr>\n",
       "      <th>2</th>\n",
       "      <td>C570727</td>\n",
       "      <td>10/12/2021 11:32:00</td>\n",
       "      <td>12471.0</td>\n",
       "      <td>Germany</td>\n",
       "      <td>-1</td>\n",
       "      <td>-1,45</td>\n",
       "    </tr>\n",
       "    <tr>\n",
       "      <th>3</th>\n",
       "      <td>549106</td>\n",
       "      <td>4/6/2021 12:08:00</td>\n",
       "      <td>17045.0</td>\n",
       "      <td>United Kingdom</td>\n",
       "      <td>1</td>\n",
       "      <td>39,95</td>\n",
       "    </tr>\n",
       "    <tr>\n",
       "      <th>4</th>\n",
       "      <td>573112</td>\n",
       "      <td>10/27/2021 15:33:00</td>\n",
       "      <td>16416.0</td>\n",
       "      <td>United Kingdom</td>\n",
       "      <td>357</td>\n",
       "      <td>344,83</td>\n",
       "    </tr>\n",
       "    <tr>\n",
       "      <th>...</th>\n",
       "      <td>...</td>\n",
       "      <td>...</td>\n",
       "      <td>...</td>\n",
       "      <td>...</td>\n",
       "      <td>...</td>\n",
       "      <td>...</td>\n",
       "    </tr>\n",
       "    <tr>\n",
       "      <th>25947</th>\n",
       "      <td>C553519</td>\n",
       "      <td>5/17/2021 14:16:00</td>\n",
       "      <td>18218.0</td>\n",
       "      <td>United Kingdom</td>\n",
       "      <td>-2</td>\n",
       "      <td>-9,9</td>\n",
       "    </tr>\n",
       "    <tr>\n",
       "      <th>25948</th>\n",
       "      <td>C556518</td>\n",
       "      <td>6/13/2021 10:53:00</td>\n",
       "      <td>16794.0</td>\n",
       "      <td>United Kingdom</td>\n",
       "      <td>-2</td>\n",
       "      <td>-12,7</td>\n",
       "    </tr>\n",
       "    <tr>\n",
       "      <th>25949</th>\n",
       "      <td>553060</td>\n",
       "      <td>5/13/2021 10:44:00</td>\n",
       "      <td>15826.0</td>\n",
       "      <td>United Kingdom</td>\n",
       "      <td>488</td>\n",
       "      <td>720</td>\n",
       "    </tr>\n",
       "    <tr>\n",
       "      <th>25950</th>\n",
       "      <td>577049</td>\n",
       "      <td>11/17/2021 13:58:00</td>\n",
       "      <td>17397.0</td>\n",
       "      <td>United Kingdom</td>\n",
       "      <td>104</td>\n",
       "      <td>298,78</td>\n",
       "    </tr>\n",
       "    <tr>\n",
       "      <th>25951</th>\n",
       "      <td>550122</td>\n",
       "      <td>4/14/2021 12:39:00</td>\n",
       "      <td>12931.0</td>\n",
       "      <td>United Kingdom</td>\n",
       "      <td>1176</td>\n",
       "      <td>1488</td>\n",
       "    </tr>\n",
       "  </tbody>\n",
       "</table>\n",
       "<p>22229 rows × 6 columns</p>\n",
       "</div>"
      ],
      "text/plain": [
       "       invoice                 date  id_Client         country  units  amount\n",
       "0       548370   3/30/2021 16:14:00    15528.0  United Kingdom    123  229,33\n",
       "1       575767  11/11/2021 11:11:00    17348.0  United Kingdom    163  209,73\n",
       "2      C570727  10/12/2021 11:32:00    12471.0         Germany     -1   -1,45\n",
       "3       549106    4/6/2021 12:08:00    17045.0  United Kingdom      1   39,95\n",
       "4       573112  10/27/2021 15:33:00    16416.0  United Kingdom    357  344,83\n",
       "...        ...                  ...        ...             ...    ...     ...\n",
       "25947  C553519   5/17/2021 14:16:00    18218.0  United Kingdom     -2    -9,9\n",
       "25948  C556518   6/13/2021 10:53:00    16794.0  United Kingdom     -2   -12,7\n",
       "25949   553060   5/13/2021 10:44:00    15826.0  United Kingdom    488     720\n",
       "25950   577049  11/17/2021 13:58:00    17397.0  United Kingdom    104  298,78\n",
       "25951   550122   4/14/2021 12:39:00    12931.0  United Kingdom   1176    1488\n",
       "\n",
       "[22229 rows x 6 columns]"
      ]
     },
     "execution_count": 8,
     "metadata": {},
     "output_type": "execute_result"
    }
   ],
   "source": [
    "df"
   ]
  },
  {
   "cell_type": "code",
   "execution_count": 9,
   "metadata": {},
   "outputs": [],
   "source": [
    "# Create index from 'units' columns with values < 0\n",
    "index = df[df['units'] < 0 ].index"
   ]
  },
  {
   "cell_type": "code",
   "execution_count": 10,
   "metadata": {},
   "outputs": [
    {
     "data": {
      "text/html": [
       "<div>\n",
       "<style scoped>\n",
       "    .dataframe tbody tr th:only-of-type {\n",
       "        vertical-align: middle;\n",
       "    }\n",
       "\n",
       "    .dataframe tbody tr th {\n",
       "        vertical-align: top;\n",
       "    }\n",
       "\n",
       "    .dataframe thead th {\n",
       "        text-align: right;\n",
       "    }\n",
       "</style>\n",
       "<table border=\"1\" class=\"dataframe\">\n",
       "  <thead>\n",
       "    <tr style=\"text-align: right;\">\n",
       "      <th></th>\n",
       "      <th>invoice</th>\n",
       "      <th>date</th>\n",
       "      <th>id_Client</th>\n",
       "      <th>country</th>\n",
       "      <th>units</th>\n",
       "      <th>amount</th>\n",
       "    </tr>\n",
       "  </thead>\n",
       "  <tbody>\n",
       "    <tr>\n",
       "      <th>0</th>\n",
       "      <td>548370</td>\n",
       "      <td>3/30/2021 16:14:00</td>\n",
       "      <td>15528.0</td>\n",
       "      <td>United Kingdom</td>\n",
       "      <td>123</td>\n",
       "      <td>229,33</td>\n",
       "    </tr>\n",
       "    <tr>\n",
       "      <th>1</th>\n",
       "      <td>575767</td>\n",
       "      <td>11/11/2021 11:11:00</td>\n",
       "      <td>17348.0</td>\n",
       "      <td>United Kingdom</td>\n",
       "      <td>163</td>\n",
       "      <td>209,73</td>\n",
       "    </tr>\n",
       "    <tr>\n",
       "      <th>3</th>\n",
       "      <td>549106</td>\n",
       "      <td>4/6/2021 12:08:00</td>\n",
       "      <td>17045.0</td>\n",
       "      <td>United Kingdom</td>\n",
       "      <td>1</td>\n",
       "      <td>39,95</td>\n",
       "    </tr>\n",
       "    <tr>\n",
       "      <th>4</th>\n",
       "      <td>573112</td>\n",
       "      <td>10/27/2021 15:33:00</td>\n",
       "      <td>16416.0</td>\n",
       "      <td>United Kingdom</td>\n",
       "      <td>357</td>\n",
       "      <td>344,83</td>\n",
       "    </tr>\n",
       "    <tr>\n",
       "      <th>5</th>\n",
       "      <td>576630</td>\n",
       "      <td>11/16/2021 8:38:00</td>\n",
       "      <td>13816.0</td>\n",
       "      <td>Germany</td>\n",
       "      <td>91</td>\n",
       "      <td>199,98</td>\n",
       "    </tr>\n",
       "    <tr>\n",
       "      <th>...</th>\n",
       "      <td>...</td>\n",
       "      <td>...</td>\n",
       "      <td>...</td>\n",
       "      <td>...</td>\n",
       "      <td>...</td>\n",
       "      <td>...</td>\n",
       "    </tr>\n",
       "    <tr>\n",
       "      <th>25945</th>\n",
       "      <td>579252</td>\n",
       "      <td>11/28/2021 16:47:00</td>\n",
       "      <td>17450.0</td>\n",
       "      <td>United Kingdom</td>\n",
       "      <td>432</td>\n",
       "      <td>1034,4</td>\n",
       "    </tr>\n",
       "    <tr>\n",
       "      <th>25946</th>\n",
       "      <td>574908</td>\n",
       "      <td>11/7/2021 15:37:00</td>\n",
       "      <td>16009.0</td>\n",
       "      <td>United Kingdom</td>\n",
       "      <td>28</td>\n",
       "      <td>82,76</td>\n",
       "    </tr>\n",
       "    <tr>\n",
       "      <th>25949</th>\n",
       "      <td>553060</td>\n",
       "      <td>5/13/2021 10:44:00</td>\n",
       "      <td>15826.0</td>\n",
       "      <td>United Kingdom</td>\n",
       "      <td>488</td>\n",
       "      <td>720</td>\n",
       "    </tr>\n",
       "    <tr>\n",
       "      <th>25950</th>\n",
       "      <td>577049</td>\n",
       "      <td>11/17/2021 13:58:00</td>\n",
       "      <td>17397.0</td>\n",
       "      <td>United Kingdom</td>\n",
       "      <td>104</td>\n",
       "      <td>298,78</td>\n",
       "    </tr>\n",
       "    <tr>\n",
       "      <th>25951</th>\n",
       "      <td>550122</td>\n",
       "      <td>4/14/2021 12:39:00</td>\n",
       "      <td>12931.0</td>\n",
       "      <td>United Kingdom</td>\n",
       "      <td>1176</td>\n",
       "      <td>1488</td>\n",
       "    </tr>\n",
       "  </tbody>\n",
       "</table>\n",
       "<p>18570 rows × 6 columns</p>\n",
       "</div>"
      ],
      "text/plain": [
       "      invoice                 date  id_Client         country  units  amount\n",
       "0      548370   3/30/2021 16:14:00    15528.0  United Kingdom    123  229,33\n",
       "1      575767  11/11/2021 11:11:00    17348.0  United Kingdom    163  209,73\n",
       "3      549106    4/6/2021 12:08:00    17045.0  United Kingdom      1   39,95\n",
       "4      573112  10/27/2021 15:33:00    16416.0  United Kingdom    357  344,83\n",
       "5      576630   11/16/2021 8:38:00    13816.0         Germany     91  199,98\n",
       "...       ...                  ...        ...             ...    ...     ...\n",
       "25945  579252  11/28/2021 16:47:00    17450.0  United Kingdom    432  1034,4\n",
       "25946  574908   11/7/2021 15:37:00    16009.0  United Kingdom     28   82,76\n",
       "25949  553060   5/13/2021 10:44:00    15826.0  United Kingdom    488     720\n",
       "25950  577049  11/17/2021 13:58:00    17397.0  United Kingdom    104  298,78\n",
       "25951  550122   4/14/2021 12:39:00    12931.0  United Kingdom   1176    1488\n",
       "\n",
       "[18570 rows x 6 columns]"
      ]
     },
     "execution_count": 10,
     "metadata": {},
     "output_type": "execute_result"
    }
   ],
   "source": [
    "# drop the index with negative values \n",
    "df.drop(index , inplace=True)\n",
    "df"
   ]
  },
  {
   "cell_type": "code",
   "execution_count": 11,
   "metadata": {},
   "outputs": [
    {
     "data": {
      "text/html": [
       "<div>\n",
       "<style scoped>\n",
       "    .dataframe tbody tr th:only-of-type {\n",
       "        vertical-align: middle;\n",
       "    }\n",
       "\n",
       "    .dataframe tbody tr th {\n",
       "        vertical-align: top;\n",
       "    }\n",
       "\n",
       "    .dataframe thead th {\n",
       "        text-align: right;\n",
       "    }\n",
       "</style>\n",
       "<table border=\"1\" class=\"dataframe\">\n",
       "  <thead>\n",
       "    <tr style=\"text-align: right;\">\n",
       "      <th></th>\n",
       "      <th>invoice</th>\n",
       "      <th>date</th>\n",
       "      <th>id_Client</th>\n",
       "      <th>country</th>\n",
       "      <th>units</th>\n",
       "      <th>amount</th>\n",
       "    </tr>\n",
       "  </thead>\n",
       "  <tbody>\n",
       "    <tr>\n",
       "      <th>0</th>\n",
       "      <td>548370</td>\n",
       "      <td>3/30/2021 16:14:00</td>\n",
       "      <td>15528.0</td>\n",
       "      <td>United Kingdom</td>\n",
       "      <td>123</td>\n",
       "      <td>229,33</td>\n",
       "    </tr>\n",
       "    <tr>\n",
       "      <th>1</th>\n",
       "      <td>575767</td>\n",
       "      <td>11/11/2021 11:11:00</td>\n",
       "      <td>17348.0</td>\n",
       "      <td>United Kingdom</td>\n",
       "      <td>163</td>\n",
       "      <td>209,73</td>\n",
       "    </tr>\n",
       "    <tr>\n",
       "      <th>3</th>\n",
       "      <td>549106</td>\n",
       "      <td>4/6/2021 12:08:00</td>\n",
       "      <td>17045.0</td>\n",
       "      <td>United Kingdom</td>\n",
       "      <td>1</td>\n",
       "      <td>39,95</td>\n",
       "    </tr>\n",
       "    <tr>\n",
       "      <th>4</th>\n",
       "      <td>573112</td>\n",
       "      <td>10/27/2021 15:33:00</td>\n",
       "      <td>16416.0</td>\n",
       "      <td>United Kingdom</td>\n",
       "      <td>357</td>\n",
       "      <td>344,83</td>\n",
       "    </tr>\n",
       "    <tr>\n",
       "      <th>5</th>\n",
       "      <td>576630</td>\n",
       "      <td>11/16/2021 8:38:00</td>\n",
       "      <td>13816.0</td>\n",
       "      <td>Germany</td>\n",
       "      <td>91</td>\n",
       "      <td>199,98</td>\n",
       "    </tr>\n",
       "    <tr>\n",
       "      <th>...</th>\n",
       "      <td>...</td>\n",
       "      <td>...</td>\n",
       "      <td>...</td>\n",
       "      <td>...</td>\n",
       "      <td>...</td>\n",
       "      <td>...</td>\n",
       "    </tr>\n",
       "    <tr>\n",
       "      <th>25945</th>\n",
       "      <td>579252</td>\n",
       "      <td>11/28/2021 16:47:00</td>\n",
       "      <td>17450.0</td>\n",
       "      <td>United Kingdom</td>\n",
       "      <td>432</td>\n",
       "      <td>1034,4</td>\n",
       "    </tr>\n",
       "    <tr>\n",
       "      <th>25946</th>\n",
       "      <td>574908</td>\n",
       "      <td>11/7/2021 15:37:00</td>\n",
       "      <td>16009.0</td>\n",
       "      <td>United Kingdom</td>\n",
       "      <td>28</td>\n",
       "      <td>82,76</td>\n",
       "    </tr>\n",
       "    <tr>\n",
       "      <th>25949</th>\n",
       "      <td>553060</td>\n",
       "      <td>5/13/2021 10:44:00</td>\n",
       "      <td>15826.0</td>\n",
       "      <td>United Kingdom</td>\n",
       "      <td>488</td>\n",
       "      <td>720</td>\n",
       "    </tr>\n",
       "    <tr>\n",
       "      <th>25950</th>\n",
       "      <td>577049</td>\n",
       "      <td>11/17/2021 13:58:00</td>\n",
       "      <td>17397.0</td>\n",
       "      <td>United Kingdom</td>\n",
       "      <td>104</td>\n",
       "      <td>298,78</td>\n",
       "    </tr>\n",
       "    <tr>\n",
       "      <th>25951</th>\n",
       "      <td>550122</td>\n",
       "      <td>4/14/2021 12:39:00</td>\n",
       "      <td>12931.0</td>\n",
       "      <td>United Kingdom</td>\n",
       "      <td>1176</td>\n",
       "      <td>1488</td>\n",
       "    </tr>\n",
       "  </tbody>\n",
       "</table>\n",
       "<p>18570 rows × 6 columns</p>\n",
       "</div>"
      ],
      "text/plain": [
       "      invoice                 date  id_Client         country  units  amount\n",
       "0      548370   3/30/2021 16:14:00    15528.0  United Kingdom    123  229,33\n",
       "1      575767  11/11/2021 11:11:00    17348.0  United Kingdom    163  209,73\n",
       "3      549106    4/6/2021 12:08:00    17045.0  United Kingdom      1   39,95\n",
       "4      573112  10/27/2021 15:33:00    16416.0  United Kingdom    357  344,83\n",
       "5      576630   11/16/2021 8:38:00    13816.0         Germany     91  199,98\n",
       "...       ...                  ...        ...             ...    ...     ...\n",
       "25945  579252  11/28/2021 16:47:00    17450.0  United Kingdom    432  1034,4\n",
       "25946  574908   11/7/2021 15:37:00    16009.0  United Kingdom     28   82,76\n",
       "25949  553060   5/13/2021 10:44:00    15826.0  United Kingdom    488     720\n",
       "25950  577049  11/17/2021 13:58:00    17397.0  United Kingdom    104  298,78\n",
       "25951  550122   4/14/2021 12:39:00    12931.0  United Kingdom   1176    1488\n",
       "\n",
       "[18570 rows x 6 columns]"
      ]
     },
     "execution_count": 11,
     "metadata": {},
     "output_type": "execute_result"
    }
   ],
   "source": [
    "# Rename the clean dataframe to continue analisis\n",
    "sales = df\n",
    "sales"
   ]
  },
  {
   "cell_type": "code",
   "execution_count": 12,
   "metadata": {},
   "outputs": [],
   "source": [
    "# Format date time and create new time serie for visualizations\n",
    "sales['date'] = pd.to_datetime(sales['date']).dt.date\n",
    "sales['date'] = pd.to_datetime(sales.date, format='%Y-%m-%d %H:%M:%S')\n",
    "sales['order_month'] = sales['date'].dt.to_period('M')\n",
    "sales['order_month'] = sales['order_month'].dt.to_timestamp('s').dt.strftime('%Y-%m')"
   ]
  },
  {
   "cell_type": "markdown",
   "metadata": {},
   "source": [
    "## 1.3 Invoices by month"
   ]
  },
  {
   "cell_type": "markdown",
   "metadata": {},
   "source": [
    "#### Grouping the invoice data by month, it can be seen in the line graph that there is a large number of invoices in the month of November. This may correspond to the seasonality of purchases for the Christmas party, since afterwards a pronounced decrease in the number of invoices is observed."
   ]
  },
  {
   "cell_type": "code",
   "execution_count": 13,
   "metadata": {},
   "outputs": [
    {
     "data": {
      "application/vnd.plotly.v1+json": {
       "config": {
        "plotlyServerURL": "https://plot.ly"
       },
       "data": [
        {
         "hovertemplate": "order_month=%{x}<br>invoice=%{y}<extra></extra>",
         "legendgroup": "",
         "line": {
          "color": "#636efa",
          "dash": "solid"
         },
         "marker": {
          "symbol": "circle"
         },
         "mode": "markers+lines",
         "name": "",
         "orientation": "v",
         "showlegend": false,
         "type": "scatter",
         "x": [
          "2020-12",
          "2021-01",
          "2021-02",
          "2021-03",
          "2021-04",
          "2021-05",
          "2021-06",
          "2021-07",
          "2021-08",
          "2021-09",
          "2021-10",
          "2021-11",
          "2021-12"
         ],
         "xaxis": "x",
         "y": [
          1401,
          993,
          1003,
          1324,
          1153,
          1559,
          1394,
          1331,
          1283,
          1761,
          1930,
          2660,
          778
         ],
         "yaxis": "y"
        }
       ],
       "layout": {
        "height": 500,
        "legend": {
         "tracegroupgap": 0
        },
        "template": {
         "data": {
          "bar": [
           {
            "error_x": {
             "color": "#2a3f5f"
            },
            "error_y": {
             "color": "#2a3f5f"
            },
            "marker": {
             "line": {
              "color": "#E5ECF6",
              "width": 0.5
             },
             "pattern": {
              "fillmode": "overlay",
              "size": 10,
              "solidity": 0.2
             }
            },
            "type": "bar"
           }
          ],
          "barpolar": [
           {
            "marker": {
             "line": {
              "color": "#E5ECF6",
              "width": 0.5
             },
             "pattern": {
              "fillmode": "overlay",
              "size": 10,
              "solidity": 0.2
             }
            },
            "type": "barpolar"
           }
          ],
          "carpet": [
           {
            "aaxis": {
             "endlinecolor": "#2a3f5f",
             "gridcolor": "white",
             "linecolor": "white",
             "minorgridcolor": "white",
             "startlinecolor": "#2a3f5f"
            },
            "baxis": {
             "endlinecolor": "#2a3f5f",
             "gridcolor": "white",
             "linecolor": "white",
             "minorgridcolor": "white",
             "startlinecolor": "#2a3f5f"
            },
            "type": "carpet"
           }
          ],
          "choropleth": [
           {
            "colorbar": {
             "outlinewidth": 0,
             "ticks": ""
            },
            "type": "choropleth"
           }
          ],
          "contour": [
           {
            "colorbar": {
             "outlinewidth": 0,
             "ticks": ""
            },
            "colorscale": [
             [
              0,
              "#0d0887"
             ],
             [
              0.1111111111111111,
              "#46039f"
             ],
             [
              0.2222222222222222,
              "#7201a8"
             ],
             [
              0.3333333333333333,
              "#9c179e"
             ],
             [
              0.4444444444444444,
              "#bd3786"
             ],
             [
              0.5555555555555556,
              "#d8576b"
             ],
             [
              0.6666666666666666,
              "#ed7953"
             ],
             [
              0.7777777777777778,
              "#fb9f3a"
             ],
             [
              0.8888888888888888,
              "#fdca26"
             ],
             [
              1,
              "#f0f921"
             ]
            ],
            "type": "contour"
           }
          ],
          "contourcarpet": [
           {
            "colorbar": {
             "outlinewidth": 0,
             "ticks": ""
            },
            "type": "contourcarpet"
           }
          ],
          "heatmap": [
           {
            "colorbar": {
             "outlinewidth": 0,
             "ticks": ""
            },
            "colorscale": [
             [
              0,
              "#0d0887"
             ],
             [
              0.1111111111111111,
              "#46039f"
             ],
             [
              0.2222222222222222,
              "#7201a8"
             ],
             [
              0.3333333333333333,
              "#9c179e"
             ],
             [
              0.4444444444444444,
              "#bd3786"
             ],
             [
              0.5555555555555556,
              "#d8576b"
             ],
             [
              0.6666666666666666,
              "#ed7953"
             ],
             [
              0.7777777777777778,
              "#fb9f3a"
             ],
             [
              0.8888888888888888,
              "#fdca26"
             ],
             [
              1,
              "#f0f921"
             ]
            ],
            "type": "heatmap"
           }
          ],
          "heatmapgl": [
           {
            "colorbar": {
             "outlinewidth": 0,
             "ticks": ""
            },
            "colorscale": [
             [
              0,
              "#0d0887"
             ],
             [
              0.1111111111111111,
              "#46039f"
             ],
             [
              0.2222222222222222,
              "#7201a8"
             ],
             [
              0.3333333333333333,
              "#9c179e"
             ],
             [
              0.4444444444444444,
              "#bd3786"
             ],
             [
              0.5555555555555556,
              "#d8576b"
             ],
             [
              0.6666666666666666,
              "#ed7953"
             ],
             [
              0.7777777777777778,
              "#fb9f3a"
             ],
             [
              0.8888888888888888,
              "#fdca26"
             ],
             [
              1,
              "#f0f921"
             ]
            ],
            "type": "heatmapgl"
           }
          ],
          "histogram": [
           {
            "marker": {
             "pattern": {
              "fillmode": "overlay",
              "size": 10,
              "solidity": 0.2
             }
            },
            "type": "histogram"
           }
          ],
          "histogram2d": [
           {
            "colorbar": {
             "outlinewidth": 0,
             "ticks": ""
            },
            "colorscale": [
             [
              0,
              "#0d0887"
             ],
             [
              0.1111111111111111,
              "#46039f"
             ],
             [
              0.2222222222222222,
              "#7201a8"
             ],
             [
              0.3333333333333333,
              "#9c179e"
             ],
             [
              0.4444444444444444,
              "#bd3786"
             ],
             [
              0.5555555555555556,
              "#d8576b"
             ],
             [
              0.6666666666666666,
              "#ed7953"
             ],
             [
              0.7777777777777778,
              "#fb9f3a"
             ],
             [
              0.8888888888888888,
              "#fdca26"
             ],
             [
              1,
              "#f0f921"
             ]
            ],
            "type": "histogram2d"
           }
          ],
          "histogram2dcontour": [
           {
            "colorbar": {
             "outlinewidth": 0,
             "ticks": ""
            },
            "colorscale": [
             [
              0,
              "#0d0887"
             ],
             [
              0.1111111111111111,
              "#46039f"
             ],
             [
              0.2222222222222222,
              "#7201a8"
             ],
             [
              0.3333333333333333,
              "#9c179e"
             ],
             [
              0.4444444444444444,
              "#bd3786"
             ],
             [
              0.5555555555555556,
              "#d8576b"
             ],
             [
              0.6666666666666666,
              "#ed7953"
             ],
             [
              0.7777777777777778,
              "#fb9f3a"
             ],
             [
              0.8888888888888888,
              "#fdca26"
             ],
             [
              1,
              "#f0f921"
             ]
            ],
            "type": "histogram2dcontour"
           }
          ],
          "mesh3d": [
           {
            "colorbar": {
             "outlinewidth": 0,
             "ticks": ""
            },
            "type": "mesh3d"
           }
          ],
          "parcoords": [
           {
            "line": {
             "colorbar": {
              "outlinewidth": 0,
              "ticks": ""
             }
            },
            "type": "parcoords"
           }
          ],
          "pie": [
           {
            "automargin": true,
            "type": "pie"
           }
          ],
          "scatter": [
           {
            "fillpattern": {
             "fillmode": "overlay",
             "size": 10,
             "solidity": 0.2
            },
            "type": "scatter"
           }
          ],
          "scatter3d": [
           {
            "line": {
             "colorbar": {
              "outlinewidth": 0,
              "ticks": ""
             }
            },
            "marker": {
             "colorbar": {
              "outlinewidth": 0,
              "ticks": ""
             }
            },
            "type": "scatter3d"
           }
          ],
          "scattercarpet": [
           {
            "marker": {
             "colorbar": {
              "outlinewidth": 0,
              "ticks": ""
             }
            },
            "type": "scattercarpet"
           }
          ],
          "scattergeo": [
           {
            "marker": {
             "colorbar": {
              "outlinewidth": 0,
              "ticks": ""
             }
            },
            "type": "scattergeo"
           }
          ],
          "scattergl": [
           {
            "marker": {
             "colorbar": {
              "outlinewidth": 0,
              "ticks": ""
             }
            },
            "type": "scattergl"
           }
          ],
          "scattermapbox": [
           {
            "marker": {
             "colorbar": {
              "outlinewidth": 0,
              "ticks": ""
             }
            },
            "type": "scattermapbox"
           }
          ],
          "scatterpolar": [
           {
            "marker": {
             "colorbar": {
              "outlinewidth": 0,
              "ticks": ""
             }
            },
            "type": "scatterpolar"
           }
          ],
          "scatterpolargl": [
           {
            "marker": {
             "colorbar": {
              "outlinewidth": 0,
              "ticks": ""
             }
            },
            "type": "scatterpolargl"
           }
          ],
          "scatterternary": [
           {
            "marker": {
             "colorbar": {
              "outlinewidth": 0,
              "ticks": ""
             }
            },
            "type": "scatterternary"
           }
          ],
          "surface": [
           {
            "colorbar": {
             "outlinewidth": 0,
             "ticks": ""
            },
            "colorscale": [
             [
              0,
              "#0d0887"
             ],
             [
              0.1111111111111111,
              "#46039f"
             ],
             [
              0.2222222222222222,
              "#7201a8"
             ],
             [
              0.3333333333333333,
              "#9c179e"
             ],
             [
              0.4444444444444444,
              "#bd3786"
             ],
             [
              0.5555555555555556,
              "#d8576b"
             ],
             [
              0.6666666666666666,
              "#ed7953"
             ],
             [
              0.7777777777777778,
              "#fb9f3a"
             ],
             [
              0.8888888888888888,
              "#fdca26"
             ],
             [
              1,
              "#f0f921"
             ]
            ],
            "type": "surface"
           }
          ],
          "table": [
           {
            "cells": {
             "fill": {
              "color": "#EBF0F8"
             },
             "line": {
              "color": "white"
             }
            },
            "header": {
             "fill": {
              "color": "#C8D4E3"
             },
             "line": {
              "color": "white"
             }
            },
            "type": "table"
           }
          ]
         },
         "layout": {
          "annotationdefaults": {
           "arrowcolor": "#2a3f5f",
           "arrowhead": 0,
           "arrowwidth": 1
          },
          "autotypenumbers": "strict",
          "coloraxis": {
           "colorbar": {
            "outlinewidth": 0,
            "ticks": ""
           }
          },
          "colorscale": {
           "diverging": [
            [
             0,
             "#8e0152"
            ],
            [
             0.1,
             "#c51b7d"
            ],
            [
             0.2,
             "#de77ae"
            ],
            [
             0.3,
             "#f1b6da"
            ],
            [
             0.4,
             "#fde0ef"
            ],
            [
             0.5,
             "#f7f7f7"
            ],
            [
             0.6,
             "#e6f5d0"
            ],
            [
             0.7,
             "#b8e186"
            ],
            [
             0.8,
             "#7fbc41"
            ],
            [
             0.9,
             "#4d9221"
            ],
            [
             1,
             "#276419"
            ]
           ],
           "sequential": [
            [
             0,
             "#0d0887"
            ],
            [
             0.1111111111111111,
             "#46039f"
            ],
            [
             0.2222222222222222,
             "#7201a8"
            ],
            [
             0.3333333333333333,
             "#9c179e"
            ],
            [
             0.4444444444444444,
             "#bd3786"
            ],
            [
             0.5555555555555556,
             "#d8576b"
            ],
            [
             0.6666666666666666,
             "#ed7953"
            ],
            [
             0.7777777777777778,
             "#fb9f3a"
            ],
            [
             0.8888888888888888,
             "#fdca26"
            ],
            [
             1,
             "#f0f921"
            ]
           ],
           "sequentialminus": [
            [
             0,
             "#0d0887"
            ],
            [
             0.1111111111111111,
             "#46039f"
            ],
            [
             0.2222222222222222,
             "#7201a8"
            ],
            [
             0.3333333333333333,
             "#9c179e"
            ],
            [
             0.4444444444444444,
             "#bd3786"
            ],
            [
             0.5555555555555556,
             "#d8576b"
            ],
            [
             0.6666666666666666,
             "#ed7953"
            ],
            [
             0.7777777777777778,
             "#fb9f3a"
            ],
            [
             0.8888888888888888,
             "#fdca26"
            ],
            [
             1,
             "#f0f921"
            ]
           ]
          },
          "colorway": [
           "#636efa",
           "#EF553B",
           "#00cc96",
           "#ab63fa",
           "#FFA15A",
           "#19d3f3",
           "#FF6692",
           "#B6E880",
           "#FF97FF",
           "#FECB52"
          ],
          "font": {
           "color": "#2a3f5f"
          },
          "geo": {
           "bgcolor": "white",
           "lakecolor": "white",
           "landcolor": "#E5ECF6",
           "showlakes": true,
           "showland": true,
           "subunitcolor": "white"
          },
          "hoverlabel": {
           "align": "left"
          },
          "hovermode": "closest",
          "mapbox": {
           "style": "light"
          },
          "paper_bgcolor": "white",
          "plot_bgcolor": "#E5ECF6",
          "polar": {
           "angularaxis": {
            "gridcolor": "white",
            "linecolor": "white",
            "ticks": ""
           },
           "bgcolor": "#E5ECF6",
           "radialaxis": {
            "gridcolor": "white",
            "linecolor": "white",
            "ticks": ""
           }
          },
          "scene": {
           "xaxis": {
            "backgroundcolor": "#E5ECF6",
            "gridcolor": "white",
            "gridwidth": 2,
            "linecolor": "white",
            "showbackground": true,
            "ticks": "",
            "zerolinecolor": "white"
           },
           "yaxis": {
            "backgroundcolor": "#E5ECF6",
            "gridcolor": "white",
            "gridwidth": 2,
            "linecolor": "white",
            "showbackground": true,
            "ticks": "",
            "zerolinecolor": "white"
           },
           "zaxis": {
            "backgroundcolor": "#E5ECF6",
            "gridcolor": "white",
            "gridwidth": 2,
            "linecolor": "white",
            "showbackground": true,
            "ticks": "",
            "zerolinecolor": "white"
           }
          },
          "shapedefaults": {
           "line": {
            "color": "#2a3f5f"
           }
          },
          "ternary": {
           "aaxis": {
            "gridcolor": "white",
            "linecolor": "white",
            "ticks": ""
           },
           "baxis": {
            "gridcolor": "white",
            "linecolor": "white",
            "ticks": ""
           },
           "bgcolor": "#E5ECF6",
           "caxis": {
            "gridcolor": "white",
            "linecolor": "white",
            "ticks": ""
           }
          },
          "title": {
           "x": 0.05
          },
          "xaxis": {
           "automargin": true,
           "gridcolor": "white",
           "linecolor": "white",
           "ticks": "",
           "title": {
            "standoff": 15
           },
           "zerolinecolor": "white",
           "zerolinewidth": 2
          },
          "yaxis": {
           "automargin": true,
           "gridcolor": "white",
           "linecolor": "white",
           "ticks": "",
           "title": {
            "standoff": 15
           },
           "zerolinecolor": "white",
           "zerolinewidth": 2
          }
         }
        },
        "title": {
         "text": "invoices by month"
        },
        "width": 800,
        "xaxis": {
         "anchor": "y",
         "domain": [
          0,
          1
         ],
         "title": {
          "text": "order_month"
         }
        },
        "yaxis": {
         "anchor": "x",
         "domain": [
          0,
          1
         ],
         "title": {
          "text": "invoice"
         }
        }
       }
      }
     },
     "metadata": {},
     "output_type": "display_data"
    }
   ],
   "source": [
    "invoice= sales.groupby('order_month', as_index=False, sort=True).agg({\"invoice\": \"count\"})\n",
    "fig = px.line(data_frame=invoice, x='order_month', y='invoice', markers=True, title='invoices by month', width=800, height=500)\n",
    "\n",
    "fig.show()"
   ]
  },
  {
   "cell_type": "markdown",
   "metadata": {},
   "source": [
    "## 1.4 Unique clients by month"
   ]
  },
  {
   "cell_type": "markdown",
   "metadata": {},
   "source": [
    "#### Grouping the unique customers per month chart, a trend similar to the invoices/month graph is observed. It can be determined that there was a large number of customers making purchases in a given month by increasing the volume of invoices"
   ]
  },
  {
   "cell_type": "code",
   "execution_count": 14,
   "metadata": {},
   "outputs": [
    {
     "data": {
      "application/vnd.plotly.v1+json": {
       "config": {
        "plotlyServerURL": "https://plot.ly"
       },
       "data": [
        {
         "hovertemplate": "order_month=%{x}<br>id_Client=%{y}<extra></extra>",
         "legendgroup": "",
         "line": {
          "color": "#636efa",
          "dash": "solid"
         },
         "marker": {
          "symbol": "circle"
         },
         "mode": "markers+lines",
         "name": "",
         "orientation": "v",
         "showlegend": false,
         "type": "scatter",
         "x": [
          "2020-12",
          "2021-01",
          "2021-02",
          "2021-03",
          "2021-04",
          "2021-05",
          "2021-06",
          "2021-07",
          "2021-08",
          "2021-09",
          "2021-10",
          "2021-11",
          "2021-12"
         ],
         "xaxis": "x",
         "y": [
          885,
          741,
          758,
          974,
          856,
          1056,
          991,
          949,
          935,
          1266,
          1364,
          1665,
          615
         ],
         "yaxis": "y"
        }
       ],
       "layout": {
        "height": 500,
        "legend": {
         "tracegroupgap": 0
        },
        "template": {
         "data": {
          "bar": [
           {
            "error_x": {
             "color": "#2a3f5f"
            },
            "error_y": {
             "color": "#2a3f5f"
            },
            "marker": {
             "line": {
              "color": "#E5ECF6",
              "width": 0.5
             },
             "pattern": {
              "fillmode": "overlay",
              "size": 10,
              "solidity": 0.2
             }
            },
            "type": "bar"
           }
          ],
          "barpolar": [
           {
            "marker": {
             "line": {
              "color": "#E5ECF6",
              "width": 0.5
             },
             "pattern": {
              "fillmode": "overlay",
              "size": 10,
              "solidity": 0.2
             }
            },
            "type": "barpolar"
           }
          ],
          "carpet": [
           {
            "aaxis": {
             "endlinecolor": "#2a3f5f",
             "gridcolor": "white",
             "linecolor": "white",
             "minorgridcolor": "white",
             "startlinecolor": "#2a3f5f"
            },
            "baxis": {
             "endlinecolor": "#2a3f5f",
             "gridcolor": "white",
             "linecolor": "white",
             "minorgridcolor": "white",
             "startlinecolor": "#2a3f5f"
            },
            "type": "carpet"
           }
          ],
          "choropleth": [
           {
            "colorbar": {
             "outlinewidth": 0,
             "ticks": ""
            },
            "type": "choropleth"
           }
          ],
          "contour": [
           {
            "colorbar": {
             "outlinewidth": 0,
             "ticks": ""
            },
            "colorscale": [
             [
              0,
              "#0d0887"
             ],
             [
              0.1111111111111111,
              "#46039f"
             ],
             [
              0.2222222222222222,
              "#7201a8"
             ],
             [
              0.3333333333333333,
              "#9c179e"
             ],
             [
              0.4444444444444444,
              "#bd3786"
             ],
             [
              0.5555555555555556,
              "#d8576b"
             ],
             [
              0.6666666666666666,
              "#ed7953"
             ],
             [
              0.7777777777777778,
              "#fb9f3a"
             ],
             [
              0.8888888888888888,
              "#fdca26"
             ],
             [
              1,
              "#f0f921"
             ]
            ],
            "type": "contour"
           }
          ],
          "contourcarpet": [
           {
            "colorbar": {
             "outlinewidth": 0,
             "ticks": ""
            },
            "type": "contourcarpet"
           }
          ],
          "heatmap": [
           {
            "colorbar": {
             "outlinewidth": 0,
             "ticks": ""
            },
            "colorscale": [
             [
              0,
              "#0d0887"
             ],
             [
              0.1111111111111111,
              "#46039f"
             ],
             [
              0.2222222222222222,
              "#7201a8"
             ],
             [
              0.3333333333333333,
              "#9c179e"
             ],
             [
              0.4444444444444444,
              "#bd3786"
             ],
             [
              0.5555555555555556,
              "#d8576b"
             ],
             [
              0.6666666666666666,
              "#ed7953"
             ],
             [
              0.7777777777777778,
              "#fb9f3a"
             ],
             [
              0.8888888888888888,
              "#fdca26"
             ],
             [
              1,
              "#f0f921"
             ]
            ],
            "type": "heatmap"
           }
          ],
          "heatmapgl": [
           {
            "colorbar": {
             "outlinewidth": 0,
             "ticks": ""
            },
            "colorscale": [
             [
              0,
              "#0d0887"
             ],
             [
              0.1111111111111111,
              "#46039f"
             ],
             [
              0.2222222222222222,
              "#7201a8"
             ],
             [
              0.3333333333333333,
              "#9c179e"
             ],
             [
              0.4444444444444444,
              "#bd3786"
             ],
             [
              0.5555555555555556,
              "#d8576b"
             ],
             [
              0.6666666666666666,
              "#ed7953"
             ],
             [
              0.7777777777777778,
              "#fb9f3a"
             ],
             [
              0.8888888888888888,
              "#fdca26"
             ],
             [
              1,
              "#f0f921"
             ]
            ],
            "type": "heatmapgl"
           }
          ],
          "histogram": [
           {
            "marker": {
             "pattern": {
              "fillmode": "overlay",
              "size": 10,
              "solidity": 0.2
             }
            },
            "type": "histogram"
           }
          ],
          "histogram2d": [
           {
            "colorbar": {
             "outlinewidth": 0,
             "ticks": ""
            },
            "colorscale": [
             [
              0,
              "#0d0887"
             ],
             [
              0.1111111111111111,
              "#46039f"
             ],
             [
              0.2222222222222222,
              "#7201a8"
             ],
             [
              0.3333333333333333,
              "#9c179e"
             ],
             [
              0.4444444444444444,
              "#bd3786"
             ],
             [
              0.5555555555555556,
              "#d8576b"
             ],
             [
              0.6666666666666666,
              "#ed7953"
             ],
             [
              0.7777777777777778,
              "#fb9f3a"
             ],
             [
              0.8888888888888888,
              "#fdca26"
             ],
             [
              1,
              "#f0f921"
             ]
            ],
            "type": "histogram2d"
           }
          ],
          "histogram2dcontour": [
           {
            "colorbar": {
             "outlinewidth": 0,
             "ticks": ""
            },
            "colorscale": [
             [
              0,
              "#0d0887"
             ],
             [
              0.1111111111111111,
              "#46039f"
             ],
             [
              0.2222222222222222,
              "#7201a8"
             ],
             [
              0.3333333333333333,
              "#9c179e"
             ],
             [
              0.4444444444444444,
              "#bd3786"
             ],
             [
              0.5555555555555556,
              "#d8576b"
             ],
             [
              0.6666666666666666,
              "#ed7953"
             ],
             [
              0.7777777777777778,
              "#fb9f3a"
             ],
             [
              0.8888888888888888,
              "#fdca26"
             ],
             [
              1,
              "#f0f921"
             ]
            ],
            "type": "histogram2dcontour"
           }
          ],
          "mesh3d": [
           {
            "colorbar": {
             "outlinewidth": 0,
             "ticks": ""
            },
            "type": "mesh3d"
           }
          ],
          "parcoords": [
           {
            "line": {
             "colorbar": {
              "outlinewidth": 0,
              "ticks": ""
             }
            },
            "type": "parcoords"
           }
          ],
          "pie": [
           {
            "automargin": true,
            "type": "pie"
           }
          ],
          "scatter": [
           {
            "fillpattern": {
             "fillmode": "overlay",
             "size": 10,
             "solidity": 0.2
            },
            "type": "scatter"
           }
          ],
          "scatter3d": [
           {
            "line": {
             "colorbar": {
              "outlinewidth": 0,
              "ticks": ""
             }
            },
            "marker": {
             "colorbar": {
              "outlinewidth": 0,
              "ticks": ""
             }
            },
            "type": "scatter3d"
           }
          ],
          "scattercarpet": [
           {
            "marker": {
             "colorbar": {
              "outlinewidth": 0,
              "ticks": ""
             }
            },
            "type": "scattercarpet"
           }
          ],
          "scattergeo": [
           {
            "marker": {
             "colorbar": {
              "outlinewidth": 0,
              "ticks": ""
             }
            },
            "type": "scattergeo"
           }
          ],
          "scattergl": [
           {
            "marker": {
             "colorbar": {
              "outlinewidth": 0,
              "ticks": ""
             }
            },
            "type": "scattergl"
           }
          ],
          "scattermapbox": [
           {
            "marker": {
             "colorbar": {
              "outlinewidth": 0,
              "ticks": ""
             }
            },
            "type": "scattermapbox"
           }
          ],
          "scatterpolar": [
           {
            "marker": {
             "colorbar": {
              "outlinewidth": 0,
              "ticks": ""
             }
            },
            "type": "scatterpolar"
           }
          ],
          "scatterpolargl": [
           {
            "marker": {
             "colorbar": {
              "outlinewidth": 0,
              "ticks": ""
             }
            },
            "type": "scatterpolargl"
           }
          ],
          "scatterternary": [
           {
            "marker": {
             "colorbar": {
              "outlinewidth": 0,
              "ticks": ""
             }
            },
            "type": "scatterternary"
           }
          ],
          "surface": [
           {
            "colorbar": {
             "outlinewidth": 0,
             "ticks": ""
            },
            "colorscale": [
             [
              0,
              "#0d0887"
             ],
             [
              0.1111111111111111,
              "#46039f"
             ],
             [
              0.2222222222222222,
              "#7201a8"
             ],
             [
              0.3333333333333333,
              "#9c179e"
             ],
             [
              0.4444444444444444,
              "#bd3786"
             ],
             [
              0.5555555555555556,
              "#d8576b"
             ],
             [
              0.6666666666666666,
              "#ed7953"
             ],
             [
              0.7777777777777778,
              "#fb9f3a"
             ],
             [
              0.8888888888888888,
              "#fdca26"
             ],
             [
              1,
              "#f0f921"
             ]
            ],
            "type": "surface"
           }
          ],
          "table": [
           {
            "cells": {
             "fill": {
              "color": "#EBF0F8"
             },
             "line": {
              "color": "white"
             }
            },
            "header": {
             "fill": {
              "color": "#C8D4E3"
             },
             "line": {
              "color": "white"
             }
            },
            "type": "table"
           }
          ]
         },
         "layout": {
          "annotationdefaults": {
           "arrowcolor": "#2a3f5f",
           "arrowhead": 0,
           "arrowwidth": 1
          },
          "autotypenumbers": "strict",
          "coloraxis": {
           "colorbar": {
            "outlinewidth": 0,
            "ticks": ""
           }
          },
          "colorscale": {
           "diverging": [
            [
             0,
             "#8e0152"
            ],
            [
             0.1,
             "#c51b7d"
            ],
            [
             0.2,
             "#de77ae"
            ],
            [
             0.3,
             "#f1b6da"
            ],
            [
             0.4,
             "#fde0ef"
            ],
            [
             0.5,
             "#f7f7f7"
            ],
            [
             0.6,
             "#e6f5d0"
            ],
            [
             0.7,
             "#b8e186"
            ],
            [
             0.8,
             "#7fbc41"
            ],
            [
             0.9,
             "#4d9221"
            ],
            [
             1,
             "#276419"
            ]
           ],
           "sequential": [
            [
             0,
             "#0d0887"
            ],
            [
             0.1111111111111111,
             "#46039f"
            ],
            [
             0.2222222222222222,
             "#7201a8"
            ],
            [
             0.3333333333333333,
             "#9c179e"
            ],
            [
             0.4444444444444444,
             "#bd3786"
            ],
            [
             0.5555555555555556,
             "#d8576b"
            ],
            [
             0.6666666666666666,
             "#ed7953"
            ],
            [
             0.7777777777777778,
             "#fb9f3a"
            ],
            [
             0.8888888888888888,
             "#fdca26"
            ],
            [
             1,
             "#f0f921"
            ]
           ],
           "sequentialminus": [
            [
             0,
             "#0d0887"
            ],
            [
             0.1111111111111111,
             "#46039f"
            ],
            [
             0.2222222222222222,
             "#7201a8"
            ],
            [
             0.3333333333333333,
             "#9c179e"
            ],
            [
             0.4444444444444444,
             "#bd3786"
            ],
            [
             0.5555555555555556,
             "#d8576b"
            ],
            [
             0.6666666666666666,
             "#ed7953"
            ],
            [
             0.7777777777777778,
             "#fb9f3a"
            ],
            [
             0.8888888888888888,
             "#fdca26"
            ],
            [
             1,
             "#f0f921"
            ]
           ]
          },
          "colorway": [
           "#636efa",
           "#EF553B",
           "#00cc96",
           "#ab63fa",
           "#FFA15A",
           "#19d3f3",
           "#FF6692",
           "#B6E880",
           "#FF97FF",
           "#FECB52"
          ],
          "font": {
           "color": "#2a3f5f"
          },
          "geo": {
           "bgcolor": "white",
           "lakecolor": "white",
           "landcolor": "#E5ECF6",
           "showlakes": true,
           "showland": true,
           "subunitcolor": "white"
          },
          "hoverlabel": {
           "align": "left"
          },
          "hovermode": "closest",
          "mapbox": {
           "style": "light"
          },
          "paper_bgcolor": "white",
          "plot_bgcolor": "#E5ECF6",
          "polar": {
           "angularaxis": {
            "gridcolor": "white",
            "linecolor": "white",
            "ticks": ""
           },
           "bgcolor": "#E5ECF6",
           "radialaxis": {
            "gridcolor": "white",
            "linecolor": "white",
            "ticks": ""
           }
          },
          "scene": {
           "xaxis": {
            "backgroundcolor": "#E5ECF6",
            "gridcolor": "white",
            "gridwidth": 2,
            "linecolor": "white",
            "showbackground": true,
            "ticks": "",
            "zerolinecolor": "white"
           },
           "yaxis": {
            "backgroundcolor": "#E5ECF6",
            "gridcolor": "white",
            "gridwidth": 2,
            "linecolor": "white",
            "showbackground": true,
            "ticks": "",
            "zerolinecolor": "white"
           },
           "zaxis": {
            "backgroundcolor": "#E5ECF6",
            "gridcolor": "white",
            "gridwidth": 2,
            "linecolor": "white",
            "showbackground": true,
            "ticks": "",
            "zerolinecolor": "white"
           }
          },
          "shapedefaults": {
           "line": {
            "color": "#2a3f5f"
           }
          },
          "ternary": {
           "aaxis": {
            "gridcolor": "white",
            "linecolor": "white",
            "ticks": ""
           },
           "baxis": {
            "gridcolor": "white",
            "linecolor": "white",
            "ticks": ""
           },
           "bgcolor": "#E5ECF6",
           "caxis": {
            "gridcolor": "white",
            "linecolor": "white",
            "ticks": ""
           }
          },
          "title": {
           "x": 0.05
          },
          "xaxis": {
           "automargin": true,
           "gridcolor": "white",
           "linecolor": "white",
           "ticks": "",
           "title": {
            "standoff": 15
           },
           "zerolinecolor": "white",
           "zerolinewidth": 2
          },
          "yaxis": {
           "automargin": true,
           "gridcolor": "white",
           "linecolor": "white",
           "ticks": "",
           "title": {
            "standoff": 15
           },
           "zerolinecolor": "white",
           "zerolinewidth": 2
          }
         }
        },
        "title": {
         "text": "unique_clients_by_month"
        },
        "width": 800,
        "xaxis": {
         "anchor": "y",
         "domain": [
          0,
          1
         ],
         "title": {
          "text": "order_month"
         }
        },
        "yaxis": {
         "anchor": "x",
         "domain": [
          0,
          1
         ],
         "title": {
          "text": "id_Client"
         }
        }
       }
      }
     },
     "metadata": {},
     "output_type": "display_data"
    }
   ],
   "source": [
    "number_client = sales.groupby('order_month', as_index=False).agg({\"id_Client\": lambda x:x .nunique()})\n",
    "fig = px.line(data_frame=number_client, x='order_month', y='id_Client', markers=True, title='unique_clients_by_month', width=800, height=500)\n",
    "fig.show()"
   ]
  },
  {
   "cell_type": "markdown",
   "metadata": {},
   "source": [
    "## 1.4 Top countries by invoice "
   ]
  },
  {
   "cell_type": "markdown",
   "metadata": {},
   "source": [
    "#### Grouping the invoice number data by country, it is observed that the countries that generate the most invoices are the UK, Germany, France and Eire, with the UK being the one that generates the largest number of invoices."
   ]
  },
  {
   "cell_type": "code",
   "execution_count": 15,
   "metadata": {},
   "outputs": [
    {
     "data": {
      "application/vnd.plotly.v1+json": {
       "config": {
        "plotlyServerURL": "https://plot.ly"
       },
       "data": [
        {
         "alignmentgroup": "True",
         "hovertemplate": "country=%{x}<br>invoice=%{y}<extra></extra>",
         "legendgroup": "",
         "marker": {
          "color": "#636efa",
          "pattern": {
           "shape": ""
          }
         },
         "name": "",
         "offsetgroup": "",
         "orientation": "v",
         "showlegend": false,
         "textposition": "auto",
         "type": "bar",
         "x": [
          "United Kingdom",
          "Germany",
          "EIRE",
          "France"
         ],
         "xaxis": "x",
         "y": [
          16679,
          457,
          262,
          390
         ],
         "yaxis": "y"
        }
       ],
       "layout": {
        "barmode": "relative",
        "height": 500,
        "legend": {
         "tracegroupgap": 0
        },
        "template": {
         "data": {
          "bar": [
           {
            "error_x": {
             "color": "#2a3f5f"
            },
            "error_y": {
             "color": "#2a3f5f"
            },
            "marker": {
             "line": {
              "color": "#E5ECF6",
              "width": 0.5
             },
             "pattern": {
              "fillmode": "overlay",
              "size": 10,
              "solidity": 0.2
             }
            },
            "type": "bar"
           }
          ],
          "barpolar": [
           {
            "marker": {
             "line": {
              "color": "#E5ECF6",
              "width": 0.5
             },
             "pattern": {
              "fillmode": "overlay",
              "size": 10,
              "solidity": 0.2
             }
            },
            "type": "barpolar"
           }
          ],
          "carpet": [
           {
            "aaxis": {
             "endlinecolor": "#2a3f5f",
             "gridcolor": "white",
             "linecolor": "white",
             "minorgridcolor": "white",
             "startlinecolor": "#2a3f5f"
            },
            "baxis": {
             "endlinecolor": "#2a3f5f",
             "gridcolor": "white",
             "linecolor": "white",
             "minorgridcolor": "white",
             "startlinecolor": "#2a3f5f"
            },
            "type": "carpet"
           }
          ],
          "choropleth": [
           {
            "colorbar": {
             "outlinewidth": 0,
             "ticks": ""
            },
            "type": "choropleth"
           }
          ],
          "contour": [
           {
            "colorbar": {
             "outlinewidth": 0,
             "ticks": ""
            },
            "colorscale": [
             [
              0,
              "#0d0887"
             ],
             [
              0.1111111111111111,
              "#46039f"
             ],
             [
              0.2222222222222222,
              "#7201a8"
             ],
             [
              0.3333333333333333,
              "#9c179e"
             ],
             [
              0.4444444444444444,
              "#bd3786"
             ],
             [
              0.5555555555555556,
              "#d8576b"
             ],
             [
              0.6666666666666666,
              "#ed7953"
             ],
             [
              0.7777777777777778,
              "#fb9f3a"
             ],
             [
              0.8888888888888888,
              "#fdca26"
             ],
             [
              1,
              "#f0f921"
             ]
            ],
            "type": "contour"
           }
          ],
          "contourcarpet": [
           {
            "colorbar": {
             "outlinewidth": 0,
             "ticks": ""
            },
            "type": "contourcarpet"
           }
          ],
          "heatmap": [
           {
            "colorbar": {
             "outlinewidth": 0,
             "ticks": ""
            },
            "colorscale": [
             [
              0,
              "#0d0887"
             ],
             [
              0.1111111111111111,
              "#46039f"
             ],
             [
              0.2222222222222222,
              "#7201a8"
             ],
             [
              0.3333333333333333,
              "#9c179e"
             ],
             [
              0.4444444444444444,
              "#bd3786"
             ],
             [
              0.5555555555555556,
              "#d8576b"
             ],
             [
              0.6666666666666666,
              "#ed7953"
             ],
             [
              0.7777777777777778,
              "#fb9f3a"
             ],
             [
              0.8888888888888888,
              "#fdca26"
             ],
             [
              1,
              "#f0f921"
             ]
            ],
            "type": "heatmap"
           }
          ],
          "heatmapgl": [
           {
            "colorbar": {
             "outlinewidth": 0,
             "ticks": ""
            },
            "colorscale": [
             [
              0,
              "#0d0887"
             ],
             [
              0.1111111111111111,
              "#46039f"
             ],
             [
              0.2222222222222222,
              "#7201a8"
             ],
             [
              0.3333333333333333,
              "#9c179e"
             ],
             [
              0.4444444444444444,
              "#bd3786"
             ],
             [
              0.5555555555555556,
              "#d8576b"
             ],
             [
              0.6666666666666666,
              "#ed7953"
             ],
             [
              0.7777777777777778,
              "#fb9f3a"
             ],
             [
              0.8888888888888888,
              "#fdca26"
             ],
             [
              1,
              "#f0f921"
             ]
            ],
            "type": "heatmapgl"
           }
          ],
          "histogram": [
           {
            "marker": {
             "pattern": {
              "fillmode": "overlay",
              "size": 10,
              "solidity": 0.2
             }
            },
            "type": "histogram"
           }
          ],
          "histogram2d": [
           {
            "colorbar": {
             "outlinewidth": 0,
             "ticks": ""
            },
            "colorscale": [
             [
              0,
              "#0d0887"
             ],
             [
              0.1111111111111111,
              "#46039f"
             ],
             [
              0.2222222222222222,
              "#7201a8"
             ],
             [
              0.3333333333333333,
              "#9c179e"
             ],
             [
              0.4444444444444444,
              "#bd3786"
             ],
             [
              0.5555555555555556,
              "#d8576b"
             ],
             [
              0.6666666666666666,
              "#ed7953"
             ],
             [
              0.7777777777777778,
              "#fb9f3a"
             ],
             [
              0.8888888888888888,
              "#fdca26"
             ],
             [
              1,
              "#f0f921"
             ]
            ],
            "type": "histogram2d"
           }
          ],
          "histogram2dcontour": [
           {
            "colorbar": {
             "outlinewidth": 0,
             "ticks": ""
            },
            "colorscale": [
             [
              0,
              "#0d0887"
             ],
             [
              0.1111111111111111,
              "#46039f"
             ],
             [
              0.2222222222222222,
              "#7201a8"
             ],
             [
              0.3333333333333333,
              "#9c179e"
             ],
             [
              0.4444444444444444,
              "#bd3786"
             ],
             [
              0.5555555555555556,
              "#d8576b"
             ],
             [
              0.6666666666666666,
              "#ed7953"
             ],
             [
              0.7777777777777778,
              "#fb9f3a"
             ],
             [
              0.8888888888888888,
              "#fdca26"
             ],
             [
              1,
              "#f0f921"
             ]
            ],
            "type": "histogram2dcontour"
           }
          ],
          "mesh3d": [
           {
            "colorbar": {
             "outlinewidth": 0,
             "ticks": ""
            },
            "type": "mesh3d"
           }
          ],
          "parcoords": [
           {
            "line": {
             "colorbar": {
              "outlinewidth": 0,
              "ticks": ""
             }
            },
            "type": "parcoords"
           }
          ],
          "pie": [
           {
            "automargin": true,
            "type": "pie"
           }
          ],
          "scatter": [
           {
            "fillpattern": {
             "fillmode": "overlay",
             "size": 10,
             "solidity": 0.2
            },
            "type": "scatter"
           }
          ],
          "scatter3d": [
           {
            "line": {
             "colorbar": {
              "outlinewidth": 0,
              "ticks": ""
             }
            },
            "marker": {
             "colorbar": {
              "outlinewidth": 0,
              "ticks": ""
             }
            },
            "type": "scatter3d"
           }
          ],
          "scattercarpet": [
           {
            "marker": {
             "colorbar": {
              "outlinewidth": 0,
              "ticks": ""
             }
            },
            "type": "scattercarpet"
           }
          ],
          "scattergeo": [
           {
            "marker": {
             "colorbar": {
              "outlinewidth": 0,
              "ticks": ""
             }
            },
            "type": "scattergeo"
           }
          ],
          "scattergl": [
           {
            "marker": {
             "colorbar": {
              "outlinewidth": 0,
              "ticks": ""
             }
            },
            "type": "scattergl"
           }
          ],
          "scattermapbox": [
           {
            "marker": {
             "colorbar": {
              "outlinewidth": 0,
              "ticks": ""
             }
            },
            "type": "scattermapbox"
           }
          ],
          "scatterpolar": [
           {
            "marker": {
             "colorbar": {
              "outlinewidth": 0,
              "ticks": ""
             }
            },
            "type": "scatterpolar"
           }
          ],
          "scatterpolargl": [
           {
            "marker": {
             "colorbar": {
              "outlinewidth": 0,
              "ticks": ""
             }
            },
            "type": "scatterpolargl"
           }
          ],
          "scatterternary": [
           {
            "marker": {
             "colorbar": {
              "outlinewidth": 0,
              "ticks": ""
             }
            },
            "type": "scatterternary"
           }
          ],
          "surface": [
           {
            "colorbar": {
             "outlinewidth": 0,
             "ticks": ""
            },
            "colorscale": [
             [
              0,
              "#0d0887"
             ],
             [
              0.1111111111111111,
              "#46039f"
             ],
             [
              0.2222222222222222,
              "#7201a8"
             ],
             [
              0.3333333333333333,
              "#9c179e"
             ],
             [
              0.4444444444444444,
              "#bd3786"
             ],
             [
              0.5555555555555556,
              "#d8576b"
             ],
             [
              0.6666666666666666,
              "#ed7953"
             ],
             [
              0.7777777777777778,
              "#fb9f3a"
             ],
             [
              0.8888888888888888,
              "#fdca26"
             ],
             [
              1,
              "#f0f921"
             ]
            ],
            "type": "surface"
           }
          ],
          "table": [
           {
            "cells": {
             "fill": {
              "color": "#EBF0F8"
             },
             "line": {
              "color": "white"
             }
            },
            "header": {
             "fill": {
              "color": "#C8D4E3"
             },
             "line": {
              "color": "white"
             }
            },
            "type": "table"
           }
          ]
         },
         "layout": {
          "annotationdefaults": {
           "arrowcolor": "#2a3f5f",
           "arrowhead": 0,
           "arrowwidth": 1
          },
          "autotypenumbers": "strict",
          "coloraxis": {
           "colorbar": {
            "outlinewidth": 0,
            "ticks": ""
           }
          },
          "colorscale": {
           "diverging": [
            [
             0,
             "#8e0152"
            ],
            [
             0.1,
             "#c51b7d"
            ],
            [
             0.2,
             "#de77ae"
            ],
            [
             0.3,
             "#f1b6da"
            ],
            [
             0.4,
             "#fde0ef"
            ],
            [
             0.5,
             "#f7f7f7"
            ],
            [
             0.6,
             "#e6f5d0"
            ],
            [
             0.7,
             "#b8e186"
            ],
            [
             0.8,
             "#7fbc41"
            ],
            [
             0.9,
             "#4d9221"
            ],
            [
             1,
             "#276419"
            ]
           ],
           "sequential": [
            [
             0,
             "#0d0887"
            ],
            [
             0.1111111111111111,
             "#46039f"
            ],
            [
             0.2222222222222222,
             "#7201a8"
            ],
            [
             0.3333333333333333,
             "#9c179e"
            ],
            [
             0.4444444444444444,
             "#bd3786"
            ],
            [
             0.5555555555555556,
             "#d8576b"
            ],
            [
             0.6666666666666666,
             "#ed7953"
            ],
            [
             0.7777777777777778,
             "#fb9f3a"
            ],
            [
             0.8888888888888888,
             "#fdca26"
            ],
            [
             1,
             "#f0f921"
            ]
           ],
           "sequentialminus": [
            [
             0,
             "#0d0887"
            ],
            [
             0.1111111111111111,
             "#46039f"
            ],
            [
             0.2222222222222222,
             "#7201a8"
            ],
            [
             0.3333333333333333,
             "#9c179e"
            ],
            [
             0.4444444444444444,
             "#bd3786"
            ],
            [
             0.5555555555555556,
             "#d8576b"
            ],
            [
             0.6666666666666666,
             "#ed7953"
            ],
            [
             0.7777777777777778,
             "#fb9f3a"
            ],
            [
             0.8888888888888888,
             "#fdca26"
            ],
            [
             1,
             "#f0f921"
            ]
           ]
          },
          "colorway": [
           "#636efa",
           "#EF553B",
           "#00cc96",
           "#ab63fa",
           "#FFA15A",
           "#19d3f3",
           "#FF6692",
           "#B6E880",
           "#FF97FF",
           "#FECB52"
          ],
          "font": {
           "color": "#2a3f5f"
          },
          "geo": {
           "bgcolor": "white",
           "lakecolor": "white",
           "landcolor": "#E5ECF6",
           "showlakes": true,
           "showland": true,
           "subunitcolor": "white"
          },
          "hoverlabel": {
           "align": "left"
          },
          "hovermode": "closest",
          "mapbox": {
           "style": "light"
          },
          "paper_bgcolor": "white",
          "plot_bgcolor": "#E5ECF6",
          "polar": {
           "angularaxis": {
            "gridcolor": "white",
            "linecolor": "white",
            "ticks": ""
           },
           "bgcolor": "#E5ECF6",
           "radialaxis": {
            "gridcolor": "white",
            "linecolor": "white",
            "ticks": ""
           }
          },
          "scene": {
           "xaxis": {
            "backgroundcolor": "#E5ECF6",
            "gridcolor": "white",
            "gridwidth": 2,
            "linecolor": "white",
            "showbackground": true,
            "ticks": "",
            "zerolinecolor": "white"
           },
           "yaxis": {
            "backgroundcolor": "#E5ECF6",
            "gridcolor": "white",
            "gridwidth": 2,
            "linecolor": "white",
            "showbackground": true,
            "ticks": "",
            "zerolinecolor": "white"
           },
           "zaxis": {
            "backgroundcolor": "#E5ECF6",
            "gridcolor": "white",
            "gridwidth": 2,
            "linecolor": "white",
            "showbackground": true,
            "ticks": "",
            "zerolinecolor": "white"
           }
          },
          "shapedefaults": {
           "line": {
            "color": "#2a3f5f"
           }
          },
          "ternary": {
           "aaxis": {
            "gridcolor": "white",
            "linecolor": "white",
            "ticks": ""
           },
           "baxis": {
            "gridcolor": "white",
            "linecolor": "white",
            "ticks": ""
           },
           "bgcolor": "#E5ECF6",
           "caxis": {
            "gridcolor": "white",
            "linecolor": "white",
            "ticks": ""
           }
          },
          "title": {
           "x": 0.05
          },
          "xaxis": {
           "automargin": true,
           "gridcolor": "white",
           "linecolor": "white",
           "ticks": "",
           "title": {
            "standoff": 15
           },
           "zerolinecolor": "white",
           "zerolinewidth": 2
          },
          "yaxis": {
           "automargin": true,
           "gridcolor": "white",
           "linecolor": "white",
           "ticks": "",
           "title": {
            "standoff": 15
           },
           "zerolinecolor": "white",
           "zerolinewidth": 2
          }
         }
        },
        "title": {
         "text": "Top countries by invoice"
        },
        "width": 800,
        "xaxis": {
         "anchor": "y",
         "domain": [
          0,
          1
         ],
         "title": {
          "text": "country"
         }
        },
        "yaxis": {
         "anchor": "x",
         "domain": [
          0,
          1
         ],
         "title": {
          "text": "invoice"
         }
        }
       }
      }
     },
     "metadata": {},
     "output_type": "display_data"
    }
   ],
   "source": [
    "# Change the data type and grouping invoices by country\n",
    "sales[\"invoice\"] = [float(str(i).replace(\",\", \"\")) for i in sales[\"invoice\"]]\n",
    "percentage= sales.groupby('country', as_index=False, sort=False).agg({\"invoice\": \"count\"})\n",
    "top_invoice=percentage.head(4)\n",
    "top_invoice\n",
    "fig = px.bar(top_invoice, x=\"country\", y=\"invoice\", title='Top countries by invoice', width=800, height=500)\n",
    "fig.show()"
   ]
  },
  {
   "cell_type": "markdown",
   "metadata": {},
   "source": [
    "## 1.5 Percentage of invoices by countries"
   ]
  },
  {
   "cell_type": "markdown",
   "metadata": {},
   "source": [
    "#### Observing the same data and converting it to a percentage, it can be seen that the UK has 89% of the total invoices generated in 2021"
   ]
  },
  {
   "cell_type": "code",
   "execution_count": 16,
   "metadata": {},
   "outputs": [
    {
     "data": {
      "application/vnd.plotly.v1+json": {
       "config": {
        "plotlyServerURL": "https://plot.ly"
       },
       "data": [
        {
         "domain": {
          "x": [
           0,
           1
          ],
          "y": [
           0,
           1
          ]
         },
         "hole": 0.4,
         "hovertemplate": "country=%{label}<br>invoice=%{value}<extra></extra>",
         "labels": [
          "United Kingdom",
          "Germany",
          "EIRE",
          "France"
         ],
         "legendgroup": "",
         "name": "",
         "showlegend": true,
         "textinfo": "percent+label",
         "textposition": "inside",
         "type": "pie",
         "values": [
          16679,
          457,
          262,
          390
         ]
        }
       ],
       "layout": {
        "height": 500,
        "legend": {
         "tracegroupgap": 0
        },
        "template": {
         "data": {
          "bar": [
           {
            "error_x": {
             "color": "#2a3f5f"
            },
            "error_y": {
             "color": "#2a3f5f"
            },
            "marker": {
             "line": {
              "color": "#E5ECF6",
              "width": 0.5
             },
             "pattern": {
              "fillmode": "overlay",
              "size": 10,
              "solidity": 0.2
             }
            },
            "type": "bar"
           }
          ],
          "barpolar": [
           {
            "marker": {
             "line": {
              "color": "#E5ECF6",
              "width": 0.5
             },
             "pattern": {
              "fillmode": "overlay",
              "size": 10,
              "solidity": 0.2
             }
            },
            "type": "barpolar"
           }
          ],
          "carpet": [
           {
            "aaxis": {
             "endlinecolor": "#2a3f5f",
             "gridcolor": "white",
             "linecolor": "white",
             "minorgridcolor": "white",
             "startlinecolor": "#2a3f5f"
            },
            "baxis": {
             "endlinecolor": "#2a3f5f",
             "gridcolor": "white",
             "linecolor": "white",
             "minorgridcolor": "white",
             "startlinecolor": "#2a3f5f"
            },
            "type": "carpet"
           }
          ],
          "choropleth": [
           {
            "colorbar": {
             "outlinewidth": 0,
             "ticks": ""
            },
            "type": "choropleth"
           }
          ],
          "contour": [
           {
            "colorbar": {
             "outlinewidth": 0,
             "ticks": ""
            },
            "colorscale": [
             [
              0,
              "#0d0887"
             ],
             [
              0.1111111111111111,
              "#46039f"
             ],
             [
              0.2222222222222222,
              "#7201a8"
             ],
             [
              0.3333333333333333,
              "#9c179e"
             ],
             [
              0.4444444444444444,
              "#bd3786"
             ],
             [
              0.5555555555555556,
              "#d8576b"
             ],
             [
              0.6666666666666666,
              "#ed7953"
             ],
             [
              0.7777777777777778,
              "#fb9f3a"
             ],
             [
              0.8888888888888888,
              "#fdca26"
             ],
             [
              1,
              "#f0f921"
             ]
            ],
            "type": "contour"
           }
          ],
          "contourcarpet": [
           {
            "colorbar": {
             "outlinewidth": 0,
             "ticks": ""
            },
            "type": "contourcarpet"
           }
          ],
          "heatmap": [
           {
            "colorbar": {
             "outlinewidth": 0,
             "ticks": ""
            },
            "colorscale": [
             [
              0,
              "#0d0887"
             ],
             [
              0.1111111111111111,
              "#46039f"
             ],
             [
              0.2222222222222222,
              "#7201a8"
             ],
             [
              0.3333333333333333,
              "#9c179e"
             ],
             [
              0.4444444444444444,
              "#bd3786"
             ],
             [
              0.5555555555555556,
              "#d8576b"
             ],
             [
              0.6666666666666666,
              "#ed7953"
             ],
             [
              0.7777777777777778,
              "#fb9f3a"
             ],
             [
              0.8888888888888888,
              "#fdca26"
             ],
             [
              1,
              "#f0f921"
             ]
            ],
            "type": "heatmap"
           }
          ],
          "heatmapgl": [
           {
            "colorbar": {
             "outlinewidth": 0,
             "ticks": ""
            },
            "colorscale": [
             [
              0,
              "#0d0887"
             ],
             [
              0.1111111111111111,
              "#46039f"
             ],
             [
              0.2222222222222222,
              "#7201a8"
             ],
             [
              0.3333333333333333,
              "#9c179e"
             ],
             [
              0.4444444444444444,
              "#bd3786"
             ],
             [
              0.5555555555555556,
              "#d8576b"
             ],
             [
              0.6666666666666666,
              "#ed7953"
             ],
             [
              0.7777777777777778,
              "#fb9f3a"
             ],
             [
              0.8888888888888888,
              "#fdca26"
             ],
             [
              1,
              "#f0f921"
             ]
            ],
            "type": "heatmapgl"
           }
          ],
          "histogram": [
           {
            "marker": {
             "pattern": {
              "fillmode": "overlay",
              "size": 10,
              "solidity": 0.2
             }
            },
            "type": "histogram"
           }
          ],
          "histogram2d": [
           {
            "colorbar": {
             "outlinewidth": 0,
             "ticks": ""
            },
            "colorscale": [
             [
              0,
              "#0d0887"
             ],
             [
              0.1111111111111111,
              "#46039f"
             ],
             [
              0.2222222222222222,
              "#7201a8"
             ],
             [
              0.3333333333333333,
              "#9c179e"
             ],
             [
              0.4444444444444444,
              "#bd3786"
             ],
             [
              0.5555555555555556,
              "#d8576b"
             ],
             [
              0.6666666666666666,
              "#ed7953"
             ],
             [
              0.7777777777777778,
              "#fb9f3a"
             ],
             [
              0.8888888888888888,
              "#fdca26"
             ],
             [
              1,
              "#f0f921"
             ]
            ],
            "type": "histogram2d"
           }
          ],
          "histogram2dcontour": [
           {
            "colorbar": {
             "outlinewidth": 0,
             "ticks": ""
            },
            "colorscale": [
             [
              0,
              "#0d0887"
             ],
             [
              0.1111111111111111,
              "#46039f"
             ],
             [
              0.2222222222222222,
              "#7201a8"
             ],
             [
              0.3333333333333333,
              "#9c179e"
             ],
             [
              0.4444444444444444,
              "#bd3786"
             ],
             [
              0.5555555555555556,
              "#d8576b"
             ],
             [
              0.6666666666666666,
              "#ed7953"
             ],
             [
              0.7777777777777778,
              "#fb9f3a"
             ],
             [
              0.8888888888888888,
              "#fdca26"
             ],
             [
              1,
              "#f0f921"
             ]
            ],
            "type": "histogram2dcontour"
           }
          ],
          "mesh3d": [
           {
            "colorbar": {
             "outlinewidth": 0,
             "ticks": ""
            },
            "type": "mesh3d"
           }
          ],
          "parcoords": [
           {
            "line": {
             "colorbar": {
              "outlinewidth": 0,
              "ticks": ""
             }
            },
            "type": "parcoords"
           }
          ],
          "pie": [
           {
            "automargin": true,
            "type": "pie"
           }
          ],
          "scatter": [
           {
            "fillpattern": {
             "fillmode": "overlay",
             "size": 10,
             "solidity": 0.2
            },
            "type": "scatter"
           }
          ],
          "scatter3d": [
           {
            "line": {
             "colorbar": {
              "outlinewidth": 0,
              "ticks": ""
             }
            },
            "marker": {
             "colorbar": {
              "outlinewidth": 0,
              "ticks": ""
             }
            },
            "type": "scatter3d"
           }
          ],
          "scattercarpet": [
           {
            "marker": {
             "colorbar": {
              "outlinewidth": 0,
              "ticks": ""
             }
            },
            "type": "scattercarpet"
           }
          ],
          "scattergeo": [
           {
            "marker": {
             "colorbar": {
              "outlinewidth": 0,
              "ticks": ""
             }
            },
            "type": "scattergeo"
           }
          ],
          "scattergl": [
           {
            "marker": {
             "colorbar": {
              "outlinewidth": 0,
              "ticks": ""
             }
            },
            "type": "scattergl"
           }
          ],
          "scattermapbox": [
           {
            "marker": {
             "colorbar": {
              "outlinewidth": 0,
              "ticks": ""
             }
            },
            "type": "scattermapbox"
           }
          ],
          "scatterpolar": [
           {
            "marker": {
             "colorbar": {
              "outlinewidth": 0,
              "ticks": ""
             }
            },
            "type": "scatterpolar"
           }
          ],
          "scatterpolargl": [
           {
            "marker": {
             "colorbar": {
              "outlinewidth": 0,
              "ticks": ""
             }
            },
            "type": "scatterpolargl"
           }
          ],
          "scatterternary": [
           {
            "marker": {
             "colorbar": {
              "outlinewidth": 0,
              "ticks": ""
             }
            },
            "type": "scatterternary"
           }
          ],
          "surface": [
           {
            "colorbar": {
             "outlinewidth": 0,
             "ticks": ""
            },
            "colorscale": [
             [
              0,
              "#0d0887"
             ],
             [
              0.1111111111111111,
              "#46039f"
             ],
             [
              0.2222222222222222,
              "#7201a8"
             ],
             [
              0.3333333333333333,
              "#9c179e"
             ],
             [
              0.4444444444444444,
              "#bd3786"
             ],
             [
              0.5555555555555556,
              "#d8576b"
             ],
             [
              0.6666666666666666,
              "#ed7953"
             ],
             [
              0.7777777777777778,
              "#fb9f3a"
             ],
             [
              0.8888888888888888,
              "#fdca26"
             ],
             [
              1,
              "#f0f921"
             ]
            ],
            "type": "surface"
           }
          ],
          "table": [
           {
            "cells": {
             "fill": {
              "color": "#EBF0F8"
             },
             "line": {
              "color": "white"
             }
            },
            "header": {
             "fill": {
              "color": "#C8D4E3"
             },
             "line": {
              "color": "white"
             }
            },
            "type": "table"
           }
          ]
         },
         "layout": {
          "annotationdefaults": {
           "arrowcolor": "#2a3f5f",
           "arrowhead": 0,
           "arrowwidth": 1
          },
          "autotypenumbers": "strict",
          "coloraxis": {
           "colorbar": {
            "outlinewidth": 0,
            "ticks": ""
           }
          },
          "colorscale": {
           "diverging": [
            [
             0,
             "#8e0152"
            ],
            [
             0.1,
             "#c51b7d"
            ],
            [
             0.2,
             "#de77ae"
            ],
            [
             0.3,
             "#f1b6da"
            ],
            [
             0.4,
             "#fde0ef"
            ],
            [
             0.5,
             "#f7f7f7"
            ],
            [
             0.6,
             "#e6f5d0"
            ],
            [
             0.7,
             "#b8e186"
            ],
            [
             0.8,
             "#7fbc41"
            ],
            [
             0.9,
             "#4d9221"
            ],
            [
             1,
             "#276419"
            ]
           ],
           "sequential": [
            [
             0,
             "#0d0887"
            ],
            [
             0.1111111111111111,
             "#46039f"
            ],
            [
             0.2222222222222222,
             "#7201a8"
            ],
            [
             0.3333333333333333,
             "#9c179e"
            ],
            [
             0.4444444444444444,
             "#bd3786"
            ],
            [
             0.5555555555555556,
             "#d8576b"
            ],
            [
             0.6666666666666666,
             "#ed7953"
            ],
            [
             0.7777777777777778,
             "#fb9f3a"
            ],
            [
             0.8888888888888888,
             "#fdca26"
            ],
            [
             1,
             "#f0f921"
            ]
           ],
           "sequentialminus": [
            [
             0,
             "#0d0887"
            ],
            [
             0.1111111111111111,
             "#46039f"
            ],
            [
             0.2222222222222222,
             "#7201a8"
            ],
            [
             0.3333333333333333,
             "#9c179e"
            ],
            [
             0.4444444444444444,
             "#bd3786"
            ],
            [
             0.5555555555555556,
             "#d8576b"
            ],
            [
             0.6666666666666666,
             "#ed7953"
            ],
            [
             0.7777777777777778,
             "#fb9f3a"
            ],
            [
             0.8888888888888888,
             "#fdca26"
            ],
            [
             1,
             "#f0f921"
            ]
           ]
          },
          "colorway": [
           "#636efa",
           "#EF553B",
           "#00cc96",
           "#ab63fa",
           "#FFA15A",
           "#19d3f3",
           "#FF6692",
           "#B6E880",
           "#FF97FF",
           "#FECB52"
          ],
          "font": {
           "color": "#2a3f5f"
          },
          "geo": {
           "bgcolor": "white",
           "lakecolor": "white",
           "landcolor": "#E5ECF6",
           "showlakes": true,
           "showland": true,
           "subunitcolor": "white"
          },
          "hoverlabel": {
           "align": "left"
          },
          "hovermode": "closest",
          "mapbox": {
           "style": "light"
          },
          "paper_bgcolor": "white",
          "plot_bgcolor": "#E5ECF6",
          "polar": {
           "angularaxis": {
            "gridcolor": "white",
            "linecolor": "white",
            "ticks": ""
           },
           "bgcolor": "#E5ECF6",
           "radialaxis": {
            "gridcolor": "white",
            "linecolor": "white",
            "ticks": ""
           }
          },
          "scene": {
           "xaxis": {
            "backgroundcolor": "#E5ECF6",
            "gridcolor": "white",
            "gridwidth": 2,
            "linecolor": "white",
            "showbackground": true,
            "ticks": "",
            "zerolinecolor": "white"
           },
           "yaxis": {
            "backgroundcolor": "#E5ECF6",
            "gridcolor": "white",
            "gridwidth": 2,
            "linecolor": "white",
            "showbackground": true,
            "ticks": "",
            "zerolinecolor": "white"
           },
           "zaxis": {
            "backgroundcolor": "#E5ECF6",
            "gridcolor": "white",
            "gridwidth": 2,
            "linecolor": "white",
            "showbackground": true,
            "ticks": "",
            "zerolinecolor": "white"
           }
          },
          "shapedefaults": {
           "line": {
            "color": "#2a3f5f"
           }
          },
          "ternary": {
           "aaxis": {
            "gridcolor": "white",
            "linecolor": "white",
            "ticks": ""
           },
           "baxis": {
            "gridcolor": "white",
            "linecolor": "white",
            "ticks": ""
           },
           "bgcolor": "#E5ECF6",
           "caxis": {
            "gridcolor": "white",
            "linecolor": "white",
            "ticks": ""
           }
          },
          "title": {
           "x": 0.05
          },
          "xaxis": {
           "automargin": true,
           "gridcolor": "white",
           "linecolor": "white",
           "ticks": "",
           "title": {
            "standoff": 15
           },
           "zerolinecolor": "white",
           "zerolinewidth": 2
          },
          "yaxis": {
           "automargin": true,
           "gridcolor": "white",
           "linecolor": "white",
           "ticks": "",
           "title": {
            "standoff": 15
           },
           "zerolinecolor": "white",
           "zerolinewidth": 2
          }
         }
        },
        "title": {
         "text": "Percentage of invoices by country"
        },
        "width": 800
       }
      }
     },
     "metadata": {},
     "output_type": "display_data"
    }
   ],
   "source": [
    "# percentage of total invoices by country\n",
    "percentage['%'] = (percentage['invoice'] / percentage['invoice'].sum()) * 100\n",
    "perc=percentage.head(4)\n",
    "fig = px.pie(perc, values='invoice', names='country',\n",
    "             title='Percentage of invoices by country', width=800, height=500, hole=.4)\n",
    "fig.update_traces(textposition='inside', textinfo='percent+label')\n",
    "fig.show()"
   ]
  },
  {
   "cell_type": "code",
   "execution_count": 17,
   "metadata": {},
   "outputs": [],
   "source": [
    "# Change the data type  for column amount\n",
    "sales[\"amount\"] = [float(str(i).replace(\",\", \"\")) for i in sales[\"amount\"]]"
   ]
  },
  {
   "cell_type": "markdown",
   "metadata": {},
   "source": [
    "## 1.6 Total amount by countries"
   ]
  },
  {
   "cell_type": "markdown",
   "metadata": {},
   "source": [
    "#### As expected, when graphing the total amounts accumulated during 2021, the same trend as in the previous graphs is observed, showing that the UK generated the highest amount during the 2021 period."
   ]
  },
  {
   "cell_type": "code",
   "execution_count": 18,
   "metadata": {},
   "outputs": [
    {
     "data": {
      "application/vnd.plotly.v1+json": {
       "config": {
        "plotlyServerURL": "https://plot.ly"
       },
       "data": [
        {
         "alignmentgroup": "True",
         "hovertemplate": "country=%{x}<br>amount=%{y}<extra></extra>",
         "legendgroup": "",
         "marker": {
          "color": "#636efa",
          "pattern": {
           "shape": ""
          }
         },
         "name": "",
         "offsetgroup": "",
         "orientation": "v",
         "showlegend": false,
         "textposition": "auto",
         "type": "bar",
         "x": [
          "United Kingdom",
          "Germany",
          "EIRE",
          "France"
         ],
         "xaxis": "x",
         "y": [
          519730264,
          18292079,
          22865882,
          16532203
         ],
         "yaxis": "y"
        }
       ],
       "layout": {
        "barmode": "relative",
        "height": 500,
        "legend": {
         "tracegroupgap": 0
        },
        "template": {
         "data": {
          "bar": [
           {
            "error_x": {
             "color": "#2a3f5f"
            },
            "error_y": {
             "color": "#2a3f5f"
            },
            "marker": {
             "line": {
              "color": "#E5ECF6",
              "width": 0.5
             },
             "pattern": {
              "fillmode": "overlay",
              "size": 10,
              "solidity": 0.2
             }
            },
            "type": "bar"
           }
          ],
          "barpolar": [
           {
            "marker": {
             "line": {
              "color": "#E5ECF6",
              "width": 0.5
             },
             "pattern": {
              "fillmode": "overlay",
              "size": 10,
              "solidity": 0.2
             }
            },
            "type": "barpolar"
           }
          ],
          "carpet": [
           {
            "aaxis": {
             "endlinecolor": "#2a3f5f",
             "gridcolor": "white",
             "linecolor": "white",
             "minorgridcolor": "white",
             "startlinecolor": "#2a3f5f"
            },
            "baxis": {
             "endlinecolor": "#2a3f5f",
             "gridcolor": "white",
             "linecolor": "white",
             "minorgridcolor": "white",
             "startlinecolor": "#2a3f5f"
            },
            "type": "carpet"
           }
          ],
          "choropleth": [
           {
            "colorbar": {
             "outlinewidth": 0,
             "ticks": ""
            },
            "type": "choropleth"
           }
          ],
          "contour": [
           {
            "colorbar": {
             "outlinewidth": 0,
             "ticks": ""
            },
            "colorscale": [
             [
              0,
              "#0d0887"
             ],
             [
              0.1111111111111111,
              "#46039f"
             ],
             [
              0.2222222222222222,
              "#7201a8"
             ],
             [
              0.3333333333333333,
              "#9c179e"
             ],
             [
              0.4444444444444444,
              "#bd3786"
             ],
             [
              0.5555555555555556,
              "#d8576b"
             ],
             [
              0.6666666666666666,
              "#ed7953"
             ],
             [
              0.7777777777777778,
              "#fb9f3a"
             ],
             [
              0.8888888888888888,
              "#fdca26"
             ],
             [
              1,
              "#f0f921"
             ]
            ],
            "type": "contour"
           }
          ],
          "contourcarpet": [
           {
            "colorbar": {
             "outlinewidth": 0,
             "ticks": ""
            },
            "type": "contourcarpet"
           }
          ],
          "heatmap": [
           {
            "colorbar": {
             "outlinewidth": 0,
             "ticks": ""
            },
            "colorscale": [
             [
              0,
              "#0d0887"
             ],
             [
              0.1111111111111111,
              "#46039f"
             ],
             [
              0.2222222222222222,
              "#7201a8"
             ],
             [
              0.3333333333333333,
              "#9c179e"
             ],
             [
              0.4444444444444444,
              "#bd3786"
             ],
             [
              0.5555555555555556,
              "#d8576b"
             ],
             [
              0.6666666666666666,
              "#ed7953"
             ],
             [
              0.7777777777777778,
              "#fb9f3a"
             ],
             [
              0.8888888888888888,
              "#fdca26"
             ],
             [
              1,
              "#f0f921"
             ]
            ],
            "type": "heatmap"
           }
          ],
          "heatmapgl": [
           {
            "colorbar": {
             "outlinewidth": 0,
             "ticks": ""
            },
            "colorscale": [
             [
              0,
              "#0d0887"
             ],
             [
              0.1111111111111111,
              "#46039f"
             ],
             [
              0.2222222222222222,
              "#7201a8"
             ],
             [
              0.3333333333333333,
              "#9c179e"
             ],
             [
              0.4444444444444444,
              "#bd3786"
             ],
             [
              0.5555555555555556,
              "#d8576b"
             ],
             [
              0.6666666666666666,
              "#ed7953"
             ],
             [
              0.7777777777777778,
              "#fb9f3a"
             ],
             [
              0.8888888888888888,
              "#fdca26"
             ],
             [
              1,
              "#f0f921"
             ]
            ],
            "type": "heatmapgl"
           }
          ],
          "histogram": [
           {
            "marker": {
             "pattern": {
              "fillmode": "overlay",
              "size": 10,
              "solidity": 0.2
             }
            },
            "type": "histogram"
           }
          ],
          "histogram2d": [
           {
            "colorbar": {
             "outlinewidth": 0,
             "ticks": ""
            },
            "colorscale": [
             [
              0,
              "#0d0887"
             ],
             [
              0.1111111111111111,
              "#46039f"
             ],
             [
              0.2222222222222222,
              "#7201a8"
             ],
             [
              0.3333333333333333,
              "#9c179e"
             ],
             [
              0.4444444444444444,
              "#bd3786"
             ],
             [
              0.5555555555555556,
              "#d8576b"
             ],
             [
              0.6666666666666666,
              "#ed7953"
             ],
             [
              0.7777777777777778,
              "#fb9f3a"
             ],
             [
              0.8888888888888888,
              "#fdca26"
             ],
             [
              1,
              "#f0f921"
             ]
            ],
            "type": "histogram2d"
           }
          ],
          "histogram2dcontour": [
           {
            "colorbar": {
             "outlinewidth": 0,
             "ticks": ""
            },
            "colorscale": [
             [
              0,
              "#0d0887"
             ],
             [
              0.1111111111111111,
              "#46039f"
             ],
             [
              0.2222222222222222,
              "#7201a8"
             ],
             [
              0.3333333333333333,
              "#9c179e"
             ],
             [
              0.4444444444444444,
              "#bd3786"
             ],
             [
              0.5555555555555556,
              "#d8576b"
             ],
             [
              0.6666666666666666,
              "#ed7953"
             ],
             [
              0.7777777777777778,
              "#fb9f3a"
             ],
             [
              0.8888888888888888,
              "#fdca26"
             ],
             [
              1,
              "#f0f921"
             ]
            ],
            "type": "histogram2dcontour"
           }
          ],
          "mesh3d": [
           {
            "colorbar": {
             "outlinewidth": 0,
             "ticks": ""
            },
            "type": "mesh3d"
           }
          ],
          "parcoords": [
           {
            "line": {
             "colorbar": {
              "outlinewidth": 0,
              "ticks": ""
             }
            },
            "type": "parcoords"
           }
          ],
          "pie": [
           {
            "automargin": true,
            "type": "pie"
           }
          ],
          "scatter": [
           {
            "fillpattern": {
             "fillmode": "overlay",
             "size": 10,
             "solidity": 0.2
            },
            "type": "scatter"
           }
          ],
          "scatter3d": [
           {
            "line": {
             "colorbar": {
              "outlinewidth": 0,
              "ticks": ""
             }
            },
            "marker": {
             "colorbar": {
              "outlinewidth": 0,
              "ticks": ""
             }
            },
            "type": "scatter3d"
           }
          ],
          "scattercarpet": [
           {
            "marker": {
             "colorbar": {
              "outlinewidth": 0,
              "ticks": ""
             }
            },
            "type": "scattercarpet"
           }
          ],
          "scattergeo": [
           {
            "marker": {
             "colorbar": {
              "outlinewidth": 0,
              "ticks": ""
             }
            },
            "type": "scattergeo"
           }
          ],
          "scattergl": [
           {
            "marker": {
             "colorbar": {
              "outlinewidth": 0,
              "ticks": ""
             }
            },
            "type": "scattergl"
           }
          ],
          "scattermapbox": [
           {
            "marker": {
             "colorbar": {
              "outlinewidth": 0,
              "ticks": ""
             }
            },
            "type": "scattermapbox"
           }
          ],
          "scatterpolar": [
           {
            "marker": {
             "colorbar": {
              "outlinewidth": 0,
              "ticks": ""
             }
            },
            "type": "scatterpolar"
           }
          ],
          "scatterpolargl": [
           {
            "marker": {
             "colorbar": {
              "outlinewidth": 0,
              "ticks": ""
             }
            },
            "type": "scatterpolargl"
           }
          ],
          "scatterternary": [
           {
            "marker": {
             "colorbar": {
              "outlinewidth": 0,
              "ticks": ""
             }
            },
            "type": "scatterternary"
           }
          ],
          "surface": [
           {
            "colorbar": {
             "outlinewidth": 0,
             "ticks": ""
            },
            "colorscale": [
             [
              0,
              "#0d0887"
             ],
             [
              0.1111111111111111,
              "#46039f"
             ],
             [
              0.2222222222222222,
              "#7201a8"
             ],
             [
              0.3333333333333333,
              "#9c179e"
             ],
             [
              0.4444444444444444,
              "#bd3786"
             ],
             [
              0.5555555555555556,
              "#d8576b"
             ],
             [
              0.6666666666666666,
              "#ed7953"
             ],
             [
              0.7777777777777778,
              "#fb9f3a"
             ],
             [
              0.8888888888888888,
              "#fdca26"
             ],
             [
              1,
              "#f0f921"
             ]
            ],
            "type": "surface"
           }
          ],
          "table": [
           {
            "cells": {
             "fill": {
              "color": "#EBF0F8"
             },
             "line": {
              "color": "white"
             }
            },
            "header": {
             "fill": {
              "color": "#C8D4E3"
             },
             "line": {
              "color": "white"
             }
            },
            "type": "table"
           }
          ]
         },
         "layout": {
          "annotationdefaults": {
           "arrowcolor": "#2a3f5f",
           "arrowhead": 0,
           "arrowwidth": 1
          },
          "autotypenumbers": "strict",
          "coloraxis": {
           "colorbar": {
            "outlinewidth": 0,
            "ticks": ""
           }
          },
          "colorscale": {
           "diverging": [
            [
             0,
             "#8e0152"
            ],
            [
             0.1,
             "#c51b7d"
            ],
            [
             0.2,
             "#de77ae"
            ],
            [
             0.3,
             "#f1b6da"
            ],
            [
             0.4,
             "#fde0ef"
            ],
            [
             0.5,
             "#f7f7f7"
            ],
            [
             0.6,
             "#e6f5d0"
            ],
            [
             0.7,
             "#b8e186"
            ],
            [
             0.8,
             "#7fbc41"
            ],
            [
             0.9,
             "#4d9221"
            ],
            [
             1,
             "#276419"
            ]
           ],
           "sequential": [
            [
             0,
             "#0d0887"
            ],
            [
             0.1111111111111111,
             "#46039f"
            ],
            [
             0.2222222222222222,
             "#7201a8"
            ],
            [
             0.3333333333333333,
             "#9c179e"
            ],
            [
             0.4444444444444444,
             "#bd3786"
            ],
            [
             0.5555555555555556,
             "#d8576b"
            ],
            [
             0.6666666666666666,
             "#ed7953"
            ],
            [
             0.7777777777777778,
             "#fb9f3a"
            ],
            [
             0.8888888888888888,
             "#fdca26"
            ],
            [
             1,
             "#f0f921"
            ]
           ],
           "sequentialminus": [
            [
             0,
             "#0d0887"
            ],
            [
             0.1111111111111111,
             "#46039f"
            ],
            [
             0.2222222222222222,
             "#7201a8"
            ],
            [
             0.3333333333333333,
             "#9c179e"
            ],
            [
             0.4444444444444444,
             "#bd3786"
            ],
            [
             0.5555555555555556,
             "#d8576b"
            ],
            [
             0.6666666666666666,
             "#ed7953"
            ],
            [
             0.7777777777777778,
             "#fb9f3a"
            ],
            [
             0.8888888888888888,
             "#fdca26"
            ],
            [
             1,
             "#f0f921"
            ]
           ]
          },
          "colorway": [
           "#636efa",
           "#EF553B",
           "#00cc96",
           "#ab63fa",
           "#FFA15A",
           "#19d3f3",
           "#FF6692",
           "#B6E880",
           "#FF97FF",
           "#FECB52"
          ],
          "font": {
           "color": "#2a3f5f"
          },
          "geo": {
           "bgcolor": "white",
           "lakecolor": "white",
           "landcolor": "#E5ECF6",
           "showlakes": true,
           "showland": true,
           "subunitcolor": "white"
          },
          "hoverlabel": {
           "align": "left"
          },
          "hovermode": "closest",
          "mapbox": {
           "style": "light"
          },
          "paper_bgcolor": "white",
          "plot_bgcolor": "#E5ECF6",
          "polar": {
           "angularaxis": {
            "gridcolor": "white",
            "linecolor": "white",
            "ticks": ""
           },
           "bgcolor": "#E5ECF6",
           "radialaxis": {
            "gridcolor": "white",
            "linecolor": "white",
            "ticks": ""
           }
          },
          "scene": {
           "xaxis": {
            "backgroundcolor": "#E5ECF6",
            "gridcolor": "white",
            "gridwidth": 2,
            "linecolor": "white",
            "showbackground": true,
            "ticks": "",
            "zerolinecolor": "white"
           },
           "yaxis": {
            "backgroundcolor": "#E5ECF6",
            "gridcolor": "white",
            "gridwidth": 2,
            "linecolor": "white",
            "showbackground": true,
            "ticks": "",
            "zerolinecolor": "white"
           },
           "zaxis": {
            "backgroundcolor": "#E5ECF6",
            "gridcolor": "white",
            "gridwidth": 2,
            "linecolor": "white",
            "showbackground": true,
            "ticks": "",
            "zerolinecolor": "white"
           }
          },
          "shapedefaults": {
           "line": {
            "color": "#2a3f5f"
           }
          },
          "ternary": {
           "aaxis": {
            "gridcolor": "white",
            "linecolor": "white",
            "ticks": ""
           },
           "baxis": {
            "gridcolor": "white",
            "linecolor": "white",
            "ticks": ""
           },
           "bgcolor": "#E5ECF6",
           "caxis": {
            "gridcolor": "white",
            "linecolor": "white",
            "ticks": ""
           }
          },
          "title": {
           "x": 0.05
          },
          "xaxis": {
           "automargin": true,
           "gridcolor": "white",
           "linecolor": "white",
           "ticks": "",
           "title": {
            "standoff": 15
           },
           "zerolinecolor": "white",
           "zerolinewidth": 2
          },
          "yaxis": {
           "automargin": true,
           "gridcolor": "white",
           "linecolor": "white",
           "ticks": "",
           "title": {
            "standoff": 15
           },
           "zerolinecolor": "white",
           "zerolinewidth": 2
          }
         }
        },
        "title": {
         "text": "Top countries by amount"
        },
        "width": 800,
        "xaxis": {
         "anchor": "y",
         "domain": [
          0,
          1
         ],
         "title": {
          "text": "country"
         }
        },
        "yaxis": {
         "anchor": "x",
         "domain": [
          0,
          1
         ],
         "title": {
          "text": "amount"
         }
        }
       }
      }
     },
     "metadata": {},
     "output_type": "display_data"
    }
   ],
   "source": [
    "# Group total amount by countries\n",
    "total_amount=sales.groupby('country', as_index=False, sort=False).agg({'amount': 'sum'})\n",
    "top_amount=total_amount.head(4)\n",
    "fig = px.bar(top_amount, x=\"country\", y=\"amount\", title='Top countries by amount', width=800, height=500)\n",
    "fig.show()\n"
   ]
  },
  {
   "cell_type": "markdown",
   "metadata": {},
   "source": [
    "# 2. Cohort analyst "
   ]
  },
  {
   "cell_type": "markdown",
   "metadata": {},
   "source": [
    "### Now we can analyze how many customers remain in business during the period, which can indicate the impact of the business strategies implemented on customers to keep them over time."
   ]
  },
  {
   "cell_type": "markdown",
   "metadata": {},
   "source": [
    "### 2.1 Insights"
   ]
  },
  {
   "cell_type": "markdown",
   "metadata": {},
   "source": [
    "#### Analyzing the data, it is observed that there are no negative values ​​in the units column, and the data count of the invoices column and the id_client column are also observed, so there are no null values. Finally, it was observed that the maximum number of invoices is greater than the number of clients because it already gives us an idea of retention data."
   ]
  },
  {
   "cell_type": "code",
   "execution_count": 19,
   "metadata": {},
   "outputs": [
    {
     "data": {
      "text/html": [
       "<div>\n",
       "<style scoped>\n",
       "    .dataframe tbody tr th:only-of-type {\n",
       "        vertical-align: middle;\n",
       "    }\n",
       "\n",
       "    .dataframe tbody tr th {\n",
       "        vertical-align: top;\n",
       "    }\n",
       "\n",
       "    .dataframe thead th {\n",
       "        text-align: right;\n",
       "    }\n",
       "</style>\n",
       "<table border=\"1\" class=\"dataframe\">\n",
       "  <thead>\n",
       "    <tr style=\"text-align: right;\">\n",
       "      <th></th>\n",
       "      <th>count</th>\n",
       "      <th>mean</th>\n",
       "      <th>std</th>\n",
       "      <th>min</th>\n",
       "      <th>25%</th>\n",
       "      <th>50%</th>\n",
       "      <th>75%</th>\n",
       "      <th>max</th>\n",
       "    </tr>\n",
       "  </thead>\n",
       "  <tbody>\n",
       "    <tr>\n",
       "      <th>invoice</th>\n",
       "      <td>18570.0</td>\n",
       "      <td>559516.518848</td>\n",
       "      <td>13040.460425</td>\n",
       "      <td>536365.0</td>\n",
       "      <td>548335.25</td>\n",
       "      <td>559809.5</td>\n",
       "      <td>570826.75</td>\n",
       "      <td>581587.0</td>\n",
       "    </tr>\n",
       "    <tr>\n",
       "      <th>id_Client</th>\n",
       "      <td>18570.0</td>\n",
       "      <td>15265.970813</td>\n",
       "      <td>1734.016581</td>\n",
       "      <td>12346.0</td>\n",
       "      <td>13772.50</td>\n",
       "      <td>15173.0</td>\n",
       "      <td>16779.00</td>\n",
       "      <td>18287.0</td>\n",
       "    </tr>\n",
       "    <tr>\n",
       "      <th>units</th>\n",
       "      <td>18570.0</td>\n",
       "      <td>279.071459</td>\n",
       "      <td>975.795133</td>\n",
       "      <td>1.0</td>\n",
       "      <td>74.00</td>\n",
       "      <td>155.0</td>\n",
       "      <td>290.75</td>\n",
       "      <td>80995.0</td>\n",
       "    </tr>\n",
       "    <tr>\n",
       "      <th>amount</th>\n",
       "      <td>18570.0</td>\n",
       "      <td>35048.709424</td>\n",
       "      <td>84494.396329</td>\n",
       "      <td>0.0</td>\n",
       "      <td>3451.50</td>\n",
       "      <td>19505.0</td>\n",
       "      <td>38557.75</td>\n",
       "      <td>3169816.0</td>\n",
       "    </tr>\n",
       "  </tbody>\n",
       "</table>\n",
       "</div>"
      ],
      "text/plain": [
       "             count           mean           std       min        25%  \\\n",
       "invoice    18570.0  559516.518848  13040.460425  536365.0  548335.25   \n",
       "id_Client  18570.0   15265.970813   1734.016581   12346.0   13772.50   \n",
       "units      18570.0     279.071459    975.795133       1.0      74.00   \n",
       "amount     18570.0   35048.709424  84494.396329       0.0    3451.50   \n",
       "\n",
       "                50%        75%        max  \n",
       "invoice    559809.5  570826.75   581587.0  \n",
       "id_Client   15173.0   16779.00    18287.0  \n",
       "units         155.0     290.75    80995.0  \n",
       "amount      19505.0   38557.75  3169816.0  "
      ]
     },
     "execution_count": 19,
     "metadata": {},
     "output_type": "execute_result"
    }
   ],
   "source": [
    "sales.describe().transpose()"
   ]
  },
  {
   "cell_type": "markdown",
   "metadata": {},
   "source": [
    "#### Grouping the data by client id and invoice numbers and later we filter by the clients that have generated more than one invoice,\n",
    "#### it is obtained that 67% of the clients ordered more than once."
   ]
  },
  {
   "cell_type": "code",
   "execution_count": 20,
   "metadata": {},
   "outputs": [
    {
     "name": "stdout",
     "output_type": "stream",
     "text": [
      "65.57% of customers ordered more than once.\n"
     ]
    }
   ],
   "source": [
    "#Groupby numbers of invoices/ client_id and filter by id_client with more than one order \n",
    "n_orders = df.groupby(['id_Client'])['invoice'].nunique()\n",
    "mult_orders_perc = np.sum(n_orders > 1) / sales['id_Client'].nunique()\n",
    "print(f'{100 * mult_orders_perc:.2f}% of customers ordered more than once.')"
   ]
  },
  {
   "cell_type": "markdown",
   "metadata": {},
   "source": [
    "### 2.2 Histogram"
   ]
  },
  {
   "cell_type": "markdown",
   "metadata": {},
   "source": [
    "#### The histogram shows that the majority of customers 3900 aprox. presents an invoice frequency of 0-9, then decreases to clients with invoice frequencies of 10 -19, and only some exceptions, clients have 50 to 200 invoices."
   ]
  },
  {
   "cell_type": "code",
   "execution_count": 21,
   "metadata": {},
   "outputs": [
    {
     "data": {
      "application/vnd.plotly.v1+json": {
       "config": {
        "plotlyServerURL": "https://plot.ly"
       },
       "data": [
        {
         "alignmentgroup": "True",
         "bingroup": "x",
         "hovertemplate": "invoice=%{x}<br>count=%{y}<extra></extra>",
         "legendgroup": "",
         "marker": {
          "color": "#636efa",
          "pattern": {
           "shape": ""
          }
         },
         "name": "",
         "nbinsx": 40,
         "offsetgroup": "",
         "orientation": "v",
         "showlegend": false,
         "type": "histogram",
         "x": [
          1,
          7,
          4,
          1,
          1,
          8,
          1,
          1,
          1,
          3,
          1,
          2,
          4,
          3,
          1,
          10,
          2,
          4,
          2,
          1,
          4,
          2,
          3,
          1,
          1,
          2,
          2,
          1,
          2,
          4,
          5,
          5,
          2,
          2,
          6,
          1,
          1,
          4,
          2,
          12,
          2,
          1,
          4,
          1,
          1,
          1,
          1,
          2,
          5,
          5,
          3,
          2,
          3,
          3,
          3,
          21,
          9,
          1,
          1,
          4,
          3,
          8,
          2,
          1,
          1,
          3,
          9,
          4,
          1,
          15,
          5,
          7,
          2,
          2,
          1,
          18,
          2,
          1,
          1,
          5,
          1,
          1,
          1,
          1,
          4,
          2,
          5,
          2,
          1,
          1,
          6,
          3,
          7,
          2,
          2,
          2,
          4,
          8,
          2,
          2,
          30,
          7,
          5,
          18,
          1,
          11,
          6,
          1,
          1,
          4,
          10,
          8,
          6,
          3,
          1,
          10,
          1,
          2,
          2,
          7,
          1,
          3,
          11,
          1,
          5,
          2,
          1,
          3,
          2,
          1,
          2,
          2,
          1,
          1,
          1,
          2,
          5,
          5,
          1,
          5,
          1,
          2,
          11,
          8,
          3,
          3,
          6,
          4,
          1,
          1,
          1,
          2,
          3,
          1,
          4,
          17,
          3,
          1,
          2,
          2,
          2,
          1,
          1,
          1,
          2,
          10,
          2,
          5,
          1,
          2,
          3,
          1,
          7,
          1,
          1,
          1,
          10,
          32,
          2,
          2,
          1,
          1,
          5,
          3,
          2,
          1,
          1,
          1,
          2,
          15,
          9,
          2,
          1,
          1,
          1,
          2,
          2,
          1,
          2,
          3,
          10,
          2,
          4,
          8,
          7,
          10,
          5,
          1,
          1,
          2,
          1,
          3,
          5,
          1,
          1,
          5,
          1,
          4,
          2,
          1,
          1,
          9,
          3,
          20,
          1,
          1,
          2,
          2,
          9,
          7,
          3,
          2,
          1,
          4,
          2,
          8,
          1,
          1,
          3,
          1,
          3,
          6,
          1,
          4,
          2,
          12,
          1,
          3,
          1,
          1,
          1,
          2,
          5,
          5,
          4,
          1,
          1,
          1,
          11,
          9,
          1,
          1,
          4,
          3,
          5,
          1,
          2,
          4,
          6,
          12,
          4,
          4,
          22,
          31,
          15,
          7,
          6,
          1,
          1,
          2,
          1,
          6,
          4,
          2,
          4,
          3,
          4,
          2,
          1,
          1,
          8,
          9,
          1,
          10,
          15,
          3,
          13,
          1,
          5,
          1,
          2,
          2,
          1,
          2,
          25,
          6,
          4,
          5,
          4,
          1,
          7,
          7,
          4,
          1,
          12,
          1,
          1,
          1,
          2,
          1,
          1,
          2,
          1,
          2,
          7,
          11,
          210,
          5,
          1,
          1,
          6,
          3,
          2,
          1,
          13,
          2,
          3,
          2,
          2,
          1,
          7,
          1,
          1,
          1,
          5,
          6,
          8,
          2,
          5,
          6,
          2,
          1,
          3,
          1,
          1,
          1,
          1,
          2,
          2,
          1,
          1,
          3,
          1,
          3,
          1,
          3,
          1,
          1,
          2,
          2,
          1,
          1,
          4,
          1,
          2,
          5,
          1,
          7,
          3,
          6,
          2,
          6,
          1,
          2,
          1,
          1,
          4,
          1,
          2,
          14,
          4,
          25,
          2,
          8,
          2,
          4,
          1,
          2,
          1,
          1,
          6,
          3,
          1,
          6,
          2,
          1,
          1,
          2,
          1,
          7,
          6,
          2,
          2,
          1,
          2,
          2,
          12,
          2,
          3,
          1,
          2,
          4,
          1,
          3,
          2,
          2,
          1,
          3,
          1,
          2,
          2,
          28,
          1,
          2,
          5,
          2,
          5,
          8,
          5,
          5,
          2,
          4,
          1,
          6,
          1,
          37,
          1,
          1,
          4,
          2,
          5,
          1,
          2,
          15,
          3,
          7,
          4,
          4,
          1,
          8,
          2,
          3,
          2,
          1,
          6,
          7,
          8,
          3,
          6,
          4,
          1,
          11,
          1,
          8,
          2,
          8,
          1,
          1,
          2,
          1,
          4,
          86,
          1,
          1,
          1,
          9,
          2,
          1,
          1,
          2,
          2,
          1,
          15,
          3,
          2,
          4,
          3,
          1,
          4,
          3,
          3,
          13,
          1,
          3,
          18,
          2,
          1,
          1,
          1,
          8,
          13,
          10,
          5,
          3,
          1,
          28,
          9,
          2,
          5,
          6,
          2,
          3,
          2,
          2,
          1,
          2,
          2,
          3,
          3,
          2,
          1,
          1,
          1,
          2,
          10,
          4,
          2,
          17,
          1,
          3,
          3,
          1,
          1,
          1,
          1,
          4,
          1,
          2,
          1,
          2,
          24,
          1,
          1,
          1,
          4,
          26,
          5,
          1,
          11,
          9,
          2,
          2,
          97,
          14,
          1,
          5,
          8,
          12,
          1,
          10,
          28,
          1,
          1,
          24,
          1,
          6,
          1,
          4,
          1,
          2,
          7,
          24,
          4,
          1,
          8,
          5,
          1,
          1,
          2,
          3,
          8,
          1,
          1,
          3,
          1,
          2,
          4,
          1,
          5,
          8,
          6,
          7,
          3,
          5,
          1,
          1,
          4,
          1,
          4,
          12,
          4,
          1,
          1,
          4,
          4,
          4,
          4,
          1,
          1,
          4,
          2,
          1,
          4,
          4,
          2,
          1,
          3,
          2,
          3,
          1,
          1,
          11,
          1,
          9,
          10,
          1,
          3,
          1,
          1,
          2,
          2,
          1,
          1,
          4,
          6,
          38,
          4,
          4,
          2,
          6,
          8,
          1,
          3,
          3,
          5,
          1,
          3,
          1,
          4,
          2,
          2,
          2,
          7,
          1,
          1,
          1,
          1,
          14,
          7,
          2,
          1,
          2,
          4,
          1,
          4,
          3,
          1,
          1,
          1,
          6,
          4,
          2,
          3,
          2,
          2,
          1,
          3,
          1,
          1,
          2,
          1,
          35,
          5,
          12,
          19,
          11,
          15,
          1,
          1,
          2,
          1,
          2,
          4,
          1,
          1,
          3,
          3,
          2,
          1,
          4,
          1,
          2,
          2,
          1,
          1,
          4,
          1,
          1,
          1,
          4,
          1,
          1,
          10,
          1,
          3,
          5,
          3,
          2,
          5,
          3,
          4,
          6,
          3,
          26,
          4,
          2,
          1,
          5,
          10,
          1,
          8,
          1,
          2,
          3,
          1,
          3,
          1,
          1,
          1,
          7,
          1,
          1,
          3,
          1,
          1,
          1,
          1,
          2,
          1,
          1,
          1,
          1,
          1,
          1,
          1,
          1,
          4,
          2,
          1,
          2,
          1,
          2,
          1,
          1,
          1,
          3,
          1,
          3,
          3,
          6,
          1,
          7,
          1,
          2,
          3,
          1,
          1,
          8,
          1,
          2,
          5,
          1,
          2,
          1,
          2,
          3,
          62,
          5,
          1,
          3,
          2,
          2,
          18,
          1,
          2,
          2,
          1,
          3,
          10,
          3,
          1,
          4,
          2,
          2,
          2,
          7,
          1,
          7,
          1,
          1,
          3,
          6,
          1,
          6,
          5,
          2,
          2,
          2,
          6,
          14,
          2,
          3,
          1,
          1,
          1,
          2,
          37,
          2,
          4,
          2,
          1,
          4,
          2,
          6,
          2,
          5,
          1,
          1,
          1,
          1,
          3,
          3,
          13,
          4,
          10,
          3,
          2,
          1,
          5,
          2,
          2,
          5,
          3,
          1,
          3,
          1,
          1,
          4,
          2,
          4,
          1,
          7,
          4,
          1,
          1,
          1,
          4,
          3,
          3,
          1,
          1,
          6,
          3,
          1,
          5,
          5,
          2,
          7,
          2,
          2,
          1,
          3,
          25,
          7,
          7,
          3,
          2,
          3,
          2,
          7,
          1,
          12,
          4,
          2,
          4,
          1,
          1,
          3,
          2,
          3,
          2,
          2,
          1,
          2,
          1,
          12,
          1,
          2,
          5,
          18,
          4,
          2,
          1,
          1,
          1,
          1,
          9,
          2,
          6,
          3,
          4,
          5,
          1,
          2,
          1,
          21,
          1,
          2,
          1,
          1,
          3,
          1,
          7,
          3,
          4,
          1,
          3,
          1,
          1,
          5,
          1,
          5,
          11,
          7,
          11,
          5,
          5,
          1,
          5,
          3,
          1,
          1,
          1,
          3,
          4,
          1,
          4,
          2,
          6,
          2,
          3,
          6,
          2,
          2,
          2,
          5,
          2,
          3,
          1,
          3,
          1,
          21,
          2,
          1,
          2,
          2,
          2,
          1,
          4,
          4,
          1,
          1,
          7,
          1,
          1,
          1,
          3,
          50,
          15,
          1,
          1,
          10,
          1,
          9,
          3,
          1,
          2,
          1,
          13,
          1,
          2,
          1,
          5,
          1,
          6,
          2,
          5,
          4,
          1,
          3,
          1,
          8,
          2,
          2,
          6,
          2,
          2,
          1,
          4,
          2,
          1,
          1,
          1,
          3,
          12,
          7,
          2,
          1,
          1,
          5,
          5,
          1,
          6,
          1,
          2,
          9,
          14,
          7,
          2,
          2,
          2,
          1,
          1,
          3,
          37,
          10,
          4,
          3,
          1,
          33,
          1,
          2,
          1,
          6,
          11,
          1,
          2,
          1,
          2,
          2,
          57,
          2,
          1,
          1,
          3,
          1,
          7,
          2,
          1,
          1,
          5,
          1,
          3,
          3,
          3,
          4,
          2,
          4,
          2,
          2,
          3,
          2,
          2,
          2,
          5,
          1,
          3,
          1,
          6,
          1,
          1,
          4,
          2,
          4,
          1,
          9,
          1,
          1,
          3,
          3,
          2,
          1,
          3,
          1,
          25,
          3,
          1,
          1,
          5,
          8,
          1,
          4,
          1,
          3,
          2,
          4,
          8,
          13,
          3,
          1,
          5,
          1,
          1,
          1,
          13,
          20,
          5,
          5,
          5,
          2,
          1,
          1,
          2,
          1,
          10,
          4,
          1,
          3,
          4,
          1,
          1,
          2,
          3,
          5,
          2,
          4,
          9,
          2,
          2,
          2,
          2,
          1,
          1,
          6,
          4,
          1,
          1,
          4,
          2,
          2,
          2,
          1,
          2,
          1,
          1,
          1,
          1,
          3,
          4,
          5,
          3,
          1,
          1,
          6,
          4,
          3,
          2,
          7,
          2,
          2,
          5,
          3,
          2,
          2,
          4,
          1,
          18,
          8,
          2,
          1,
          1,
          6,
          1,
          2,
          1,
          1,
          4,
          12,
          5,
          15,
          1,
          6,
          2,
          1,
          6,
          1,
          9,
          6,
          5,
          12,
          1,
          3,
          2,
          7,
          5,
          3,
          2,
          1,
          3,
          1,
          1,
          4,
          3,
          2,
          3,
          1,
          2,
          2,
          1,
          2,
          8,
          19,
          11,
          3,
          5,
          1,
          2,
          3,
          1,
          12,
          1,
          4,
          4,
          1,
          5,
          1,
          4,
          2,
          23,
          1,
          2,
          1,
          1,
          23,
          17,
          1,
          19,
          12,
          5,
          1,
          2,
          1,
          8,
          1,
          3,
          1,
          5,
          6,
          1,
          1,
          2,
          1,
          9,
          18,
          1,
          13,
          1,
          1,
          14,
          1,
          17,
          1,
          11,
          1,
          6,
          5,
          2,
          1,
          7,
          2,
          1,
          12,
          4,
          7,
          4,
          2,
          5,
          1,
          4,
          1,
          3,
          3,
          3,
          2,
          5,
          1,
          11,
          3,
          15,
          2,
          1,
          2,
          4,
          1,
          1,
          4,
          5,
          2,
          1,
          1,
          2,
          2,
          2,
          1,
          55,
          2,
          1,
          11,
          3,
          2,
          4,
          2,
          1,
          4,
          1,
          4,
          1,
          3,
          4,
          4,
          7,
          2,
          25,
          1,
          1,
          6,
          15,
          13,
          2,
          21,
          2,
          1,
          4,
          1,
          7,
          1,
          2,
          1,
          1,
          6,
          6,
          9,
          1,
          5,
          6,
          4,
          17,
          1,
          1,
          2,
          9,
          1,
          3,
          4,
          5,
          10,
          3,
          3,
          5,
          4,
          4,
          5,
          2,
          1,
          1,
          11,
          2,
          1,
          2,
          10,
          2,
          3,
          1,
          1,
          3,
          5,
          2,
          5,
          9,
          1,
          2,
          8,
          2,
          2,
          3,
          1,
          1,
          2,
          4,
          3,
          3,
          1,
          15,
          2,
          4,
          3,
          3,
          1,
          6,
          5,
          11,
          9,
          4,
          1,
          4,
          44,
          9,
          1,
          1,
          1,
          3,
          2,
          6,
          9,
          1,
          6,
          1,
          6,
          1,
          2,
          5,
          2,
          1,
          1,
          7,
          2,
          3,
          1,
          8,
          2,
          4,
          2,
          1,
          1,
          8,
          4,
          8,
          1,
          2,
          1,
          1,
          1,
          1,
          4,
          1,
          2,
          1,
          2,
          1,
          3,
          4,
          1,
          8,
          16,
          1,
          1,
          1,
          1,
          2,
          2,
          1,
          1,
          3,
          3,
          1,
          3,
          8,
          2,
          9,
          1,
          9,
          2,
          19,
          1,
          13,
          4,
          6,
          1,
          6,
          7,
          6,
          9,
          1,
          2,
          1,
          7,
          13,
          2,
          3,
          6,
          1,
          2,
          6,
          1,
          1,
          10,
          2,
          5,
          1,
          6,
          6,
          1,
          1,
          1,
          1,
          5,
          4,
          2,
          4,
          4,
          5,
          2,
          4,
          3,
          2,
          2,
          1,
          9,
          1,
          1,
          3,
          3,
          11,
          3,
          3,
          7,
          4,
          2,
          8,
          2,
          1,
          3,
          1,
          4,
          2,
          1,
          2,
          6,
          1,
          1,
          1,
          6,
          1,
          1,
          2,
          5,
          1,
          2,
          2,
          1,
          5,
          3,
          3,
          2,
          11,
          6,
          4,
          8,
          5,
          6,
          2,
          5,
          2,
          3,
          3,
          6,
          2,
          1,
          2,
          4,
          1,
          9,
          9,
          55,
          1,
          3,
          6,
          4,
          7,
          18,
          3,
          1,
          1,
          2,
          2,
          3,
          8,
          1,
          16,
          2,
          5,
          8,
          2,
          1,
          2,
          2,
          1,
          5,
          4,
          2,
          1,
          22,
          3,
          18,
          4,
          1,
          2,
          1,
          2,
          7,
          9,
          1,
          4,
          1,
          1,
          1,
          5,
          4,
          1,
          1,
          9,
          1,
          4,
          3,
          3,
          2,
          6,
          2,
          1,
          1,
          1,
          1,
          93,
          14,
          4,
          4,
          3,
          3,
          1,
          2,
          5,
          1,
          5,
          2,
          2,
          4,
          2,
          2,
          3,
          1,
          1,
          2,
          1,
          6,
          6,
          1,
          1,
          2,
          2,
          2,
          74,
          1,
          4,
          2,
          1,
          7,
          4,
          2,
          4,
          2,
          9,
          2,
          1,
          4,
          2,
          5,
          1,
          25,
          3,
          2,
          2,
          5,
          1,
          6,
          16,
          3,
          2,
          5,
          1,
          21,
          1,
          2,
          5,
          4,
          1,
          7,
          2,
          5,
          1,
          3,
          9,
          17,
          1,
          9,
          1,
          3,
          13,
          4,
          11,
          3,
          11,
          1,
          4,
          2,
          5,
          3,
          1,
          6,
          1,
          1,
          1,
          8,
          3,
          8,
          12,
          32,
          3,
          7,
          7,
          3,
          6,
          7,
          5,
          1,
          5,
          1,
          1,
          2,
          11,
          1,
          1,
          4,
          3,
          1,
          2,
          1,
          1,
          3,
          6,
          2,
          8,
          2,
          1,
          3,
          11,
          2,
          3,
          2,
          1,
          2,
          2,
          2,
          1,
          4,
          1,
          1,
          7,
          1,
          17,
          3,
          1,
          12,
          1,
          3,
          1,
          4,
          1,
          8,
          11,
          2,
          2,
          1,
          2,
          3,
          2,
          4,
          1,
          3,
          4,
          12,
          3,
          4,
          1,
          6,
          3,
          4,
          1,
          6,
          4,
          4,
          1,
          25,
          1,
          2,
          6,
          2,
          7,
          2,
          3,
          2,
          4,
          1,
          1,
          2,
          1,
          2,
          12,
          3,
          8,
          2,
          1,
          4,
          1,
          2,
          9,
          3,
          1,
          2,
          6,
          1,
          1,
          1,
          1,
          1,
          1,
          2,
          2,
          1,
          20,
          2,
          4,
          6,
          9,
          1,
          5,
          2,
          2,
          7,
          1,
          4,
          201,
          2,
          4,
          2,
          4,
          2,
          2,
          2,
          1,
          1,
          1,
          3,
          5,
          1,
          2,
          1,
          8,
          3,
          12,
          1,
          2,
          6,
          1,
          1,
          11,
          1,
          1,
          1,
          3,
          4,
          2,
          9,
          1,
          5,
          1,
          2,
          1,
          1,
          1,
          4,
          3,
          1,
          3,
          1,
          1,
          7,
          5,
          1,
          2,
          2,
          2,
          1,
          2,
          3,
          2,
          1,
          4,
          1,
          28,
          1,
          1,
          3,
          1,
          2,
          2,
          1,
          1,
          3,
          1,
          9,
          4,
          11,
          10,
          1,
          3,
          4,
          4,
          2,
          4,
          3,
          10,
          8,
          1,
          3,
          6,
          47,
          1,
          1,
          1,
          17,
          2,
          15,
          1,
          4,
          1,
          3,
          3,
          1,
          3,
          2,
          2,
          11,
          9,
          4,
          48,
          4,
          1,
          4,
          1,
          3,
          2,
          1,
          1,
          2,
          3,
          1,
          1,
          1,
          32,
          4,
          5,
          1,
          1,
          2,
          6,
          1,
          1,
          2,
          6,
          4,
          1,
          1,
          3,
          1,
          3,
          2,
          2,
          2,
          7,
          5,
          6,
          4,
          1,
          4,
          3,
          3,
          10,
          1,
          4,
          5,
          1,
          1,
          1,
          2,
          3,
          2,
          2,
          15,
          1,
          4,
          11,
          1,
          5,
          3,
          8,
          1,
          4,
          2,
          7,
          1,
          1,
          17,
          4,
          2,
          1,
          1,
          1,
          10,
          13,
          1,
          1,
          3,
          3,
          1,
          30,
          1,
          2,
          3,
          1,
          1,
          1,
          1,
          5,
          1,
          1,
          1,
          5,
          1,
          3,
          2,
          2,
          1,
          2,
          16,
          41,
          3,
          1,
          15,
          1,
          3,
          2,
          4,
          5,
          6,
          1,
          2,
          4,
          5,
          1,
          2,
          1,
          2,
          8,
          3,
          1,
          11,
          1,
          6,
          1,
          1,
          2,
          2,
          1,
          1,
          5,
          4,
          2,
          2,
          1,
          12,
          1,
          4,
          3,
          2,
          5,
          8,
          1,
          2,
          3,
          2,
          1,
          13,
          11,
          2,
          5,
          1,
          1,
          1,
          1,
          2,
          7,
          1,
          1,
          1,
          1,
          2,
          1,
          5,
          1,
          7,
          15,
          2,
          2,
          1,
          1,
          1,
          1,
          1,
          9,
          1,
          2,
          5,
          3,
          18,
          15,
          1,
          6,
          3,
          12,
          7,
          1,
          12,
          1,
          8,
          3,
          1,
          1,
          91,
          4,
          1,
          1,
          2,
          1,
          1,
          1,
          1,
          3,
          1,
          1,
          1,
          1,
          3,
          2,
          4,
          1,
          3,
          1,
          2,
          1,
          1,
          1,
          3,
          1,
          1,
          1,
          1,
          2,
          1,
          7,
          2,
          2,
          10,
          22,
          1,
          1,
          1,
          2,
          7,
          2,
          4,
          1,
          7,
          1,
          12,
          1,
          3,
          7,
          5,
          2,
          6,
          2,
          1,
          1,
          1,
          1,
          4,
          2,
          4,
          1,
          1,
          1,
          2,
          3,
          5,
          2,
          1,
          2,
          4,
          1,
          8,
          4,
          1,
          3,
          1,
          4,
          1,
          1,
          4,
          2,
          1,
          2,
          5,
          3,
          1,
          2,
          1,
          2,
          5,
          1,
          3,
          1,
          1,
          3,
          1,
          7,
          2,
          1,
          1,
          1,
          3,
          1,
          3,
          7,
          1,
          3,
          1,
          1,
          1,
          3,
          1,
          1,
          18,
          1,
          3,
          2,
          2,
          1,
          1,
          7,
          1,
          2,
          1,
          12,
          4,
          4,
          3,
          1,
          3,
          6,
          2,
          5,
          2,
          2,
          27,
          4,
          12,
          1,
          1,
          5,
          3,
          1,
          6,
          1,
          5,
          2,
          19,
          11,
          3,
          1,
          8,
          1,
          8,
          2,
          1,
          1,
          3,
          2,
          8,
          1,
          11,
          4,
          2,
          4,
          3,
          4,
          1,
          1,
          1,
          1,
          1,
          9,
          2,
          14,
          3,
          4,
          1,
          1,
          1,
          1,
          16,
          1,
          1,
          4,
          1,
          4,
          2,
          1,
          3,
          5,
          12,
          4,
          7,
          2,
          4,
          1,
          3,
          1,
          2,
          13,
          3,
          4,
          1,
          4,
          3,
          1,
          1,
          5,
          5,
          1,
          1,
          2,
          14,
          9,
          1,
          1,
          5,
          9,
          1,
          4,
          1,
          1,
          13,
          2,
          23,
          4,
          1,
          3,
          4,
          9,
          1,
          4,
          4,
          2,
          9,
          2,
          8,
          1,
          2,
          1,
          1,
          15,
          4,
          3,
          4,
          1,
          3,
          2,
          2,
          3,
          1,
          2,
          2,
          1,
          4,
          1,
          5,
          1,
          9,
          2,
          1,
          1,
          2,
          1,
          1,
          4,
          1,
          7,
          4,
          5,
          3,
          3,
          1,
          1,
          4,
          3,
          5,
          1,
          9,
          2,
          2,
          1,
          1,
          14,
          2,
          8,
          1,
          2,
          4,
          1,
          4,
          1,
          4,
          4,
          7,
          1,
          5,
          2,
          2,
          4,
          1,
          13,
          1,
          1,
          5,
          1,
          2,
          1,
          7,
          1,
          3,
          2,
          1,
          2,
          8,
          16,
          1,
          1,
          4,
          1,
          4,
          1,
          3,
          1,
          3,
          8,
          7,
          1,
          3,
          6,
          4,
          2,
          1,
          3,
          2,
          2,
          6,
          1,
          3,
          26,
          1,
          1,
          1,
          1,
          4,
          3,
          3,
          3,
          1,
          5,
          3,
          3,
          1,
          1,
          2,
          3,
          1,
          8,
          4,
          3,
          2,
          3,
          1,
          1,
          13,
          17,
          3,
          3,
          4,
          5,
          4,
          6,
          5,
          2,
          4,
          5,
          4,
          1,
          2,
          2,
          1,
          1,
          3,
          14,
          2,
          1,
          3,
          1,
          4,
          4,
          1,
          1,
          19,
          3,
          2,
          4,
          1,
          1,
          8,
          2,
          2,
          2,
          1,
          12,
          5,
          27,
          1,
          5,
          8,
          8,
          4,
          2,
          6,
          3,
          1,
          15,
          2,
          1,
          2,
          7,
          2,
          1,
          5,
          4,
          2,
          3,
          1,
          1,
          2,
          1,
          2,
          1,
          2,
          5,
          1,
          1,
          3,
          7,
          1,
          7,
          3,
          1,
          8,
          2,
          8,
          1,
          2,
          2,
          4,
          1,
          1,
          1,
          1,
          1,
          8,
          3,
          2,
          1,
          5,
          15,
          1,
          1,
          1,
          1,
          1,
          2,
          2,
          4,
          2,
          4,
          8,
          14,
          1,
          1,
          2,
          4,
          2,
          3,
          1,
          12,
          1,
          7,
          1,
          2,
          2,
          1,
          3,
          8,
          4,
          10,
          2,
          1,
          7,
          1,
          2,
          1,
          7,
          1,
          6,
          5,
          3,
          5,
          4,
          1,
          4,
          3,
          4,
          3,
          16,
          3,
          47,
          3,
          3,
          8,
          1,
          2,
          9,
          3,
          1,
          3,
          1,
          1,
          1,
          6,
          63,
          1,
          2,
          20,
          3,
          2,
          3,
          3,
          3,
          3,
          5,
          4,
          4,
          2,
          3,
          1,
          1,
          2,
          1,
          1,
          1,
          7,
          6,
          4,
          1,
          1,
          5,
          2,
          1,
          1,
          1,
          10,
          1,
          3,
          2,
          5,
          2,
          1,
          5,
          5,
          2,
          3,
          1,
          4,
          1,
          1,
          7,
          3,
          1,
          3,
          6,
          1,
          1,
          1,
          7,
          1,
          2,
          3,
          4,
          1,
          1,
          8,
          1,
          1,
          2,
          4,
          2,
          4,
          1,
          1,
          1,
          4,
          1,
          5,
          6,
          33,
          2,
          1,
          3,
          3,
          2,
          1,
          1,
          6,
          1,
          11,
          3,
          1,
          1,
          2,
          5,
          1,
          5,
          9,
          3,
          1,
          2,
          19,
          1,
          2,
          3,
          27,
          4,
          6,
          1,
          5,
          6,
          3,
          4,
          1,
          1,
          1,
          8,
          1,
          4,
          1,
          6,
          2,
          12,
          15,
          4,
          2,
          1,
          13,
          1,
          1,
          2,
          4,
          1,
          4,
          1,
          4,
          4,
          1,
          2,
          5,
          18,
          1,
          2,
          1,
          3,
          1,
          1,
          2,
          7,
          3,
          1,
          4,
          5,
          3,
          1,
          2,
          2,
          4,
          3,
          5,
          1,
          2,
          2,
          13,
          7,
          2,
          2,
          3,
          1,
          1,
          5,
          2,
          2,
          8,
          1,
          1,
          5,
          1,
          4,
          9,
          7,
          2,
          1,
          5,
          1,
          1,
          1,
          1,
          1,
          3,
          1,
          1,
          5,
          2,
          1,
          1,
          10,
          4,
          1,
          3,
          1,
          3,
          1,
          6,
          4,
          2,
          2,
          2,
          1,
          8,
          3,
          1,
          1,
          2,
          5,
          2,
          1,
          3,
          3,
          14,
          6,
          3,
          7,
          22,
          1,
          1,
          1,
          1,
          4,
          4,
          2,
          1,
          1,
          2,
          7,
          1,
          4,
          1,
          2,
          23,
          2,
          3,
          3,
          4,
          9,
          6,
          4,
          5,
          1,
          2,
          9,
          1,
          2,
          2,
          3,
          4,
          2,
          2,
          2,
          1,
          3,
          4,
          1,
          2,
          2,
          3,
          2,
          1,
          4,
          1,
          13,
          5,
          5,
          2,
          2,
          1,
          12,
          2,
          1,
          1,
          2,
          1,
          10,
          5,
          2,
          1,
          1,
          2,
          1,
          3,
          3,
          6,
          51,
          1,
          1,
          1,
          10,
          2,
          1,
          1,
          3,
          1,
          1,
          7,
          5,
          5,
          2,
          3,
          4,
          1,
          2,
          1,
          1,
          2,
          1,
          1,
          2,
          7,
          5,
          1,
          18,
          3,
          1,
          3,
          4,
          3,
          7,
          1,
          4,
          4,
          1,
          3,
          7,
          4,
          7,
          3,
          2,
          1,
          1,
          1,
          2,
          1,
          3,
          1,
          4,
          1,
          3,
          3,
          6,
          2,
          2,
          6,
          4,
          1,
          1,
          2,
          1,
          1,
          3,
          4,
          5,
          1,
          1,
          2,
          2,
          3,
          21,
          26,
          1,
          1,
          1,
          1,
          7,
          3,
          3,
          1,
          1,
          4,
          1,
          1,
          2,
          10,
          5,
          3,
          2,
          12,
          3,
          2,
          7,
          2,
          20,
          2,
          2,
          1,
          1,
          5,
          2,
          1,
          10,
          3,
          3,
          2,
          1,
          1,
          1,
          1,
          2,
          1,
          1,
          3,
          1,
          16,
          3,
          1,
          1,
          2,
          1,
          1,
          6,
          1,
          1,
          2,
          14,
          7,
          1,
          1,
          4,
          1,
          1,
          2,
          1,
          5,
          1,
          2,
          4,
          1,
          2,
          1,
          17,
          1,
          5,
          2,
          6,
          2,
          4,
          10,
          3,
          1,
          2,
          1,
          2,
          2,
          1,
          1,
          7,
          2,
          4,
          6,
          15,
          4,
          1,
          1,
          4,
          1,
          1,
          2,
          6,
          3,
          11,
          3,
          20,
          2,
          4,
          12,
          1,
          1,
          6,
          5,
          28,
          2,
          7,
          4,
          2,
          2,
          2,
          2,
          4,
          1,
          2,
          13,
          13,
          20,
          3,
          1,
          5,
          10,
          5,
          11,
          15,
          3,
          1,
          2,
          6,
          1,
          7,
          1,
          1,
          13,
          2,
          7,
          5,
          1,
          4,
          21,
          3,
          1,
          3,
          5,
          1,
          1,
          1,
          1,
          7,
          7,
          17,
          18,
          2,
          5,
          5,
          1,
          1,
          1,
          1,
          3,
          1,
          1,
          1,
          3,
          1,
          3,
          1,
          13,
          1,
          2,
          11,
          3,
          1,
          5,
          5,
          1,
          4,
          11,
          1,
          2,
          2,
          22,
          2,
          1,
          13,
          1,
          2,
          1,
          6,
          7,
          2,
          1,
          10,
          1,
          1,
          1,
          4,
          1,
          3,
          2,
          4,
          3,
          2,
          5,
          1,
          2,
          1,
          10,
          21,
          4,
          9,
          11,
          1,
          1,
          2,
          2,
          1,
          2,
          1,
          1,
          3,
          4,
          1,
          2,
          2,
          11,
          2,
          34,
          6,
          3,
          16,
          1,
          1,
          1,
          1,
          1,
          3,
          2,
          2,
          1,
          1,
          2,
          2,
          2,
          3,
          4,
          6,
          3,
          6,
          5,
          6,
          1,
          7,
          1,
          3,
          2,
          2,
          3,
          1,
          3,
          5,
          5,
          1,
          1,
          2,
          3,
          6,
          3,
          1,
          1,
          16,
          7,
          4,
          5,
          1,
          8,
          11,
          1,
          1,
          6,
          2,
          1,
          6,
          11,
          1,
          19,
          3,
          1,
          3,
          17,
          7,
          3,
          21,
          1,
          2,
          2,
          1,
          4,
          3,
          9,
          3,
          19,
          1,
          3,
          6,
          3,
          3,
          2,
          1,
          9,
          4,
          1,
          2,
          1,
          3,
          1,
          1,
          1,
          7,
          1,
          2,
          3,
          1,
          1,
          1,
          6,
          2,
          1,
          7,
          2,
          10,
          2,
          7,
          1,
          6,
          1,
          5,
          6,
          3,
          4,
          2,
          11,
          3,
          2,
          4,
          6,
          1,
          1,
          3,
          3,
          20,
          2,
          4,
          1,
          3,
          3,
          2,
          6,
          2,
          1,
          2,
          3,
          3,
          2,
          1,
          1,
          1,
          3,
          5,
          4,
          1,
          3,
          1,
          3,
          3,
          9,
          6,
          1,
          1,
          1,
          5,
          3,
          5,
          1,
          11,
          4,
          7,
          3,
          21,
          9,
          1,
          9,
          4,
          4,
          3,
          2,
          1,
          2,
          2,
          2,
          3,
          2,
          5,
          6,
          4,
          7,
          9,
          4,
          1,
          3,
          4,
          8,
          2,
          4,
          1,
          2,
          6,
          6,
          1,
          1,
          8,
          3,
          1,
          1,
          2,
          1,
          1,
          1,
          1,
          1,
          5,
          1,
          5,
          7,
          2,
          7,
          1,
          12,
          1,
          1,
          2,
          3,
          4,
          1,
          3,
          1,
          1,
          2,
          2,
          3,
          3,
          6,
          10,
          2,
          7,
          1,
          2,
          2,
          1,
          1,
          8,
          1,
          4,
          1,
          3,
          4,
          2,
          6,
          2,
          1,
          7,
          2,
          2,
          7,
          7,
          2,
          1,
          3,
          1,
          6,
          4,
          1,
          1,
          8,
          1,
          7,
          6,
          1,
          10,
          1,
          14,
          2,
          1,
          2,
          1,
          6,
          8,
          2,
          8,
          10,
          2,
          1,
          1,
          2,
          6,
          2,
          17,
          1,
          2,
          26,
          1,
          1,
          1,
          1,
          2,
          1,
          2,
          1,
          2,
          2,
          2,
          2,
          5,
          1,
          2,
          3,
          2,
          4,
          4,
          1,
          2,
          1,
          1,
          3,
          6,
          1,
          7,
          7,
          3,
          2,
          1,
          9,
          3,
          1,
          2,
          4,
          1,
          5,
          1,
          19,
          1,
          2,
          3,
          1,
          8,
          38,
          3,
          3,
          2,
          7,
          4,
          1,
          2,
          2,
          1,
          1,
          2,
          4,
          8,
          2,
          11,
          3,
          1,
          1,
          4,
          15,
          1,
          5,
          1,
          4,
          3,
          2,
          1,
          1,
          2,
          2,
          1,
          3,
          3,
          2,
          11,
          8,
          1,
          8,
          4,
          3,
          8,
          4,
          2,
          3,
          2,
          20,
          1,
          29,
          1,
          1,
          2,
          1,
          6,
          2,
          4,
          34,
          2,
          2,
          1,
          8,
          2,
          3,
          5,
          13,
          1,
          15,
          3,
          3,
          1,
          2,
          5,
          3,
          7,
          2,
          1,
          7,
          2,
          12,
          3,
          6,
          2,
          2,
          6,
          1,
          28,
          3,
          2,
          1,
          2,
          1,
          7,
          2,
          1,
          3,
          6,
          1,
          3,
          2,
          2,
          7,
          46,
          7,
          2,
          4,
          1,
          1,
          5,
          1,
          2,
          6,
          3,
          2,
          5,
          1,
          2,
          2,
          5,
          5,
          3,
          1,
          1,
          4,
          3,
          1,
          2,
          7,
          10,
          1,
          2,
          1,
          1,
          1,
          3,
          2,
          4,
          2,
          9,
          2,
          1,
          2,
          1,
          8,
          1,
          31,
          10,
          1,
          1,
          4,
          5,
          1,
          6,
          1,
          3,
          5,
          4,
          1,
          1,
          4,
          4,
          8,
          10,
          1,
          1,
          1,
          1,
          2,
          1,
          2,
          1,
          3,
          1,
          2,
          3,
          1,
          4,
          1,
          5,
          2,
          1,
          3,
          5,
          1,
          7,
          3,
          2,
          8,
          1,
          4,
          4,
          3,
          1,
          19,
          1,
          3,
          3,
          25,
          1,
          2,
          4,
          3,
          4,
          3,
          7,
          5,
          2,
          2,
          7,
          1,
          1,
          1,
          6,
          1,
          2,
          2,
          5,
          15,
          6,
          14,
          1,
          3,
          3,
          3,
          1,
          1,
          3,
          1,
          2,
          4,
          1,
          8,
          2,
          3,
          4,
          9,
          1,
          2,
          1,
          1,
          2,
          1,
          11,
          3,
          1,
          4,
          1,
          1,
          10,
          12,
          4,
          1,
          7,
          5,
          2,
          12,
          1,
          7,
          2,
          2,
          5,
          2,
          7,
          1,
          4,
          2,
          6,
          2,
          31,
          6,
          30,
          1,
          2,
          1,
          6,
          1,
          7,
          7,
          15,
          2,
          4,
          1,
          1,
          2,
          8,
          1,
          1,
          4,
          1,
          4,
          3,
          2,
          9,
          17,
          2,
          2,
          1,
          2,
          1,
          1,
          1,
          11,
          1,
          15,
          4,
          4,
          6,
          3,
          11,
          1,
          3,
          13,
          4,
          1,
          2,
          3,
          19,
          3,
          2,
          4,
          7,
          2,
          6,
          1,
          1,
          2,
          9,
          1,
          5,
          30,
          8,
          3,
          2,
          1,
          1,
          2,
          3,
          1,
          3,
          10,
          5,
          2,
          2,
          4,
          1,
          3,
          3,
          2,
          2,
          1,
          2,
          4,
          2,
          1,
          14,
          1,
          1,
          2,
          4,
          3,
          10,
          9,
          3,
          1,
          1,
          12,
          39,
          4,
          5,
          4,
          3,
          7,
          1,
          5,
          4,
          1,
          3,
          1,
          1,
          3,
          1,
          8,
          5,
          1,
          124,
          1,
          1,
          1,
          9,
          4,
          34,
          2,
          2,
          1,
          4,
          23,
          12,
          1,
          1,
          8,
          1,
          6,
          3,
          20,
          1,
          6,
          5,
          12,
          1,
          5,
          6,
          1,
          1,
          1,
          1,
          1,
          4,
          4,
          1,
          3,
          1,
          8,
          2,
          2,
          1,
          3,
          1,
          8,
          1,
          1,
          3,
          2,
          1,
          2,
          1,
          1,
          4,
          1,
          1,
          1,
          5,
          2,
          1,
          3,
          1,
          17,
          4,
          1,
          7,
          1,
          2,
          2,
          4,
          5,
          2,
          3,
          2,
          2,
          1,
          7,
          1,
          10,
          1,
          1,
          2,
          1,
          1,
          45,
          3,
          3,
          12,
          4,
          1,
          1,
          1,
          1,
          39,
          1,
          2,
          14,
          5,
          1,
          1,
          2,
          1,
          1,
          1,
          3,
          13,
          1,
          1,
          1,
          4,
          3,
          1,
          1,
          1,
          1,
          7,
          3,
          2,
          4,
          1,
          8,
          2,
          2,
          1,
          2,
          1,
          9,
          1,
          1,
          1,
          2,
          1,
          1,
          5,
          3,
          2,
          1,
          1,
          2,
          1,
          2,
          1,
          1,
          2,
          3,
          3,
          6,
          2,
          21,
          1,
          3,
          10,
          1,
          2,
          1,
          1,
          10,
          1,
          1,
          3,
          10,
          3,
          2,
          14,
          1,
          1,
          1,
          5,
          2,
          1,
          12,
          1,
          10,
          11,
          2,
          4,
          2,
          3,
          1,
          1,
          2,
          1,
          2,
          1,
          11,
          4,
          7,
          2,
          3,
          6,
          1,
          2,
          60,
          1,
          1,
          1,
          1,
          26,
          1,
          2,
          1,
          1,
          8,
          1,
          26,
          1,
          1,
          2,
          6,
          2,
          4,
          1,
          3,
          1,
          3,
          1,
          5,
          3,
          1,
          6,
          2,
          2,
          12,
          4,
          2,
          2,
          3,
          3,
          2,
          2,
          3,
          2,
          2,
          1,
          2,
          5,
          1,
          1,
          3,
          6,
          1,
          3,
          5,
          20,
          4,
          1,
          1,
          6,
          4,
          6,
          6,
          1,
          2,
          1,
          1,
          3,
          2,
          2,
          1,
          1,
          1,
          1,
          2,
          17,
          1,
          3,
          1,
          3,
          2,
          1,
          6,
          5,
          1,
          1,
          1,
          1,
          2,
          2,
          10,
          1,
          5,
          1,
          14,
          1,
          12,
          11,
          1,
          2,
          20,
          7,
          5,
          4,
          1,
          3,
          6,
          5,
          5,
          1,
          17,
          4,
          7,
          2,
          2,
          1,
          1,
          1,
          2,
          1,
          8,
          3,
          6,
          2,
          1,
          3,
          2,
          1,
          1,
          2,
          6,
          3,
          1,
          1,
          1,
          1,
          1,
          1,
          2,
          16,
          3
         ],
         "xaxis": "x",
         "yaxis": "y"
        }
       ],
       "layout": {
        "barmode": "relative",
        "height": 500,
        "legend": {
         "tracegroupgap": 0
        },
        "template": {
         "data": {
          "bar": [
           {
            "error_x": {
             "color": "#2a3f5f"
            },
            "error_y": {
             "color": "#2a3f5f"
            },
            "marker": {
             "line": {
              "color": "#E5ECF6",
              "width": 0.5
             },
             "pattern": {
              "fillmode": "overlay",
              "size": 10,
              "solidity": 0.2
             }
            },
            "type": "bar"
           }
          ],
          "barpolar": [
           {
            "marker": {
             "line": {
              "color": "#E5ECF6",
              "width": 0.5
             },
             "pattern": {
              "fillmode": "overlay",
              "size": 10,
              "solidity": 0.2
             }
            },
            "type": "barpolar"
           }
          ],
          "carpet": [
           {
            "aaxis": {
             "endlinecolor": "#2a3f5f",
             "gridcolor": "white",
             "linecolor": "white",
             "minorgridcolor": "white",
             "startlinecolor": "#2a3f5f"
            },
            "baxis": {
             "endlinecolor": "#2a3f5f",
             "gridcolor": "white",
             "linecolor": "white",
             "minorgridcolor": "white",
             "startlinecolor": "#2a3f5f"
            },
            "type": "carpet"
           }
          ],
          "choropleth": [
           {
            "colorbar": {
             "outlinewidth": 0,
             "ticks": ""
            },
            "type": "choropleth"
           }
          ],
          "contour": [
           {
            "colorbar": {
             "outlinewidth": 0,
             "ticks": ""
            },
            "colorscale": [
             [
              0,
              "#0d0887"
             ],
             [
              0.1111111111111111,
              "#46039f"
             ],
             [
              0.2222222222222222,
              "#7201a8"
             ],
             [
              0.3333333333333333,
              "#9c179e"
             ],
             [
              0.4444444444444444,
              "#bd3786"
             ],
             [
              0.5555555555555556,
              "#d8576b"
             ],
             [
              0.6666666666666666,
              "#ed7953"
             ],
             [
              0.7777777777777778,
              "#fb9f3a"
             ],
             [
              0.8888888888888888,
              "#fdca26"
             ],
             [
              1,
              "#f0f921"
             ]
            ],
            "type": "contour"
           }
          ],
          "contourcarpet": [
           {
            "colorbar": {
             "outlinewidth": 0,
             "ticks": ""
            },
            "type": "contourcarpet"
           }
          ],
          "heatmap": [
           {
            "colorbar": {
             "outlinewidth": 0,
             "ticks": ""
            },
            "colorscale": [
             [
              0,
              "#0d0887"
             ],
             [
              0.1111111111111111,
              "#46039f"
             ],
             [
              0.2222222222222222,
              "#7201a8"
             ],
             [
              0.3333333333333333,
              "#9c179e"
             ],
             [
              0.4444444444444444,
              "#bd3786"
             ],
             [
              0.5555555555555556,
              "#d8576b"
             ],
             [
              0.6666666666666666,
              "#ed7953"
             ],
             [
              0.7777777777777778,
              "#fb9f3a"
             ],
             [
              0.8888888888888888,
              "#fdca26"
             ],
             [
              1,
              "#f0f921"
             ]
            ],
            "type": "heatmap"
           }
          ],
          "heatmapgl": [
           {
            "colorbar": {
             "outlinewidth": 0,
             "ticks": ""
            },
            "colorscale": [
             [
              0,
              "#0d0887"
             ],
             [
              0.1111111111111111,
              "#46039f"
             ],
             [
              0.2222222222222222,
              "#7201a8"
             ],
             [
              0.3333333333333333,
              "#9c179e"
             ],
             [
              0.4444444444444444,
              "#bd3786"
             ],
             [
              0.5555555555555556,
              "#d8576b"
             ],
             [
              0.6666666666666666,
              "#ed7953"
             ],
             [
              0.7777777777777778,
              "#fb9f3a"
             ],
             [
              0.8888888888888888,
              "#fdca26"
             ],
             [
              1,
              "#f0f921"
             ]
            ],
            "type": "heatmapgl"
           }
          ],
          "histogram": [
           {
            "marker": {
             "pattern": {
              "fillmode": "overlay",
              "size": 10,
              "solidity": 0.2
             }
            },
            "type": "histogram"
           }
          ],
          "histogram2d": [
           {
            "colorbar": {
             "outlinewidth": 0,
             "ticks": ""
            },
            "colorscale": [
             [
              0,
              "#0d0887"
             ],
             [
              0.1111111111111111,
              "#46039f"
             ],
             [
              0.2222222222222222,
              "#7201a8"
             ],
             [
              0.3333333333333333,
              "#9c179e"
             ],
             [
              0.4444444444444444,
              "#bd3786"
             ],
             [
              0.5555555555555556,
              "#d8576b"
             ],
             [
              0.6666666666666666,
              "#ed7953"
             ],
             [
              0.7777777777777778,
              "#fb9f3a"
             ],
             [
              0.8888888888888888,
              "#fdca26"
             ],
             [
              1,
              "#f0f921"
             ]
            ],
            "type": "histogram2d"
           }
          ],
          "histogram2dcontour": [
           {
            "colorbar": {
             "outlinewidth": 0,
             "ticks": ""
            },
            "colorscale": [
             [
              0,
              "#0d0887"
             ],
             [
              0.1111111111111111,
              "#46039f"
             ],
             [
              0.2222222222222222,
              "#7201a8"
             ],
             [
              0.3333333333333333,
              "#9c179e"
             ],
             [
              0.4444444444444444,
              "#bd3786"
             ],
             [
              0.5555555555555556,
              "#d8576b"
             ],
             [
              0.6666666666666666,
              "#ed7953"
             ],
             [
              0.7777777777777778,
              "#fb9f3a"
             ],
             [
              0.8888888888888888,
              "#fdca26"
             ],
             [
              1,
              "#f0f921"
             ]
            ],
            "type": "histogram2dcontour"
           }
          ],
          "mesh3d": [
           {
            "colorbar": {
             "outlinewidth": 0,
             "ticks": ""
            },
            "type": "mesh3d"
           }
          ],
          "parcoords": [
           {
            "line": {
             "colorbar": {
              "outlinewidth": 0,
              "ticks": ""
             }
            },
            "type": "parcoords"
           }
          ],
          "pie": [
           {
            "automargin": true,
            "type": "pie"
           }
          ],
          "scatter": [
           {
            "fillpattern": {
             "fillmode": "overlay",
             "size": 10,
             "solidity": 0.2
            },
            "type": "scatter"
           }
          ],
          "scatter3d": [
           {
            "line": {
             "colorbar": {
              "outlinewidth": 0,
              "ticks": ""
             }
            },
            "marker": {
             "colorbar": {
              "outlinewidth": 0,
              "ticks": ""
             }
            },
            "type": "scatter3d"
           }
          ],
          "scattercarpet": [
           {
            "marker": {
             "colorbar": {
              "outlinewidth": 0,
              "ticks": ""
             }
            },
            "type": "scattercarpet"
           }
          ],
          "scattergeo": [
           {
            "marker": {
             "colorbar": {
              "outlinewidth": 0,
              "ticks": ""
             }
            },
            "type": "scattergeo"
           }
          ],
          "scattergl": [
           {
            "marker": {
             "colorbar": {
              "outlinewidth": 0,
              "ticks": ""
             }
            },
            "type": "scattergl"
           }
          ],
          "scattermapbox": [
           {
            "marker": {
             "colorbar": {
              "outlinewidth": 0,
              "ticks": ""
             }
            },
            "type": "scattermapbox"
           }
          ],
          "scatterpolar": [
           {
            "marker": {
             "colorbar": {
              "outlinewidth": 0,
              "ticks": ""
             }
            },
            "type": "scatterpolar"
           }
          ],
          "scatterpolargl": [
           {
            "marker": {
             "colorbar": {
              "outlinewidth": 0,
              "ticks": ""
             }
            },
            "type": "scatterpolargl"
           }
          ],
          "scatterternary": [
           {
            "marker": {
             "colorbar": {
              "outlinewidth": 0,
              "ticks": ""
             }
            },
            "type": "scatterternary"
           }
          ],
          "surface": [
           {
            "colorbar": {
             "outlinewidth": 0,
             "ticks": ""
            },
            "colorscale": [
             [
              0,
              "#0d0887"
             ],
             [
              0.1111111111111111,
              "#46039f"
             ],
             [
              0.2222222222222222,
              "#7201a8"
             ],
             [
              0.3333333333333333,
              "#9c179e"
             ],
             [
              0.4444444444444444,
              "#bd3786"
             ],
             [
              0.5555555555555556,
              "#d8576b"
             ],
             [
              0.6666666666666666,
              "#ed7953"
             ],
             [
              0.7777777777777778,
              "#fb9f3a"
             ],
             [
              0.8888888888888888,
              "#fdca26"
             ],
             [
              1,
              "#f0f921"
             ]
            ],
            "type": "surface"
           }
          ],
          "table": [
           {
            "cells": {
             "fill": {
              "color": "#EBF0F8"
             },
             "line": {
              "color": "white"
             }
            },
            "header": {
             "fill": {
              "color": "#C8D4E3"
             },
             "line": {
              "color": "white"
             }
            },
            "type": "table"
           }
          ]
         },
         "layout": {
          "annotationdefaults": {
           "arrowcolor": "#2a3f5f",
           "arrowhead": 0,
           "arrowwidth": 1
          },
          "autotypenumbers": "strict",
          "coloraxis": {
           "colorbar": {
            "outlinewidth": 0,
            "ticks": ""
           }
          },
          "colorscale": {
           "diverging": [
            [
             0,
             "#8e0152"
            ],
            [
             0.1,
             "#c51b7d"
            ],
            [
             0.2,
             "#de77ae"
            ],
            [
             0.3,
             "#f1b6da"
            ],
            [
             0.4,
             "#fde0ef"
            ],
            [
             0.5,
             "#f7f7f7"
            ],
            [
             0.6,
             "#e6f5d0"
            ],
            [
             0.7,
             "#b8e186"
            ],
            [
             0.8,
             "#7fbc41"
            ],
            [
             0.9,
             "#4d9221"
            ],
            [
             1,
             "#276419"
            ]
           ],
           "sequential": [
            [
             0,
             "#0d0887"
            ],
            [
             0.1111111111111111,
             "#46039f"
            ],
            [
             0.2222222222222222,
             "#7201a8"
            ],
            [
             0.3333333333333333,
             "#9c179e"
            ],
            [
             0.4444444444444444,
             "#bd3786"
            ],
            [
             0.5555555555555556,
             "#d8576b"
            ],
            [
             0.6666666666666666,
             "#ed7953"
            ],
            [
             0.7777777777777778,
             "#fb9f3a"
            ],
            [
             0.8888888888888888,
             "#fdca26"
            ],
            [
             1,
             "#f0f921"
            ]
           ],
           "sequentialminus": [
            [
             0,
             "#0d0887"
            ],
            [
             0.1111111111111111,
             "#46039f"
            ],
            [
             0.2222222222222222,
             "#7201a8"
            ],
            [
             0.3333333333333333,
             "#9c179e"
            ],
            [
             0.4444444444444444,
             "#bd3786"
            ],
            [
             0.5555555555555556,
             "#d8576b"
            ],
            [
             0.6666666666666666,
             "#ed7953"
            ],
            [
             0.7777777777777778,
             "#fb9f3a"
            ],
            [
             0.8888888888888888,
             "#fdca26"
            ],
            [
             1,
             "#f0f921"
            ]
           ]
          },
          "colorway": [
           "#636efa",
           "#EF553B",
           "#00cc96",
           "#ab63fa",
           "#FFA15A",
           "#19d3f3",
           "#FF6692",
           "#B6E880",
           "#FF97FF",
           "#FECB52"
          ],
          "font": {
           "color": "#2a3f5f"
          },
          "geo": {
           "bgcolor": "white",
           "lakecolor": "white",
           "landcolor": "#E5ECF6",
           "showlakes": true,
           "showland": true,
           "subunitcolor": "white"
          },
          "hoverlabel": {
           "align": "left"
          },
          "hovermode": "closest",
          "mapbox": {
           "style": "light"
          },
          "paper_bgcolor": "white",
          "plot_bgcolor": "#E5ECF6",
          "polar": {
           "angularaxis": {
            "gridcolor": "white",
            "linecolor": "white",
            "ticks": ""
           },
           "bgcolor": "#E5ECF6",
           "radialaxis": {
            "gridcolor": "white",
            "linecolor": "white",
            "ticks": ""
           }
          },
          "scene": {
           "xaxis": {
            "backgroundcolor": "#E5ECF6",
            "gridcolor": "white",
            "gridwidth": 2,
            "linecolor": "white",
            "showbackground": true,
            "ticks": "",
            "zerolinecolor": "white"
           },
           "yaxis": {
            "backgroundcolor": "#E5ECF6",
            "gridcolor": "white",
            "gridwidth": 2,
            "linecolor": "white",
            "showbackground": true,
            "ticks": "",
            "zerolinecolor": "white"
           },
           "zaxis": {
            "backgroundcolor": "#E5ECF6",
            "gridcolor": "white",
            "gridwidth": 2,
            "linecolor": "white",
            "showbackground": true,
            "ticks": "",
            "zerolinecolor": "white"
           }
          },
          "shapedefaults": {
           "line": {
            "color": "#2a3f5f"
           }
          },
          "ternary": {
           "aaxis": {
            "gridcolor": "white",
            "linecolor": "white",
            "ticks": ""
           },
           "baxis": {
            "gridcolor": "white",
            "linecolor": "white",
            "ticks": ""
           },
           "bgcolor": "#E5ECF6",
           "caxis": {
            "gridcolor": "white",
            "linecolor": "white",
            "ticks": ""
           }
          },
          "title": {
           "x": 0.05
          },
          "xaxis": {
           "automargin": true,
           "gridcolor": "white",
           "linecolor": "white",
           "ticks": "",
           "title": {
            "standoff": 15
           },
           "zerolinecolor": "white",
           "zerolinewidth": 2
          },
          "yaxis": {
           "automargin": true,
           "gridcolor": "white",
           "linecolor": "white",
           "ticks": "",
           "title": {
            "standoff": 15
           },
           "zerolinecolor": "white",
           "zerolinewidth": 2
          }
         }
        },
        "title": {
         "text": "invoice per customer"
        },
        "width": 800,
        "xaxis": {
         "anchor": "y",
         "domain": [
          0,
          1
         ],
         "title": {
          "text": "invoice"
         }
        },
        "yaxis": {
         "anchor": "x",
         "domain": [
          0,
          1
         ],
         "title": {
          "text": "count"
         }
        }
       }
      }
     },
     "metadata": {},
     "output_type": "display_data"
    }
   ],
   "source": [
    "fig = px.histogram(n_orders, x=\"invoice\", nbins=40, width=800, height=500, title= 'invoice per customer')\n",
    "fig.show()"
   ]
  },
  {
   "cell_type": "markdown",
   "metadata": {},
   "source": [
    "### 2.3 Cohort variables"
   ]
  },
  {
   "cell_type": "markdown",
   "metadata": {},
   "source": [
    "#### The next step is to create the variables for the cohort analysis. To do this, two columns are generated, one for each month of the year and the other the date on which the customer made the first purchase. "
   ]
  },
  {
   "cell_type": "code",
   "execution_count": 22,
   "metadata": {},
   "outputs": [],
   "source": [
    "df['order_m'] = df['date'].dt.to_period('M')"
   ]
  },
  {
   "cell_type": "code",
   "execution_count": 23,
   "metadata": {},
   "outputs": [],
   "source": [
    "df['cohort'] = df.groupby('id_Client')['date'] \\\n",
    "                 .transform('min') \\\n",
    "                 .dt.to_period('M') "
   ]
  },
  {
   "cell_type": "markdown",
   "metadata": {},
   "source": [
    "### 2.4 Cohort and pivot table"
   ]
  },
  {
   "cell_type": "markdown",
   "metadata": {},
   "source": [
    "Then they are grouped, a new dataframe is generated with the number of clients generated per month.\n",
    "After this step, a pivot table is generated to relate the cohort to a given period."
   ]
  },
  {
   "cell_type": "code",
   "execution_count": 24,
   "metadata": {},
   "outputs": [
    {
     "data": {
      "text/html": [
       "<div>\n",
       "<style scoped>\n",
       "    .dataframe tbody tr th:only-of-type {\n",
       "        vertical-align: middle;\n",
       "    }\n",
       "\n",
       "    .dataframe tbody tr th {\n",
       "        vertical-align: top;\n",
       "    }\n",
       "\n",
       "    .dataframe thead th {\n",
       "        text-align: right;\n",
       "    }\n",
       "</style>\n",
       "<table border=\"1\" class=\"dataframe\">\n",
       "  <thead>\n",
       "    <tr style=\"text-align: right;\">\n",
       "      <th></th>\n",
       "      <th>cohort</th>\n",
       "      <th>order_m</th>\n",
       "      <th>n_customers</th>\n",
       "      <th>period_number</th>\n",
       "    </tr>\n",
       "  </thead>\n",
       "  <tbody>\n",
       "    <tr>\n",
       "      <th>0</th>\n",
       "      <td>2020-12</td>\n",
       "      <td>2020-12</td>\n",
       "      <td>885</td>\n",
       "      <td>0</td>\n",
       "    </tr>\n",
       "    <tr>\n",
       "      <th>1</th>\n",
       "      <td>2020-12</td>\n",
       "      <td>2021-01</td>\n",
       "      <td>324</td>\n",
       "      <td>1</td>\n",
       "    </tr>\n",
       "    <tr>\n",
       "      <th>2</th>\n",
       "      <td>2020-12</td>\n",
       "      <td>2021-02</td>\n",
       "      <td>286</td>\n",
       "      <td>2</td>\n",
       "    </tr>\n",
       "    <tr>\n",
       "      <th>3</th>\n",
       "      <td>2020-12</td>\n",
       "      <td>2021-03</td>\n",
       "      <td>340</td>\n",
       "      <td>3</td>\n",
       "    </tr>\n",
       "    <tr>\n",
       "      <th>4</th>\n",
       "      <td>2020-12</td>\n",
       "      <td>2021-04</td>\n",
       "      <td>321</td>\n",
       "      <td>4</td>\n",
       "    </tr>\n",
       "    <tr>\n",
       "      <th>...</th>\n",
       "      <td>...</td>\n",
       "      <td>...</td>\n",
       "      <td>...</td>\n",
       "      <td>...</td>\n",
       "    </tr>\n",
       "    <tr>\n",
       "      <th>86</th>\n",
       "      <td>2021-10</td>\n",
       "      <td>2021-11</td>\n",
       "      <td>86</td>\n",
       "      <td>1</td>\n",
       "    </tr>\n",
       "    <tr>\n",
       "      <th>87</th>\n",
       "      <td>2021-10</td>\n",
       "      <td>2021-12</td>\n",
       "      <td>41</td>\n",
       "      <td>2</td>\n",
       "    </tr>\n",
       "    <tr>\n",
       "      <th>88</th>\n",
       "      <td>2021-11</td>\n",
       "      <td>2021-11</td>\n",
       "      <td>324</td>\n",
       "      <td>0</td>\n",
       "    </tr>\n",
       "    <tr>\n",
       "      <th>89</th>\n",
       "      <td>2021-11</td>\n",
       "      <td>2021-12</td>\n",
       "      <td>36</td>\n",
       "      <td>1</td>\n",
       "    </tr>\n",
       "    <tr>\n",
       "      <th>90</th>\n",
       "      <td>2021-12</td>\n",
       "      <td>2021-12</td>\n",
       "      <td>41</td>\n",
       "      <td>0</td>\n",
       "    </tr>\n",
       "  </tbody>\n",
       "</table>\n",
       "<p>91 rows × 4 columns</p>\n",
       "</div>"
      ],
      "text/plain": [
       "     cohort  order_m  n_customers  period_number\n",
       "0   2020-12  2020-12          885              0\n",
       "1   2020-12  2021-01          324              1\n",
       "2   2020-12  2021-02          286              2\n",
       "3   2020-12  2021-03          340              3\n",
       "4   2020-12  2021-04          321              4\n",
       "..      ...      ...          ...            ...\n",
       "86  2021-10  2021-11           86              1\n",
       "87  2021-10  2021-12           41              2\n",
       "88  2021-11  2021-11          324              0\n",
       "89  2021-11  2021-12           36              1\n",
       "90  2021-12  2021-12           41              0\n",
       "\n",
       "[91 rows x 4 columns]"
      ]
     },
     "execution_count": 24,
     "metadata": {},
     "output_type": "execute_result"
    }
   ],
   "source": [
    "df_cohort = df.groupby(['cohort', 'order_m']) \\\n",
    "              .agg(n_customers=('id_Client', 'nunique')) \\\n",
    "              .reset_index(drop=False)\n",
    "df_cohort['period_number'] = (df_cohort.order_m - df_cohort.cohort).apply(attrgetter('n'))\n",
    "df_cohort"
   ]
  },
  {
   "cell_type": "code",
   "execution_count": 25,
   "metadata": {},
   "outputs": [
    {
     "data": {
      "text/html": [
       "<div>\n",
       "<style scoped>\n",
       "    .dataframe tbody tr th:only-of-type {\n",
       "        vertical-align: middle;\n",
       "    }\n",
       "\n",
       "    .dataframe tbody tr th {\n",
       "        vertical-align: top;\n",
       "    }\n",
       "\n",
       "    .dataframe thead th {\n",
       "        text-align: right;\n",
       "    }\n",
       "</style>\n",
       "<table border=\"1\" class=\"dataframe\">\n",
       "  <thead>\n",
       "    <tr style=\"text-align: right;\">\n",
       "      <th>period_number</th>\n",
       "      <th>0</th>\n",
       "      <th>1</th>\n",
       "      <th>2</th>\n",
       "      <th>3</th>\n",
       "      <th>4</th>\n",
       "      <th>5</th>\n",
       "      <th>6</th>\n",
       "      <th>7</th>\n",
       "      <th>8</th>\n",
       "      <th>9</th>\n",
       "      <th>10</th>\n",
       "      <th>11</th>\n",
       "      <th>12</th>\n",
       "    </tr>\n",
       "    <tr>\n",
       "      <th>cohort</th>\n",
       "      <th></th>\n",
       "      <th></th>\n",
       "      <th></th>\n",
       "      <th></th>\n",
       "      <th></th>\n",
       "      <th></th>\n",
       "      <th></th>\n",
       "      <th></th>\n",
       "      <th></th>\n",
       "      <th></th>\n",
       "      <th></th>\n",
       "      <th></th>\n",
       "      <th></th>\n",
       "    </tr>\n",
       "  </thead>\n",
       "  <tbody>\n",
       "    <tr>\n",
       "      <th>2020-12</th>\n",
       "      <td>885.0</td>\n",
       "      <td>324.0</td>\n",
       "      <td>286.0</td>\n",
       "      <td>340.0</td>\n",
       "      <td>321.0</td>\n",
       "      <td>352.0</td>\n",
       "      <td>321.0</td>\n",
       "      <td>309.0</td>\n",
       "      <td>313.0</td>\n",
       "      <td>350.0</td>\n",
       "      <td>331.0</td>\n",
       "      <td>445.0</td>\n",
       "      <td>235.0</td>\n",
       "    </tr>\n",
       "    <tr>\n",
       "      <th>2021-01</th>\n",
       "      <td>417.0</td>\n",
       "      <td>92.0</td>\n",
       "      <td>111.0</td>\n",
       "      <td>96.0</td>\n",
       "      <td>134.0</td>\n",
       "      <td>120.0</td>\n",
       "      <td>103.0</td>\n",
       "      <td>101.0</td>\n",
       "      <td>125.0</td>\n",
       "      <td>136.0</td>\n",
       "      <td>152.0</td>\n",
       "      <td>49.0</td>\n",
       "      <td>NaN</td>\n",
       "    </tr>\n",
       "    <tr>\n",
       "      <th>2021-02</th>\n",
       "      <td>380.0</td>\n",
       "      <td>71.0</td>\n",
       "      <td>71.0</td>\n",
       "      <td>108.0</td>\n",
       "      <td>103.0</td>\n",
       "      <td>94.0</td>\n",
       "      <td>96.0</td>\n",
       "      <td>106.0</td>\n",
       "      <td>94.0</td>\n",
       "      <td>116.0</td>\n",
       "      <td>26.0</td>\n",
       "      <td>NaN</td>\n",
       "      <td>NaN</td>\n",
       "    </tr>\n",
       "    <tr>\n",
       "      <th>2021-03</th>\n",
       "      <td>452.0</td>\n",
       "      <td>68.0</td>\n",
       "      <td>114.0</td>\n",
       "      <td>90.0</td>\n",
       "      <td>101.0</td>\n",
       "      <td>76.0</td>\n",
       "      <td>121.0</td>\n",
       "      <td>104.0</td>\n",
       "      <td>126.0</td>\n",
       "      <td>39.0</td>\n",
       "      <td>NaN</td>\n",
       "      <td>NaN</td>\n",
       "      <td>NaN</td>\n",
       "    </tr>\n",
       "    <tr>\n",
       "      <th>2021-04</th>\n",
       "      <td>300.0</td>\n",
       "      <td>64.0</td>\n",
       "      <td>61.0</td>\n",
       "      <td>63.0</td>\n",
       "      <td>59.0</td>\n",
       "      <td>68.0</td>\n",
       "      <td>65.0</td>\n",
       "      <td>78.0</td>\n",
       "      <td>22.0</td>\n",
       "      <td>NaN</td>\n",
       "      <td>NaN</td>\n",
       "      <td>NaN</td>\n",
       "      <td>NaN</td>\n",
       "    </tr>\n",
       "    <tr>\n",
       "      <th>2021-05</th>\n",
       "      <td>284.0</td>\n",
       "      <td>54.0</td>\n",
       "      <td>49.0</td>\n",
       "      <td>49.0</td>\n",
       "      <td>59.0</td>\n",
       "      <td>66.0</td>\n",
       "      <td>75.0</td>\n",
       "      <td>27.0</td>\n",
       "      <td>NaN</td>\n",
       "      <td>NaN</td>\n",
       "      <td>NaN</td>\n",
       "      <td>NaN</td>\n",
       "      <td>NaN</td>\n",
       "    </tr>\n",
       "    <tr>\n",
       "      <th>2021-06</th>\n",
       "      <td>242.0</td>\n",
       "      <td>42.0</td>\n",
       "      <td>38.0</td>\n",
       "      <td>64.0</td>\n",
       "      <td>56.0</td>\n",
       "      <td>81.0</td>\n",
       "      <td>23.0</td>\n",
       "      <td>NaN</td>\n",
       "      <td>NaN</td>\n",
       "      <td>NaN</td>\n",
       "      <td>NaN</td>\n",
       "      <td>NaN</td>\n",
       "      <td>NaN</td>\n",
       "    </tr>\n",
       "    <tr>\n",
       "      <th>2021-07</th>\n",
       "      <td>188.0</td>\n",
       "      <td>34.0</td>\n",
       "      <td>39.0</td>\n",
       "      <td>42.0</td>\n",
       "      <td>51.0</td>\n",
       "      <td>21.0</td>\n",
       "      <td>NaN</td>\n",
       "      <td>NaN</td>\n",
       "      <td>NaN</td>\n",
       "      <td>NaN</td>\n",
       "      <td>NaN</td>\n",
       "      <td>NaN</td>\n",
       "      <td>NaN</td>\n",
       "    </tr>\n",
       "    <tr>\n",
       "      <th>2021-08</th>\n",
       "      <td>169.0</td>\n",
       "      <td>35.0</td>\n",
       "      <td>42.0</td>\n",
       "      <td>41.0</td>\n",
       "      <td>21.0</td>\n",
       "      <td>NaN</td>\n",
       "      <td>NaN</td>\n",
       "      <td>NaN</td>\n",
       "      <td>NaN</td>\n",
       "      <td>NaN</td>\n",
       "      <td>NaN</td>\n",
       "      <td>NaN</td>\n",
       "      <td>NaN</td>\n",
       "    </tr>\n",
       "    <tr>\n",
       "      <th>2021-09</th>\n",
       "      <td>299.0</td>\n",
       "      <td>70.0</td>\n",
       "      <td>90.0</td>\n",
       "      <td>34.0</td>\n",
       "      <td>NaN</td>\n",
       "      <td>NaN</td>\n",
       "      <td>NaN</td>\n",
       "      <td>NaN</td>\n",
       "      <td>NaN</td>\n",
       "      <td>NaN</td>\n",
       "      <td>NaN</td>\n",
       "      <td>NaN</td>\n",
       "      <td>NaN</td>\n",
       "    </tr>\n",
       "    <tr>\n",
       "      <th>2021-10</th>\n",
       "      <td>358.0</td>\n",
       "      <td>86.0</td>\n",
       "      <td>41.0</td>\n",
       "      <td>NaN</td>\n",
       "      <td>NaN</td>\n",
       "      <td>NaN</td>\n",
       "      <td>NaN</td>\n",
       "      <td>NaN</td>\n",
       "      <td>NaN</td>\n",
       "      <td>NaN</td>\n",
       "      <td>NaN</td>\n",
       "      <td>NaN</td>\n",
       "      <td>NaN</td>\n",
       "    </tr>\n",
       "    <tr>\n",
       "      <th>2021-11</th>\n",
       "      <td>324.0</td>\n",
       "      <td>36.0</td>\n",
       "      <td>NaN</td>\n",
       "      <td>NaN</td>\n",
       "      <td>NaN</td>\n",
       "      <td>NaN</td>\n",
       "      <td>NaN</td>\n",
       "      <td>NaN</td>\n",
       "      <td>NaN</td>\n",
       "      <td>NaN</td>\n",
       "      <td>NaN</td>\n",
       "      <td>NaN</td>\n",
       "      <td>NaN</td>\n",
       "    </tr>\n",
       "    <tr>\n",
       "      <th>2021-12</th>\n",
       "      <td>41.0</td>\n",
       "      <td>NaN</td>\n",
       "      <td>NaN</td>\n",
       "      <td>NaN</td>\n",
       "      <td>NaN</td>\n",
       "      <td>NaN</td>\n",
       "      <td>NaN</td>\n",
       "      <td>NaN</td>\n",
       "      <td>NaN</td>\n",
       "      <td>NaN</td>\n",
       "      <td>NaN</td>\n",
       "      <td>NaN</td>\n",
       "      <td>NaN</td>\n",
       "    </tr>\n",
       "  </tbody>\n",
       "</table>\n",
       "</div>"
      ],
      "text/plain": [
       "period_number     0      1      2      3      4      5      6      7      8   \\\n",
       "cohort                                                                         \n",
       "2020-12        885.0  324.0  286.0  340.0  321.0  352.0  321.0  309.0  313.0   \n",
       "2021-01        417.0   92.0  111.0   96.0  134.0  120.0  103.0  101.0  125.0   \n",
       "2021-02        380.0   71.0   71.0  108.0  103.0   94.0   96.0  106.0   94.0   \n",
       "2021-03        452.0   68.0  114.0   90.0  101.0   76.0  121.0  104.0  126.0   \n",
       "2021-04        300.0   64.0   61.0   63.0   59.0   68.0   65.0   78.0   22.0   \n",
       "2021-05        284.0   54.0   49.0   49.0   59.0   66.0   75.0   27.0    NaN   \n",
       "2021-06        242.0   42.0   38.0   64.0   56.0   81.0   23.0    NaN    NaN   \n",
       "2021-07        188.0   34.0   39.0   42.0   51.0   21.0    NaN    NaN    NaN   \n",
       "2021-08        169.0   35.0   42.0   41.0   21.0    NaN    NaN    NaN    NaN   \n",
       "2021-09        299.0   70.0   90.0   34.0    NaN    NaN    NaN    NaN    NaN   \n",
       "2021-10        358.0   86.0   41.0    NaN    NaN    NaN    NaN    NaN    NaN   \n",
       "2021-11        324.0   36.0    NaN    NaN    NaN    NaN    NaN    NaN    NaN   \n",
       "2021-12         41.0    NaN    NaN    NaN    NaN    NaN    NaN    NaN    NaN   \n",
       "\n",
       "period_number     9      10     11     12  \n",
       "cohort                                     \n",
       "2020-12        350.0  331.0  445.0  235.0  \n",
       "2021-01        136.0  152.0   49.0    NaN  \n",
       "2021-02        116.0   26.0    NaN    NaN  \n",
       "2021-03         39.0    NaN    NaN    NaN  \n",
       "2021-04          NaN    NaN    NaN    NaN  \n",
       "2021-05          NaN    NaN    NaN    NaN  \n",
       "2021-06          NaN    NaN    NaN    NaN  \n",
       "2021-07          NaN    NaN    NaN    NaN  \n",
       "2021-08          NaN    NaN    NaN    NaN  \n",
       "2021-09          NaN    NaN    NaN    NaN  \n",
       "2021-10          NaN    NaN    NaN    NaN  \n",
       "2021-11          NaN    NaN    NaN    NaN  \n",
       "2021-12          NaN    NaN    NaN    NaN  "
      ]
     },
     "execution_count": 25,
     "metadata": {},
     "output_type": "execute_result"
    }
   ],
   "source": [
    "cohort_pivot = df_cohort.pivot_table(index = 'cohort',\n",
    "                                     columns = 'period_number',\n",
    "                                     values = 'n_customers')\n",
    "cohort_pivot"
   ]
  },
  {
   "cell_type": "markdown",
   "metadata": {},
   "source": [
    "### 2.5 Retention matrix"
   ]
  },
  {
   "cell_type": "markdown",
   "metadata": {},
   "source": [
    "Obtaining the pivot table, the retention matrix can be generated by dividing each row by the cohort size, which corresponds to the first column that contains the total number of customers for their first purchase."
   ]
  },
  {
   "cell_type": "code",
   "execution_count": 26,
   "metadata": {},
   "outputs": [
    {
     "data": {
      "text/html": [
       "<div>\n",
       "<style scoped>\n",
       "    .dataframe tbody tr th:only-of-type {\n",
       "        vertical-align: middle;\n",
       "    }\n",
       "\n",
       "    .dataframe tbody tr th {\n",
       "        vertical-align: top;\n",
       "    }\n",
       "\n",
       "    .dataframe thead th {\n",
       "        text-align: right;\n",
       "    }\n",
       "</style>\n",
       "<table border=\"1\" class=\"dataframe\">\n",
       "  <thead>\n",
       "    <tr style=\"text-align: right;\">\n",
       "      <th>period_number</th>\n",
       "      <th>0</th>\n",
       "      <th>1</th>\n",
       "      <th>2</th>\n",
       "      <th>3</th>\n",
       "      <th>4</th>\n",
       "      <th>5</th>\n",
       "      <th>6</th>\n",
       "      <th>7</th>\n",
       "      <th>8</th>\n",
       "      <th>9</th>\n",
       "      <th>10</th>\n",
       "      <th>11</th>\n",
       "      <th>12</th>\n",
       "    </tr>\n",
       "    <tr>\n",
       "      <th>cohort</th>\n",
       "      <th></th>\n",
       "      <th></th>\n",
       "      <th></th>\n",
       "      <th></th>\n",
       "      <th></th>\n",
       "      <th></th>\n",
       "      <th></th>\n",
       "      <th></th>\n",
       "      <th></th>\n",
       "      <th></th>\n",
       "      <th></th>\n",
       "      <th></th>\n",
       "      <th></th>\n",
       "    </tr>\n",
       "  </thead>\n",
       "  <tbody>\n",
       "    <tr>\n",
       "      <th>2020-12</th>\n",
       "      <td>1.0</td>\n",
       "      <td>0.366102</td>\n",
       "      <td>0.323164</td>\n",
       "      <td>0.384181</td>\n",
       "      <td>0.362712</td>\n",
       "      <td>0.397740</td>\n",
       "      <td>0.362712</td>\n",
       "      <td>0.349153</td>\n",
       "      <td>0.353672</td>\n",
       "      <td>0.395480</td>\n",
       "      <td>0.374011</td>\n",
       "      <td>0.502825</td>\n",
       "      <td>0.265537</td>\n",
       "    </tr>\n",
       "    <tr>\n",
       "      <th>2021-01</th>\n",
       "      <td>1.0</td>\n",
       "      <td>0.220624</td>\n",
       "      <td>0.266187</td>\n",
       "      <td>0.230216</td>\n",
       "      <td>0.321343</td>\n",
       "      <td>0.287770</td>\n",
       "      <td>0.247002</td>\n",
       "      <td>0.242206</td>\n",
       "      <td>0.299760</td>\n",
       "      <td>0.326139</td>\n",
       "      <td>0.364508</td>\n",
       "      <td>0.117506</td>\n",
       "      <td>NaN</td>\n",
       "    </tr>\n",
       "    <tr>\n",
       "      <th>2021-02</th>\n",
       "      <td>1.0</td>\n",
       "      <td>0.186842</td>\n",
       "      <td>0.186842</td>\n",
       "      <td>0.284211</td>\n",
       "      <td>0.271053</td>\n",
       "      <td>0.247368</td>\n",
       "      <td>0.252632</td>\n",
       "      <td>0.278947</td>\n",
       "      <td>0.247368</td>\n",
       "      <td>0.305263</td>\n",
       "      <td>0.068421</td>\n",
       "      <td>NaN</td>\n",
       "      <td>NaN</td>\n",
       "    </tr>\n",
       "    <tr>\n",
       "      <th>2021-03</th>\n",
       "      <td>1.0</td>\n",
       "      <td>0.150442</td>\n",
       "      <td>0.252212</td>\n",
       "      <td>0.199115</td>\n",
       "      <td>0.223451</td>\n",
       "      <td>0.168142</td>\n",
       "      <td>0.267699</td>\n",
       "      <td>0.230088</td>\n",
       "      <td>0.278761</td>\n",
       "      <td>0.086283</td>\n",
       "      <td>NaN</td>\n",
       "      <td>NaN</td>\n",
       "      <td>NaN</td>\n",
       "    </tr>\n",
       "    <tr>\n",
       "      <th>2021-04</th>\n",
       "      <td>1.0</td>\n",
       "      <td>0.213333</td>\n",
       "      <td>0.203333</td>\n",
       "      <td>0.210000</td>\n",
       "      <td>0.196667</td>\n",
       "      <td>0.226667</td>\n",
       "      <td>0.216667</td>\n",
       "      <td>0.260000</td>\n",
       "      <td>0.073333</td>\n",
       "      <td>NaN</td>\n",
       "      <td>NaN</td>\n",
       "      <td>NaN</td>\n",
       "      <td>NaN</td>\n",
       "    </tr>\n",
       "    <tr>\n",
       "      <th>2021-05</th>\n",
       "      <td>1.0</td>\n",
       "      <td>0.190141</td>\n",
       "      <td>0.172535</td>\n",
       "      <td>0.172535</td>\n",
       "      <td>0.207746</td>\n",
       "      <td>0.232394</td>\n",
       "      <td>0.264085</td>\n",
       "      <td>0.095070</td>\n",
       "      <td>NaN</td>\n",
       "      <td>NaN</td>\n",
       "      <td>NaN</td>\n",
       "      <td>NaN</td>\n",
       "      <td>NaN</td>\n",
       "    </tr>\n",
       "    <tr>\n",
       "      <th>2021-06</th>\n",
       "      <td>1.0</td>\n",
       "      <td>0.173554</td>\n",
       "      <td>0.157025</td>\n",
       "      <td>0.264463</td>\n",
       "      <td>0.231405</td>\n",
       "      <td>0.334711</td>\n",
       "      <td>0.095041</td>\n",
       "      <td>NaN</td>\n",
       "      <td>NaN</td>\n",
       "      <td>NaN</td>\n",
       "      <td>NaN</td>\n",
       "      <td>NaN</td>\n",
       "      <td>NaN</td>\n",
       "    </tr>\n",
       "    <tr>\n",
       "      <th>2021-07</th>\n",
       "      <td>1.0</td>\n",
       "      <td>0.180851</td>\n",
       "      <td>0.207447</td>\n",
       "      <td>0.223404</td>\n",
       "      <td>0.271277</td>\n",
       "      <td>0.111702</td>\n",
       "      <td>NaN</td>\n",
       "      <td>NaN</td>\n",
       "      <td>NaN</td>\n",
       "      <td>NaN</td>\n",
       "      <td>NaN</td>\n",
       "      <td>NaN</td>\n",
       "      <td>NaN</td>\n",
       "    </tr>\n",
       "    <tr>\n",
       "      <th>2021-08</th>\n",
       "      <td>1.0</td>\n",
       "      <td>0.207101</td>\n",
       "      <td>0.248521</td>\n",
       "      <td>0.242604</td>\n",
       "      <td>0.124260</td>\n",
       "      <td>NaN</td>\n",
       "      <td>NaN</td>\n",
       "      <td>NaN</td>\n",
       "      <td>NaN</td>\n",
       "      <td>NaN</td>\n",
       "      <td>NaN</td>\n",
       "      <td>NaN</td>\n",
       "      <td>NaN</td>\n",
       "    </tr>\n",
       "    <tr>\n",
       "      <th>2021-09</th>\n",
       "      <td>1.0</td>\n",
       "      <td>0.234114</td>\n",
       "      <td>0.301003</td>\n",
       "      <td>0.113712</td>\n",
       "      <td>NaN</td>\n",
       "      <td>NaN</td>\n",
       "      <td>NaN</td>\n",
       "      <td>NaN</td>\n",
       "      <td>NaN</td>\n",
       "      <td>NaN</td>\n",
       "      <td>NaN</td>\n",
       "      <td>NaN</td>\n",
       "      <td>NaN</td>\n",
       "    </tr>\n",
       "    <tr>\n",
       "      <th>2021-10</th>\n",
       "      <td>1.0</td>\n",
       "      <td>0.240223</td>\n",
       "      <td>0.114525</td>\n",
       "      <td>NaN</td>\n",
       "      <td>NaN</td>\n",
       "      <td>NaN</td>\n",
       "      <td>NaN</td>\n",
       "      <td>NaN</td>\n",
       "      <td>NaN</td>\n",
       "      <td>NaN</td>\n",
       "      <td>NaN</td>\n",
       "      <td>NaN</td>\n",
       "      <td>NaN</td>\n",
       "    </tr>\n",
       "    <tr>\n",
       "      <th>2021-11</th>\n",
       "      <td>1.0</td>\n",
       "      <td>0.111111</td>\n",
       "      <td>NaN</td>\n",
       "      <td>NaN</td>\n",
       "      <td>NaN</td>\n",
       "      <td>NaN</td>\n",
       "      <td>NaN</td>\n",
       "      <td>NaN</td>\n",
       "      <td>NaN</td>\n",
       "      <td>NaN</td>\n",
       "      <td>NaN</td>\n",
       "      <td>NaN</td>\n",
       "      <td>NaN</td>\n",
       "    </tr>\n",
       "    <tr>\n",
       "      <th>2021-12</th>\n",
       "      <td>1.0</td>\n",
       "      <td>NaN</td>\n",
       "      <td>NaN</td>\n",
       "      <td>NaN</td>\n",
       "      <td>NaN</td>\n",
       "      <td>NaN</td>\n",
       "      <td>NaN</td>\n",
       "      <td>NaN</td>\n",
       "      <td>NaN</td>\n",
       "      <td>NaN</td>\n",
       "      <td>NaN</td>\n",
       "      <td>NaN</td>\n",
       "      <td>NaN</td>\n",
       "    </tr>\n",
       "  </tbody>\n",
       "</table>\n",
       "</div>"
      ],
      "text/plain": [
       "period_number   0         1         2         3         4         5   \\\n",
       "cohort                                                                 \n",
       "2020-12        1.0  0.366102  0.323164  0.384181  0.362712  0.397740   \n",
       "2021-01        1.0  0.220624  0.266187  0.230216  0.321343  0.287770   \n",
       "2021-02        1.0  0.186842  0.186842  0.284211  0.271053  0.247368   \n",
       "2021-03        1.0  0.150442  0.252212  0.199115  0.223451  0.168142   \n",
       "2021-04        1.0  0.213333  0.203333  0.210000  0.196667  0.226667   \n",
       "2021-05        1.0  0.190141  0.172535  0.172535  0.207746  0.232394   \n",
       "2021-06        1.0  0.173554  0.157025  0.264463  0.231405  0.334711   \n",
       "2021-07        1.0  0.180851  0.207447  0.223404  0.271277  0.111702   \n",
       "2021-08        1.0  0.207101  0.248521  0.242604  0.124260       NaN   \n",
       "2021-09        1.0  0.234114  0.301003  0.113712       NaN       NaN   \n",
       "2021-10        1.0  0.240223  0.114525       NaN       NaN       NaN   \n",
       "2021-11        1.0  0.111111       NaN       NaN       NaN       NaN   \n",
       "2021-12        1.0       NaN       NaN       NaN       NaN       NaN   \n",
       "\n",
       "period_number        6         7         8         9         10        11  \\\n",
       "cohort                                                                      \n",
       "2020-12        0.362712  0.349153  0.353672  0.395480  0.374011  0.502825   \n",
       "2021-01        0.247002  0.242206  0.299760  0.326139  0.364508  0.117506   \n",
       "2021-02        0.252632  0.278947  0.247368  0.305263  0.068421       NaN   \n",
       "2021-03        0.267699  0.230088  0.278761  0.086283       NaN       NaN   \n",
       "2021-04        0.216667  0.260000  0.073333       NaN       NaN       NaN   \n",
       "2021-05        0.264085  0.095070       NaN       NaN       NaN       NaN   \n",
       "2021-06        0.095041       NaN       NaN       NaN       NaN       NaN   \n",
       "2021-07             NaN       NaN       NaN       NaN       NaN       NaN   \n",
       "2021-08             NaN       NaN       NaN       NaN       NaN       NaN   \n",
       "2021-09             NaN       NaN       NaN       NaN       NaN       NaN   \n",
       "2021-10             NaN       NaN       NaN       NaN       NaN       NaN   \n",
       "2021-11             NaN       NaN       NaN       NaN       NaN       NaN   \n",
       "2021-12             NaN       NaN       NaN       NaN       NaN       NaN   \n",
       "\n",
       "period_number        12  \n",
       "cohort                   \n",
       "2020-12        0.265537  \n",
       "2021-01             NaN  \n",
       "2021-02             NaN  \n",
       "2021-03             NaN  \n",
       "2021-04             NaN  \n",
       "2021-05             NaN  \n",
       "2021-06             NaN  \n",
       "2021-07             NaN  \n",
       "2021-08             NaN  \n",
       "2021-09             NaN  \n",
       "2021-10             NaN  \n",
       "2021-11             NaN  \n",
       "2021-12             NaN  "
      ]
     },
     "execution_count": 26,
     "metadata": {},
     "output_type": "execute_result"
    }
   ],
   "source": [
    "cohort_size = cohort_pivot.iloc[:,0]\n",
    "retention_matrix = cohort_pivot.divide(cohort_size, axis = 0)\n",
    "retention_matrix\n"
   ]
  },
  {
   "cell_type": "markdown",
   "metadata": {},
   "source": [
    "### 2.6 Retention matrix analysis"
   ]
  },
  {
   "cell_type": "code",
   "execution_count": 27,
   "metadata": {},
   "outputs": [
    {
     "data": {
      "image/png": "[encoded data removed]",
      "text/plain": [
       "<Figure size 864x576 with 3 Axes>"
      ]
     },
     "metadata": {},
     "output_type": "display_data"
    }
   ],
   "source": [
    "with sns.axes_style(\"white\"):\n",
    "    fig, ax = plt.subplots(1, 2, figsize=(12, 8), sharey=True, gridspec_kw={'width_ratios': [1, 11]})\n",
    "    \n",
    "# retention matrix\n",
    "    sns.heatmap(retention_matrix, \n",
    "                mask=retention_matrix.isnull(), \n",
    "                annot=True, \n",
    "                fmt='.0%', \n",
    "                cmap='RdYlGn', \n",
    "                ax=ax[1])\n",
    "    ax[1].set_title('Monthly Cohorts: User Retention', fontsize=16)\n",
    "    ax[1].set(xlabel='# of periods',\n",
    "              ylabel='')\n",
    "\n",
    "    # cohort size\n",
    "    cohort_size_df = pd.DataFrame(cohort_size).rename(columns={0: 'cohort_size'})\n",
    "    white_cmap = mcolors.ListedColormap(['white'])\n",
    "    sns.heatmap(cohort_size_df, \n",
    "                annot=True, \n",
    "                cbar=False, \n",
    "                fmt='g', \n",
    "                cmap=white_cmap, \n",
    "                ax=ax[0])\n",
    "\n",
    "    fig.tight_layout()"
   ]
  },
  {
   "cell_type": "markdown",
   "metadata": {},
   "source": [
    "* The retention table tells us that the 2020-12 cohort has higher user retention than subsequent cohorts. \n",
    "* It is observed that in cohort 2220-12 in period 11 there is an increase of 50% retention that may be associated with some strategy, promotion or be associated with Christmas purchases seen in previous visualizations.\n",
    "* In the cohorts after 2020-12, a drop in retention of approximately 80% is observed. and is maintained during the following periods."
   ]
  }
 ],
 "metadata": {
  "interpreter": {
   "hash": "ec38f76fcab742012672535d698c95861923b92492bae042536e8242028f44cd"
  },
  "kernelspec": {
   "display_name": "Python 3.10.3 64-bit",
   "language": "python",
   "name": "python3"
  },
  "language_info": {
   "codemirror_mode": {
    "name": "ipython",
    "version": 3
   },
   "file_extension": ".py",
   "mimetype": "text/x-python",
   "name": "python",
   "nbconvert_exporter": "python",
   "pygments_lexer": "ipython3",
   "version": "3.10.3"
  },
  "orig_nbformat": 4
 },
 "nbformat": 4,
 "nbformat_minor": 2
}
